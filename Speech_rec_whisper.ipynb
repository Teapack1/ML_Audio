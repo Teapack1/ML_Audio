{
 "cells": [
  {
   "cell_type": "code",
   "execution_count": 3,
   "metadata": {},
   "outputs": [],
   "source": [
    "import speech_recognition as sr"
   ]
  },
  {
   "cell_type": "code",
   "execution_count": null,
   "metadata": {},
   "outputs": [],
   "source": [
    "r = sr.Recognizer()\n",
    "while True:\n",
    "    \n",
    "    with sr.Microphone(device_index=1) as source:\n",
    "        r.adjust_for_ambient_noise(source, duration=0.5)\n",
    "        print(\"Say something!\")\n",
    "        audio = r.listen(source)\n",
    "\n",
    "        try:\n",
    "            #print(\"Whisper thinks you said \" + r.recognize_whisper(audio, language=\"english\"))\n",
    "            print(\"Whisper thinks you said \" + r.recognize_whisper(audio))\n",
    "        except sr.UnknownValueError:\n",
    "            print(\"Whisper could not understand audio\")\n",
    "        except sr.RequestError as e:\n",
    "            print(\"Could not request results from Whisper\")\n"
   ]
  },
  {
   "cell_type": "code",
   "execution_count": null,
   "metadata": {},
   "outputs": [],
   "source": [
    "import sounddevice as sd\n",
    "import soundfile as sf\n",
    "import numpy as np\n",
    "import whisper\n",
    "import WhisperMic\n",
    "\n",
    "DURATION = 1\n",
    "SAMPLE_RATE = 16000\n",
    "CHANNELS = 1\n",
    "HOP_LENGTH = 0.5\n",
    "\n",
    "\n",
    "mic = WhisperMic()\n",
    "\n",
    "with sd.InputStream(samplerate=SAMPLE_RATE, channels=CHANNELS) as stream:\n",
    "    buffer = np.zeros(int(SAMPLE_RATE * 1))\n",
    "    print(\"Listening...\")\n",
    "    while True:\n",
    "        audio_chunk, overflowed = stream.read(int(SAMPLE_RATE * HOP_LENGTH))\n",
    "        buffer = np.concatenate((buffer[len(audio_chunk):], audio_chunk.flatten()))\n",
    "        \n",
    "        result = model.transcribe(buffer)           \n",
    "        if result:\n",
    "            print(f\"Predicted Keyword: {result}\")"
   ]
  },
  {
   "cell_type": "code",
   "execution_count": 7,
   "metadata": {},
   "outputs": [],
   "source": [
    "from whisper_mic.whisper_mic import WhisperMic\n",
    "\n",
    "mic = WhisperMic(model=\"tiny\", english=True)\n",
    "result = mic.listen_loop()\n",
    "print(result)"
   ]
  }
 ],
 "metadata": {
  "kernelspec": {
   "display_name": ".venv",
   "language": "python",
   "name": "python3"
  },
  "language_info": {
   "codemirror_mode": {
    "name": "ipython",
    "version": 3
   },
   "file_extension": ".py",
   "mimetype": "text/x-python",
   "name": "python",
   "nbconvert_exporter": "python",
   "pygments_lexer": "ipython3",
   "version": "3.11.4"
  },
  "orig_nbformat": 4
 },
 "nbformat": 4,
 "nbformat_minor": 2
}
