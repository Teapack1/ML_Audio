{
 "cells": [
  {
   "cell_type": "code",
   "execution_count": 6,
   "metadata": {},
   "outputs": [],
   "source": [
    "import numpy as np\n",
    "import librosa\n",
    "import sounddevice as sd\n",
    "from keras.models import load_model\n",
    "from pathlib import Path\n",
    "\n",
    "# Configuration for audio processing and model\n",
    "CONFIG = {\n",
    "    \"model_path\": Path(\"saved_models/mfcc_Classification_Model.keras\"),\n",
    "    \"mappings\": [\n",
    "        \"dog_bark\", \"children_playing\", \"air_conditioner\",\n",
    "        \"street_music\", \"engine_idling\", \"jackhammer\",\n",
    "        \"drilling\", \"siren\", \"car_horn\", \"gun_shot\"\n",
    "    ],\n",
    "    \"num_mfcc\": 40,\n",
    "    \"num_frames\": 63,\n",
    "    \"num_channels\": 1,\n",
    "    \"sample_rate\": 16000,\n",
    "    \"n_fft\": 4 * 40,  # 4 times the num_mfcc\n",
    "    \"hop_length\": int(16000 * 0.01),  # 10% of the sample rate\n",
    "    \"confidence_threshold\": 0.5\n",
    "}\n",
    "\n",
    "class SoundClassificationService:\n",
    "    \n",
    "    _instance = None\n",
    "\n",
    "    def __init__(self, config):\n",
    "        \"\"\"Initialize the service with the given configuration.\"\"\"\n",
    "        self.config = config\n",
    "        self.model = load_model(config[\"model_path\"])\n",
    "        \n",
    "    @classmethod\n",
    "    def get_instance(cls, config=CONFIG):\n",
    "        \"\"\"Singleton method to get the instance of the class.\"\"\"\n",
    "        if cls._instance is None:\n",
    "            cls._instance = cls(config)\n",
    "        return cls._instance\n",
    "    \n",
    "    def preprocess(self, audio):\n",
    "        \"\"\"Process the audio data to match the model's input requirements.\"\"\"\n",
    "        MFCCs = librosa.feature.mfcc(y=audio, sr=self.config[\"sample_rate\"], n_mfcc=self.config[\"num_mfcc\"], n_fft=self.config[\"n_fft\"], hop_length=self.config[\"hop_length\"])\n",
    "        # Adjust MFCCs to required frame size\n",
    "        num_required_mfcc = self.config[\"num_frames\"]\n",
    "        pad_width = num_required_mfcc - MFCCs.shape[1]\n",
    "        if pad_width < 0:\n",
    "            MFCCs = MFCCs[:, :num_required_mfcc]\n",
    "        else:\n",
    "            MFCCs = np.pad(MFCCs, pad_width=((0, 0), (0, pad_width)), mode='constant')\n",
    "        return MFCCs\n",
    "\n",
    "    def predict(self, MFCCs):\n",
    "        \"\"\"Make a prediction based on preprocessed MFCCs.\"\"\"\n",
    "        MFCCs = MFCCs[np.newaxis, ..., np.newaxis]\n",
    "        predictions = self.model.predict(MFCCs)\n",
    "        predicted_index = np.argmax(predictions)\n",
    "        confidence = predictions[0][predicted_index]\n",
    "        if confidence > self.config[\"confidence_threshold\"]:\n",
    "            return self.config[\"mappings\"][predicted_index], confidence\n",
    "        return None\n",
    "\n",
    "    def listen_and_predict(self, duration=1, overlap=0.5):\n",
    "        \"\"\"Listen to live audio and make predictions.\"\"\"\n",
    "        buffer_length = int(self.config[\"sample_rate\"] * duration)\n",
    "        buffer = np.zeros(buffer_length)\n",
    "        try:\n",
    "            with sd.InputStream(samplerate=self.config[\"sample_rate\"], channels=1) as stream:\n",
    "                print(\"Listening... Press Ctrl+C to stop.\")\n",
    "                while True:\n",
    "                    audio_chunk, _ = stream.read(int(self.config[\"sample_rate\"] * overlap))\n",
    "                    buffer = np.roll(buffer, -len(audio_chunk))\n",
    "                    buffer[-len(audio_chunk):] = audio_chunk.flatten()\n",
    "                    MFCCs = self.preprocess(buffer)\n",
    "                    keyword = self.predict(MFCCs)\n",
    "                    if keyword:\n",
    "                        print(f\"Predicted Keyword: {keyword[0]}, at: {keyword[1]*100}%\")\n",
    "        except KeyboardInterrupt:\n",
    "            print(\"Stopped listening.\")\n"
   ]
  },
  {
   "cell_type": "code",
   "execution_count": 7,
   "metadata": {},
   "outputs": [
    {
     "name": "stdout",
     "output_type": "stream",
     "text": [
      "Listening... Press Ctrl+C to stop.\n",
      "1/1 [==============================] - 0s 66ms/step\n",
      "1/1 [==============================] - 0s 18ms/step\n",
      "Predicted Keyword: street_music, at: 51.2614369392395%\n",
      "1/1 [==============================] - 0s 17ms/step\n",
      "Predicted Keyword: street_music, at: 53.25827598571777%\n",
      "1/1 [==============================] - 0s 19ms/step\n",
      "Stopped listening.\n"
     ]
    }
   ],
   "source": [
    "def main():\n",
    "    # Initialize and start the sound classification service\n",
    "    scs = SoundClassificationService.get_instance()\n",
    "    scs.listen_and_predict(duration=1)\n",
    "\n",
    "if __name__ == \"__main__\":\n",
    "    main()"
   ]
  },
  {
   "cell_type": "code",
   "execution_count": null,
   "metadata": {},
   "outputs": [],
   "source": []
  }
 ],
 "metadata": {
  "kernelspec": {
   "display_name": ".venv",
   "language": "python",
   "name": "python3"
  },
  "language_info": {
   "codemirror_mode": {
    "name": "ipython",
    "version": 3
   },
   "file_extension": ".py",
   "mimetype": "text/x-python",
   "name": "python",
   "nbconvert_exporter": "python",
   "pygments_lexer": "ipython3",
   "version": "3.10.11"
  }
 },
 "nbformat": 4,
 "nbformat_minor": 2
}
