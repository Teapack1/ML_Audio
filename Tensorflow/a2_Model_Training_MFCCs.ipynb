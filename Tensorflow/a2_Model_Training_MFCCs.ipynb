{
 "cells": [
  {
   "cell_type": "markdown",
   "metadata": {},
   "source": [
    "<b>Load preprocessed dataset"
   ]
  },
  {
   "cell_type": "code",
   "execution_count": 2,
   "metadata": {},
   "outputs": [],
   "source": [
    "# retrieve the preprocessed data from previous notebook\n",
    "\n",
    "%store -r x_train \n",
    "%store -r x_test \n",
    "%store -r y_train \n",
    "%store -r y_test \n",
    "%store -r yy \n",
    "%store -r le"
   ]
  },
  {
   "cell_type": "code",
   "execution_count": 3,
   "metadata": {},
   "outputs": [],
   "source": [
    "import numpy as np\n",
    "from keras.models import Sequential\n",
    "from keras.layers import Dense, Dropout, Activation, Flatten\n",
    "from keras.layers import Convolution2D, MaxPooling2D, Conv2D, GlobalAveragePooling2D\n",
    "from keras.optimizers import Adam\n",
    "from keras.utils import np_utils\n",
    "from sklearn import metrics\n",
    "\n",
    "num_rows = 40\n",
    "num_columns = 174\n",
    "num_channels = 1"
   ]
  },
  {
   "cell_type": "markdown",
   "metadata": {},
   "source": [
    "**Construct the Model**"
   ]
  },
  {
   "cell_type": "code",
   "execution_count": 4,
   "metadata": {},
   "outputs": [],
   "source": [
    "x_train = x_train.reshape(x_train.shape[0], num_rows, num_columns, num_channels)\n",
    "x_test = x_test.reshape(x_test.shape[0], num_rows, num_columns, num_channels)\n",
    "\n",
    "num_labels = yy.shape[1]\n",
    "filter_size = 2"
   ]
  },
  {
   "cell_type": "code",
   "execution_count": 23,
   "metadata": {},
   "outputs": [],
   "source": [
    "# Construct model \n",
    "model = Sequential()\n",
    "model.add(Conv2D(filters=16, kernel_size=2, input_shape=(num_rows, num_columns, num_channels), activation='relu'))\n",
    "model.add(MaxPooling2D(pool_size=2))\n",
    "model.add(Dropout(0.2))\n",
    "\n",
    "model.add(Conv2D(filters=32, kernel_size=2, activation='relu'))\n",
    "model.add(MaxPooling2D(pool_size=2))\n",
    "model.add(Dropout(0.2))\n",
    "\n",
    "model.add(Conv2D(filters=64, kernel_size=2, activation='relu'))\n",
    "model.add(MaxPooling2D(pool_size=2))\n",
    "model.add(Dropout(0.2))\n",
    "\n",
    "model.add(Conv2D(filters=128, kernel_size=2, activation='relu'))\n",
    "model.add(MaxPooling2D(pool_size=2))\n",
    "model.add(Dropout(0.2))\n",
    "model.add(GlobalAveragePooling2D())\n",
    "\n",
    "model.add(Dense(num_labels, activation='softmax')) "
   ]
  },
  {
   "cell_type": "markdown",
   "metadata": {},
   "source": [
    "**Compile the Model**\n",
    "<p>Loss function - we will use categorical_crossentropy. This is the most common choice for classification. A lower score indicates that the model is performing better.</p>\n",
    "<p>Metrics - we will use the accuracy metric which will allow us to view the accuracy score on the validation data when we train the model.</p>\n",
    "<p>Optimizer - here we will use adam which is a generally good optimizer for many use cases.</p>"
   ]
  },
  {
   "cell_type": "code",
   "execution_count": 24,
   "metadata": {},
   "outputs": [],
   "source": [
    "# Compile the model\n",
    "model.compile(loss='categorical_crossentropy', metrics=['accuracy'], optimizer='adam') "
   ]
  },
  {
   "cell_type": "code",
   "execution_count": 25,
   "metadata": {},
   "outputs": [
    {
     "name": "stdout",
     "output_type": "stream",
     "text": [
      "Model: \"sequential_4\"\n",
      "_________________________________________________________________\n",
      " Layer (type)                Output Shape              Param #   \n",
      "=================================================================\n",
      " conv2d (Conv2D)             (None, 39, 173, 16)       80        \n",
      "                                                                 \n",
      " max_pooling2d (MaxPooling2D  (None, 19, 86, 16)       0         \n",
      " )                                                               \n",
      "                                                                 \n",
      " dropout_4 (Dropout)         (None, 19, 86, 16)        0         \n",
      "                                                                 \n",
      " conv2d_1 (Conv2D)           (None, 18, 85, 32)        2080      \n",
      "                                                                 \n",
      " max_pooling2d_1 (MaxPooling  (None, 9, 42, 32)        0         \n",
      " 2D)                                                             \n",
      "                                                                 \n",
      " dropout_5 (Dropout)         (None, 9, 42, 32)         0         \n",
      "                                                                 \n",
      " conv2d_2 (Conv2D)           (None, 8, 41, 64)         8256      \n",
      "                                                                 \n",
      " max_pooling2d_2 (MaxPooling  (None, 4, 20, 64)        0         \n",
      " 2D)                                                             \n",
      "                                                                 \n",
      " dropout_6 (Dropout)         (None, 4, 20, 64)         0         \n",
      "                                                                 \n",
      " conv2d_3 (Conv2D)           (None, 3, 19, 128)        32896     \n",
      "                                                                 \n",
      " max_pooling2d_3 (MaxPooling  (None, 1, 9, 128)        0         \n",
      " 2D)                                                             \n",
      "                                                                 \n",
      " dropout_7 (Dropout)         (None, 1, 9, 128)         0         \n",
      "                                                                 \n",
      " global_average_pooling2d (G  (None, 128)              0         \n",
      " lobalAveragePooling2D)                                          \n",
      "                                                                 \n",
      " dense_7 (Dense)             (None, 10)                1290      \n",
      "                                                                 \n",
      "=================================================================\n",
      "Total params: 44,602\n",
      "Trainable params: 44,602\n",
      "Non-trainable params: 0\n",
      "_________________________________________________________________\n",
      "55/55 [==============================] - 3s 16ms/step - loss: 16.3369 - accuracy: 0.1116\n",
      "Pre-training accuracy: 11.1620%\n"
     ]
    }
   ],
   "source": [
    "# Display model architecture summary \n",
    "model.summary()\n",
    "\n",
    "# Calculate pre-training accuracy \n",
    "score = model.evaluate(x_test, y_test, verbose=1)\n",
    "accuracy = 100*score[1]\n",
    "\n",
    "print(\"Pre-training accuracy: %.4f%%\" % accuracy)"
   ]
  },
  {
   "cell_type": "markdown",
   "metadata": {},
   "source": [
    "**Training**"
   ]
  },
  {
   "cell_type": "code",
   "execution_count": 26,
   "metadata": {},
   "outputs": [
    {
     "name": "stdout",
     "output_type": "stream",
     "text": [
      "Epoch 1/72\n",
      "28/28 [==============================] - ETA: 0s - loss: 6.5547 - accuracy: 0.1656\n",
      "Epoch 1: val_loss improved from inf to 2.16482, saving model to saved_models\\weights.best.basic_cnn.hdf5\n",
      "28/28 [==============================] - 12s 356ms/step - loss: 6.5547 - accuracy: 0.1656 - val_loss: 2.1648 - val_accuracy: 0.2204\n",
      "Epoch 2/72\n",
      "28/28 [==============================] - ETA: 0s - loss: 2.2246 - accuracy: 0.2525\n",
      "Epoch 2: val_loss improved from 2.16482 to 1.95800, saving model to saved_models\\weights.best.basic_cnn.hdf5\n",
      "28/28 [==============================] - 10s 340ms/step - loss: 2.2246 - accuracy: 0.2525 - val_loss: 1.9580 - val_accuracy: 0.3074\n",
      "Epoch 3/72\n",
      "28/28 [==============================] - ETA: 0s - loss: 1.8451 - accuracy: 0.3445\n",
      "Epoch 3: val_loss improved from 1.95800 to 1.80728, saving model to saved_models\\weights.best.basic_cnn.hdf5\n",
      "28/28 [==============================] - 9s 337ms/step - loss: 1.8451 - accuracy: 0.3445 - val_loss: 1.8073 - val_accuracy: 0.3703\n",
      "Epoch 4/72\n",
      "28/28 [==============================] - ETA: 0s - loss: 1.6340 - accuracy: 0.4233\n",
      "Epoch 4: val_loss improved from 1.80728 to 1.61695, saving model to saved_models\\weights.best.basic_cnn.hdf5\n",
      "28/28 [==============================] - 10s 341ms/step - loss: 1.6340 - accuracy: 0.4233 - val_loss: 1.6170 - val_accuracy: 0.4471\n",
      "Epoch 5/72\n",
      "28/28 [==============================] - ETA: 0s - loss: 1.4970 - accuracy: 0.4744\n",
      "Epoch 5: val_loss improved from 1.61695 to 1.51894, saving model to saved_models\\weights.best.basic_cnn.hdf5\n",
      "28/28 [==============================] - 10s 362ms/step - loss: 1.4970 - accuracy: 0.4744 - val_loss: 1.5189 - val_accuracy: 0.5026\n",
      "Epoch 6/72\n",
      "28/28 [==============================] - ETA: 0s - loss: 1.3911 - accuracy: 0.5147\n",
      "Epoch 6: val_loss improved from 1.51894 to 1.43425, saving model to saved_models\\weights.best.basic_cnn.hdf5\n",
      "28/28 [==============================] - 10s 342ms/step - loss: 1.3911 - accuracy: 0.5147 - val_loss: 1.4342 - val_accuracy: 0.5512\n",
      "Epoch 7/72\n",
      "28/28 [==============================] - ETA: 0s - loss: 1.3155 - accuracy: 0.5304\n",
      "Epoch 7: val_loss improved from 1.43425 to 1.36653, saving model to saved_models\\weights.best.basic_cnn.hdf5\n",
      "28/28 [==============================] - 9s 338ms/step - loss: 1.3155 - accuracy: 0.5304 - val_loss: 1.3665 - val_accuracy: 0.5701\n",
      "Epoch 8/72\n",
      "28/28 [==============================] - ETA: 0s - loss: 1.2656 - accuracy: 0.5520\n",
      "Epoch 8: val_loss improved from 1.36653 to 1.30654, saving model to saved_models\\weights.best.basic_cnn.hdf5\n",
      "28/28 [==============================] - 9s 339ms/step - loss: 1.2656 - accuracy: 0.5520 - val_loss: 1.3065 - val_accuracy: 0.6062\n",
      "Epoch 9/72\n",
      "28/28 [==============================] - ETA: 0s - loss: 1.2063 - accuracy: 0.5691\n",
      "Epoch 9: val_loss improved from 1.30654 to 1.28118, saving model to saved_models\\weights.best.basic_cnn.hdf5\n",
      "28/28 [==============================] - 10s 342ms/step - loss: 1.2063 - accuracy: 0.5691 - val_loss: 1.2812 - val_accuracy: 0.5839\n",
      "Epoch 10/72\n",
      "28/28 [==============================] - ETA: 0s - loss: 1.1575 - accuracy: 0.5937\n",
      "Epoch 10: val_loss improved from 1.28118 to 1.20478, saving model to saved_models\\weights.best.basic_cnn.hdf5\n",
      "28/28 [==============================] - 10s 343ms/step - loss: 1.1575 - accuracy: 0.5937 - val_loss: 1.2048 - val_accuracy: 0.6245\n",
      "Epoch 11/72\n",
      "28/28 [==============================] - ETA: 0s - loss: 1.0961 - accuracy: 0.6198\n",
      "Epoch 11: val_loss improved from 1.20478 to 1.15524, saving model to saved_models\\weights.best.basic_cnn.hdf5\n",
      "28/28 [==============================] - 10s 350ms/step - loss: 1.0961 - accuracy: 0.6198 - val_loss: 1.1552 - val_accuracy: 0.6422\n",
      "Epoch 12/72\n",
      "28/28 [==============================] - ETA: 0s - loss: 1.0420 - accuracy: 0.6385\n",
      "Epoch 12: val_loss improved from 1.15524 to 1.11925, saving model to saved_models\\weights.best.basic_cnn.hdf5\n",
      "28/28 [==============================] - 10s 346ms/step - loss: 1.0420 - accuracy: 0.6385 - val_loss: 1.1192 - val_accuracy: 0.6463\n",
      "Epoch 13/72\n",
      "28/28 [==============================] - ETA: 0s - loss: 1.0020 - accuracy: 0.6576\n",
      "Epoch 13: val_loss improved from 1.11925 to 1.07032, saving model to saved_models\\weights.best.basic_cnn.hdf5\n",
      "28/28 [==============================] - 10s 350ms/step - loss: 1.0020 - accuracy: 0.6576 - val_loss: 1.0703 - val_accuracy: 0.6703\n",
      "Epoch 14/72\n",
      "28/28 [==============================] - ETA: 0s - loss: 0.9690 - accuracy: 0.6654\n",
      "Epoch 14: val_loss improved from 1.07032 to 1.06236, saving model to saved_models\\weights.best.basic_cnn.hdf5\n",
      "28/28 [==============================] - 10s 354ms/step - loss: 0.9690 - accuracy: 0.6654 - val_loss: 1.0624 - val_accuracy: 0.6606\n",
      "Epoch 15/72\n",
      "28/28 [==============================] - ETA: 0s - loss: 0.9249 - accuracy: 0.6869\n",
      "Epoch 15: val_loss improved from 1.06236 to 0.98373, saving model to saved_models\\weights.best.basic_cnn.hdf5\n",
      "28/28 [==============================] - 10s 346ms/step - loss: 0.9249 - accuracy: 0.6869 - val_loss: 0.9837 - val_accuracy: 0.6932\n",
      "Epoch 16/72\n",
      "28/28 [==============================] - ETA: 0s - loss: 0.9131 - accuracy: 0.6848\n",
      "Epoch 16: val_loss improved from 0.98373 to 0.96477, saving model to saved_models\\weights.best.basic_cnn.hdf5\n",
      "28/28 [==============================] - 10s 340ms/step - loss: 0.9131 - accuracy: 0.6848 - val_loss: 0.9648 - val_accuracy: 0.6857\n",
      "Epoch 17/72\n",
      "28/28 [==============================] - ETA: 0s - loss: 0.8761 - accuracy: 0.7006\n",
      "Epoch 17: val_loss improved from 0.96477 to 0.92084, saving model to saved_models\\weights.best.basic_cnn.hdf5\n",
      "28/28 [==============================] - 10s 353ms/step - loss: 0.8761 - accuracy: 0.7006 - val_loss: 0.9208 - val_accuracy: 0.7132\n",
      "Epoch 18/72\n",
      "28/28 [==============================] - ETA: 0s - loss: 0.8504 - accuracy: 0.7145\n",
      "Epoch 18: val_loss improved from 0.92084 to 0.89821, saving model to saved_models\\weights.best.basic_cnn.hdf5\n",
      "28/28 [==============================] - 10s 354ms/step - loss: 0.8504 - accuracy: 0.7145 - val_loss: 0.8982 - val_accuracy: 0.7104\n",
      "Epoch 19/72\n",
      "28/28 [==============================] - ETA: 0s - loss: 0.8266 - accuracy: 0.7190\n",
      "Epoch 19: val_loss improved from 0.89821 to 0.85912, saving model to saved_models\\weights.best.basic_cnn.hdf5\n",
      "28/28 [==============================] - 10s 361ms/step - loss: 0.8266 - accuracy: 0.7190 - val_loss: 0.8591 - val_accuracy: 0.7281\n",
      "Epoch 20/72\n",
      "28/28 [==============================] - ETA: 0s - loss: 0.8149 - accuracy: 0.7263\n",
      "Epoch 20: val_loss improved from 0.85912 to 0.82667, saving model to saved_models\\weights.best.basic_cnn.hdf5\n",
      "28/28 [==============================] - 10s 364ms/step - loss: 0.8149 - accuracy: 0.7263 - val_loss: 0.8267 - val_accuracy: 0.7396\n",
      "Epoch 21/72\n",
      "28/28 [==============================] - ETA: 0s - loss: 0.7905 - accuracy: 0.7329\n",
      "Epoch 21: val_loss did not improve from 0.82667\n",
      "28/28 [==============================] - 10s 353ms/step - loss: 0.7905 - accuracy: 0.7329 - val_loss: 0.8478 - val_accuracy: 0.7218\n",
      "Epoch 22/72\n",
      "28/28 [==============================] - ETA: 0s - loss: 0.7568 - accuracy: 0.7393\n",
      "Epoch 22: val_loss improved from 0.82667 to 0.78439, saving model to saved_models\\weights.best.basic_cnn.hdf5\n",
      "28/28 [==============================] - 10s 368ms/step - loss: 0.7568 - accuracy: 0.7393 - val_loss: 0.7844 - val_accuracy: 0.7624\n",
      "Epoch 23/72\n",
      "28/28 [==============================] - ETA: 0s - loss: 0.7358 - accuracy: 0.7467\n",
      "Epoch 23: val_loss improved from 0.78439 to 0.77043, saving model to saved_models\\weights.best.basic_cnn.hdf5\n",
      "28/28 [==============================] - 10s 363ms/step - loss: 0.7358 - accuracy: 0.7467 - val_loss: 0.7704 - val_accuracy: 0.7613\n",
      "Epoch 24/72\n",
      "28/28 [==============================] - ETA: 0s - loss: 0.7339 - accuracy: 0.7459\n",
      "Epoch 24: val_loss did not improve from 0.77043\n",
      "28/28 [==============================] - 10s 352ms/step - loss: 0.7339 - accuracy: 0.7459 - val_loss: 0.7987 - val_accuracy: 0.7413\n",
      "Epoch 25/72\n",
      "28/28 [==============================] - ETA: 0s - loss: 0.7206 - accuracy: 0.7503\n",
      "Epoch 25: val_loss improved from 0.77043 to 0.73467, saving model to saved_models\\weights.best.basic_cnn.hdf5\n",
      "28/28 [==============================] - 10s 359ms/step - loss: 0.7206 - accuracy: 0.7503 - val_loss: 0.7347 - val_accuracy: 0.7642\n",
      "Epoch 26/72\n",
      "28/28 [==============================] - ETA: 0s - loss: 0.6821 - accuracy: 0.7742\n",
      "Epoch 26: val_loss improved from 0.73467 to 0.71899, saving model to saved_models\\weights.best.basic_cnn.hdf5\n",
      "28/28 [==============================] - 10s 360ms/step - loss: 0.6821 - accuracy: 0.7742 - val_loss: 0.7190 - val_accuracy: 0.7619\n",
      "Epoch 27/72\n",
      "28/28 [==============================] - ETA: 0s - loss: 0.6765 - accuracy: 0.7739\n",
      "Epoch 27: val_loss improved from 0.71899 to 0.69352, saving model to saved_models\\weights.best.basic_cnn.hdf5\n",
      "28/28 [==============================] - 10s 360ms/step - loss: 0.6765 - accuracy: 0.7739 - val_loss: 0.6935 - val_accuracy: 0.7768\n",
      "Epoch 28/72\n",
      "28/28 [==============================] - ETA: 0s - loss: 0.6865 - accuracy: 0.7656\n",
      "Epoch 28: val_loss did not improve from 0.69352\n",
      "28/28 [==============================] - 10s 353ms/step - loss: 0.6865 - accuracy: 0.7656 - val_loss: 0.7094 - val_accuracy: 0.7750\n",
      "Epoch 29/72\n",
      "28/28 [==============================] - ETA: 0s - loss: 0.6441 - accuracy: 0.7835\n",
      "Epoch 29: val_loss improved from 0.69352 to 0.68751, saving model to saved_models\\weights.best.basic_cnn.hdf5\n",
      "28/28 [==============================] - 10s 347ms/step - loss: 0.6441 - accuracy: 0.7835 - val_loss: 0.6875 - val_accuracy: 0.7882\n",
      "Epoch 30/72\n",
      "28/28 [==============================] - ETA: 0s - loss: 0.6366 - accuracy: 0.7865\n",
      "Epoch 30: val_loss improved from 0.68751 to 0.66325, saving model to saved_models\\weights.best.basic_cnn.hdf5\n",
      "28/28 [==============================] - 10s 350ms/step - loss: 0.6366 - accuracy: 0.7865 - val_loss: 0.6632 - val_accuracy: 0.7842\n",
      "Epoch 31/72\n",
      "28/28 [==============================] - ETA: 0s - loss: 0.6407 - accuracy: 0.7877\n",
      "Epoch 31: val_loss did not improve from 0.66325\n",
      "28/28 [==============================] - 10s 347ms/step - loss: 0.6407 - accuracy: 0.7877 - val_loss: 0.6690 - val_accuracy: 0.7836\n",
      "Epoch 32/72\n",
      "28/28 [==============================] - ETA: 0s - loss: 0.6096 - accuracy: 0.7908\n",
      "Epoch 32: val_loss improved from 0.66325 to 0.62516, saving model to saved_models\\weights.best.basic_cnn.hdf5\n",
      "28/28 [==============================] - 10s 348ms/step - loss: 0.6096 - accuracy: 0.7908 - val_loss: 0.6252 - val_accuracy: 0.8025\n",
      "Epoch 33/72\n",
      "28/28 [==============================] - ETA: 0s - loss: 0.6057 - accuracy: 0.7980\n",
      "Epoch 33: val_loss did not improve from 0.62516\n",
      "28/28 [==============================] - 10s 347ms/step - loss: 0.6057 - accuracy: 0.7980 - val_loss: 0.6517 - val_accuracy: 0.7991\n",
      "Epoch 34/72\n",
      "28/28 [==============================] - ETA: 0s - loss: 0.6046 - accuracy: 0.7951\n",
      "Epoch 34: val_loss improved from 0.62516 to 0.61558, saving model to saved_models\\weights.best.basic_cnn.hdf5\n",
      "28/28 [==============================] - 10s 348ms/step - loss: 0.6046 - accuracy: 0.7951 - val_loss: 0.6156 - val_accuracy: 0.8048\n",
      "Epoch 35/72\n",
      "28/28 [==============================] - ETA: 0s - loss: 0.5839 - accuracy: 0.8034\n",
      "Epoch 35: val_loss did not improve from 0.61558\n",
      "28/28 [==============================] - 10s 349ms/step - loss: 0.5839 - accuracy: 0.8034 - val_loss: 0.6287 - val_accuracy: 0.7985\n",
      "Epoch 36/72\n",
      "28/28 [==============================] - ETA: 0s - loss: 0.5735 - accuracy: 0.8042\n",
      "Epoch 36: val_loss improved from 0.61558 to 0.58294, saving model to saved_models\\weights.best.basic_cnn.hdf5\n",
      "28/28 [==============================] - 10s 349ms/step - loss: 0.5735 - accuracy: 0.8042 - val_loss: 0.5829 - val_accuracy: 0.8163\n",
      "Epoch 37/72\n",
      "28/28 [==============================] - ETA: 0s - loss: 0.5542 - accuracy: 0.8107\n",
      "Epoch 37: val_loss improved from 0.58294 to 0.56807, saving model to saved_models\\weights.best.basic_cnn.hdf5\n",
      "28/28 [==============================] - 10s 349ms/step - loss: 0.5542 - accuracy: 0.8107 - val_loss: 0.5681 - val_accuracy: 0.8243\n",
      "Epoch 38/72\n",
      "28/28 [==============================] - ETA: 0s - loss: 0.5318 - accuracy: 0.8163\n",
      "Epoch 38: val_loss did not improve from 0.56807\n",
      "28/28 [==============================] - 10s 349ms/step - loss: 0.5318 - accuracy: 0.8163 - val_loss: 0.5721 - val_accuracy: 0.8122\n",
      "Epoch 39/72\n",
      "28/28 [==============================] - ETA: 0s - loss: 0.5345 - accuracy: 0.8209\n",
      "Epoch 39: val_loss improved from 0.56807 to 0.54358, saving model to saved_models\\weights.best.basic_cnn.hdf5\n",
      "28/28 [==============================] - 10s 350ms/step - loss: 0.5345 - accuracy: 0.8209 - val_loss: 0.5436 - val_accuracy: 0.8300\n",
      "Epoch 40/72\n",
      "28/28 [==============================] - ETA: 0s - loss: 0.5037 - accuracy: 0.8292\n",
      "Epoch 40: val_loss did not improve from 0.54358\n",
      "28/28 [==============================] - 10s 349ms/step - loss: 0.5037 - accuracy: 0.8292 - val_loss: 0.5645 - val_accuracy: 0.8151\n",
      "Epoch 41/72\n",
      "28/28 [==============================] - ETA: 0s - loss: 0.5112 - accuracy: 0.8286\n",
      "Epoch 41: val_loss did not improve from 0.54358\n",
      "28/28 [==============================] - 10s 348ms/step - loss: 0.5112 - accuracy: 0.8286 - val_loss: 0.5943 - val_accuracy: 0.8071\n",
      "Epoch 42/72\n",
      "28/28 [==============================] - ETA: 0s - loss: 0.4973 - accuracy: 0.8315\n",
      "Epoch 42: val_loss improved from 0.54358 to 0.51344, saving model to saved_models\\weights.best.basic_cnn.hdf5\n",
      "28/28 [==============================] - 10s 349ms/step - loss: 0.4973 - accuracy: 0.8315 - val_loss: 0.5134 - val_accuracy: 0.8386\n",
      "Epoch 43/72\n",
      "28/28 [==============================] - ETA: 0s - loss: 0.4931 - accuracy: 0.8328\n",
      "Epoch 43: val_loss did not improve from 0.51344\n",
      "28/28 [==============================] - 10s 348ms/step - loss: 0.4931 - accuracy: 0.8328 - val_loss: 0.5159 - val_accuracy: 0.8363\n",
      "Epoch 44/72\n",
      "28/28 [==============================] - ETA: 0s - loss: 0.5016 - accuracy: 0.8299\n",
      "Epoch 44: val_loss did not improve from 0.51344\n",
      "28/28 [==============================] - 10s 348ms/step - loss: 0.5016 - accuracy: 0.8299 - val_loss: 0.5195 - val_accuracy: 0.8374\n",
      "Epoch 45/72\n",
      "28/28 [==============================] - ETA: 0s - loss: 0.4739 - accuracy: 0.8411\n",
      "Epoch 45: val_loss improved from 0.51344 to 0.48590, saving model to saved_models\\weights.best.basic_cnn.hdf5\n",
      "28/28 [==============================] - 10s 349ms/step - loss: 0.4739 - accuracy: 0.8411 - val_loss: 0.4859 - val_accuracy: 0.8592\n",
      "Epoch 46/72\n",
      "28/28 [==============================] - ETA: 0s - loss: 0.4539 - accuracy: 0.8448\n",
      "Epoch 46: val_loss improved from 0.48590 to 0.48504, saving model to saved_models\\weights.best.basic_cnn.hdf5\n",
      "28/28 [==============================] - 10s 352ms/step - loss: 0.4539 - accuracy: 0.8448 - val_loss: 0.4850 - val_accuracy: 0.8558\n",
      "Epoch 47/72\n",
      "28/28 [==============================] - ETA: 0s - loss: 0.4438 - accuracy: 0.8470\n",
      "Epoch 47: val_loss did not improve from 0.48504\n",
      "28/28 [==============================] - 10s 348ms/step - loss: 0.4438 - accuracy: 0.8470 - val_loss: 0.4861 - val_accuracy: 0.8460\n",
      "Epoch 48/72\n",
      "28/28 [==============================] - ETA: 0s - loss: 0.4517 - accuracy: 0.8457\n",
      "Epoch 48: val_loss improved from 0.48504 to 0.47465, saving model to saved_models\\weights.best.basic_cnn.hdf5\n",
      "28/28 [==============================] - 10s 351ms/step - loss: 0.4517 - accuracy: 0.8457 - val_loss: 0.4747 - val_accuracy: 0.8523\n",
      "Epoch 49/72\n",
      "28/28 [==============================] - ETA: 0s - loss: 0.4393 - accuracy: 0.8510\n",
      "Epoch 49: val_loss improved from 0.47465 to 0.45074, saving model to saved_models\\weights.best.basic_cnn.hdf5\n",
      "28/28 [==============================] - 10s 349ms/step - loss: 0.4393 - accuracy: 0.8510 - val_loss: 0.4507 - val_accuracy: 0.8678\n",
      "Epoch 50/72\n",
      "28/28 [==============================] - ETA: 0s - loss: 0.4340 - accuracy: 0.8523\n",
      "Epoch 50: val_loss did not improve from 0.45074\n",
      "28/28 [==============================] - 10s 349ms/step - loss: 0.4340 - accuracy: 0.8523 - val_loss: 0.4582 - val_accuracy: 0.8632\n",
      "Epoch 51/72\n",
      "28/28 [==============================] - ETA: 0s - loss: 0.4286 - accuracy: 0.8491\n",
      "Epoch 51: val_loss did not improve from 0.45074\n",
      "28/28 [==============================] - 10s 350ms/step - loss: 0.4286 - accuracy: 0.8491 - val_loss: 0.4523 - val_accuracy: 0.8598\n",
      "Epoch 52/72\n",
      "28/28 [==============================] - ETA: 0s - loss: 0.4251 - accuracy: 0.8545\n",
      "Epoch 52: val_loss improved from 0.45074 to 0.44162, saving model to saved_models\\weights.best.basic_cnn.hdf5\n",
      "28/28 [==============================] - 10s 350ms/step - loss: 0.4251 - accuracy: 0.8545 - val_loss: 0.4416 - val_accuracy: 0.8638\n",
      "Epoch 53/72\n",
      "28/28 [==============================] - ETA: 0s - loss: 0.4210 - accuracy: 0.8553\n",
      "Epoch 53: val_loss did not improve from 0.44162\n",
      "28/28 [==============================] - 10s 354ms/step - loss: 0.4210 - accuracy: 0.8553 - val_loss: 0.4601 - val_accuracy: 0.8632\n",
      "Epoch 54/72\n",
      "28/28 [==============================] - ETA: 0s - loss: 0.3985 - accuracy: 0.8679\n",
      "Epoch 54: val_loss improved from 0.44162 to 0.44086, saving model to saved_models\\weights.best.basic_cnn.hdf5\n",
      "28/28 [==============================] - 10s 349ms/step - loss: 0.3985 - accuracy: 0.8679 - val_loss: 0.4409 - val_accuracy: 0.8638\n",
      "Epoch 55/72\n",
      "28/28 [==============================] - ETA: 0s - loss: 0.3848 - accuracy: 0.8747\n",
      "Epoch 55: val_loss improved from 0.44086 to 0.41324, saving model to saved_models\\weights.best.basic_cnn.hdf5\n",
      "28/28 [==============================] - 10s 348ms/step - loss: 0.3848 - accuracy: 0.8747 - val_loss: 0.4132 - val_accuracy: 0.8724\n",
      "Epoch 56/72\n",
      "28/28 [==============================] - ETA: 0s - loss: 0.3895 - accuracy: 0.8676\n",
      "Epoch 56: val_loss did not improve from 0.41324\n",
      "28/28 [==============================] - 10s 348ms/step - loss: 0.3895 - accuracy: 0.8676 - val_loss: 0.4191 - val_accuracy: 0.8786\n",
      "Epoch 57/72\n",
      "28/28 [==============================] - ETA: 0s - loss: 0.3834 - accuracy: 0.8683\n",
      "Epoch 57: val_loss did not improve from 0.41324\n",
      "28/28 [==============================] - 10s 354ms/step - loss: 0.3834 - accuracy: 0.8683 - val_loss: 0.4149 - val_accuracy: 0.8695\n",
      "Epoch 58/72\n",
      "28/28 [==============================] - ETA: 0s - loss: 0.3757 - accuracy: 0.8702\n",
      "Epoch 58: val_loss improved from 0.41324 to 0.41071, saving model to saved_models\\weights.best.basic_cnn.hdf5\n",
      "28/28 [==============================] - 10s 359ms/step - loss: 0.3757 - accuracy: 0.8702 - val_loss: 0.4107 - val_accuracy: 0.8832\n",
      "Epoch 59/72\n",
      "28/28 [==============================] - ETA: 0s - loss: 0.3732 - accuracy: 0.8712\n",
      "Epoch 59: val_loss did not improve from 0.41071\n",
      "28/28 [==============================] - 10s 344ms/step - loss: 0.3732 - accuracy: 0.8712 - val_loss: 0.4418 - val_accuracy: 0.8632\n",
      "Epoch 60/72\n",
      "28/28 [==============================] - ETA: 0s - loss: 0.3833 - accuracy: 0.8643\n",
      "Epoch 60: val_loss did not improve from 0.41071\n",
      "28/28 [==============================] - 10s 348ms/step - loss: 0.3833 - accuracy: 0.8643 - val_loss: 0.4143 - val_accuracy: 0.8729\n",
      "Epoch 61/72\n",
      "28/28 [==============================] - ETA: 0s - loss: 0.3627 - accuracy: 0.8782\n",
      "Epoch 61: val_loss improved from 0.41071 to 0.39841, saving model to saved_models\\weights.best.basic_cnn.hdf5\n",
      "28/28 [==============================] - 10s 345ms/step - loss: 0.3627 - accuracy: 0.8782 - val_loss: 0.3984 - val_accuracy: 0.8775\n",
      "Epoch 62/72\n",
      "28/28 [==============================] - ETA: 0s - loss: 0.3588 - accuracy: 0.8770\n",
      "Epoch 62: val_loss did not improve from 0.39841\n",
      "28/28 [==============================] - 10s 345ms/step - loss: 0.3588 - accuracy: 0.8770 - val_loss: 0.4010 - val_accuracy: 0.8764\n",
      "Epoch 63/72\n",
      "28/28 [==============================] - ETA: 0s - loss: 0.3580 - accuracy: 0.8796\n",
      "Epoch 63: val_loss improved from 0.39841 to 0.38766, saving model to saved_models\\weights.best.basic_cnn.hdf5\n",
      "28/28 [==============================] - 10s 346ms/step - loss: 0.3580 - accuracy: 0.8796 - val_loss: 0.3877 - val_accuracy: 0.8786\n",
      "Epoch 64/72\n",
      "28/28 [==============================] - ETA: 0s - loss: 0.3580 - accuracy: 0.8759\n",
      "Epoch 64: val_loss did not improve from 0.38766\n",
      "28/28 [==============================] - 10s 343ms/step - loss: 0.3580 - accuracy: 0.8759 - val_loss: 0.3982 - val_accuracy: 0.8752\n",
      "Epoch 65/72\n",
      "28/28 [==============================] - ETA: 0s - loss: 0.3466 - accuracy: 0.8846\n",
      "Epoch 65: val_loss improved from 0.38766 to 0.37453, saving model to saved_models\\weights.best.basic_cnn.hdf5\n",
      "28/28 [==============================] - 10s 345ms/step - loss: 0.3466 - accuracy: 0.8846 - val_loss: 0.3745 - val_accuracy: 0.8872\n",
      "Epoch 66/72\n",
      "28/28 [==============================] - ETA: 0s - loss: 0.3451 - accuracy: 0.8817\n",
      "Epoch 66: val_loss did not improve from 0.37453\n",
      "28/28 [==============================] - 10s 343ms/step - loss: 0.3451 - accuracy: 0.8817 - val_loss: 0.3758 - val_accuracy: 0.8792\n",
      "Epoch 67/72\n",
      "28/28 [==============================] - ETA: 0s - loss: 0.3266 - accuracy: 0.8902\n",
      "Epoch 67: val_loss improved from 0.37453 to 0.36494, saving model to saved_models\\weights.best.basic_cnn.hdf5\n",
      "28/28 [==============================] - 10s 343ms/step - loss: 0.3266 - accuracy: 0.8902 - val_loss: 0.3649 - val_accuracy: 0.8912\n",
      "Epoch 68/72\n",
      "28/28 [==============================] - ETA: 0s - loss: 0.3415 - accuracy: 0.8852\n",
      "Epoch 68: val_loss did not improve from 0.36494\n",
      "28/28 [==============================] - 10s 345ms/step - loss: 0.3415 - accuracy: 0.8852 - val_loss: 0.3678 - val_accuracy: 0.8890\n",
      "Epoch 69/72\n",
      "28/28 [==============================] - ETA: 0s - loss: 0.3311 - accuracy: 0.8842\n",
      "Epoch 69: val_loss did not improve from 0.36494\n",
      "28/28 [==============================] - 10s 344ms/step - loss: 0.3311 - accuracy: 0.8842 - val_loss: 0.3658 - val_accuracy: 0.8861\n",
      "Epoch 70/72\n",
      "28/28 [==============================] - ETA: 0s - loss: 0.3195 - accuracy: 0.8916\n",
      "Epoch 70: val_loss did not improve from 0.36494\n",
      "28/28 [==============================] - 10s 343ms/step - loss: 0.3195 - accuracy: 0.8916 - val_loss: 0.3657 - val_accuracy: 0.8901\n",
      "Epoch 71/72\n",
      "28/28 [==============================] - ETA: 0s - loss: 0.3164 - accuracy: 0.8926\n",
      "Epoch 71: val_loss improved from 0.36494 to 0.35761, saving model to saved_models\\weights.best.basic_cnn.hdf5\n",
      "28/28 [==============================] - 10s 346ms/step - loss: 0.3164 - accuracy: 0.8926 - val_loss: 0.3576 - val_accuracy: 0.8861\n",
      "Epoch 72/72\n",
      "28/28 [==============================] - ETA: 0s - loss: 0.3257 - accuracy: 0.8868\n",
      "Epoch 72: val_loss improved from 0.35761 to 0.34155, saving model to saved_models\\weights.best.basic_cnn.hdf5\n",
      "28/28 [==============================] - 10s 343ms/step - loss: 0.3257 - accuracy: 0.8868 - val_loss: 0.3416 - val_accuracy: 0.8998\n",
      "Training completed in time:  0:11:44.845438\n"
     ]
    }
   ],
   "source": [
    "from keras.callbacks import ModelCheckpoint \n",
    "from datetime import datetime \n",
    "\n",
    "num_epochs = 72\n",
    "num_batch_size = 256\n",
    "\n",
    "checkpointer = ModelCheckpoint(filepath='saved_models/weights.best.basic_cnn.hdf5', \n",
    "                               verbose=1, save_best_only=True)\n",
    "start = datetime.now()\n",
    "\n",
    "model.fit(x_train, y_train, batch_size=num_batch_size, epochs=num_epochs, validation_data=(x_test, y_test), callbacks=[checkpointer], verbose=1)\n",
    "\n",
    "\n",
    "duration = datetime.now() - start\n",
    "print(\"Training completed in time: \", duration)"
   ]
  },
  {
   "cell_type": "markdown",
   "metadata": {},
   "source": [
    "**Test the model**"
   ]
  },
  {
   "cell_type": "code",
   "execution_count": 27,
   "metadata": {},
   "outputs": [
    {
     "name": "stdout",
     "output_type": "stream",
     "text": [
      "Training Accuracy:  0.9408733248710632\n",
      "Testing Accuracy:  0.8998282551765442\n"
     ]
    }
   ],
   "source": [
    "# Evaluating the model on the training and testing set\n",
    "score = model.evaluate(x_train, y_train, verbose=0)\n",
    "print(\"Training Accuracy: \", score[1])\n",
    "\n",
    "score = model.evaluate(x_test, y_test, verbose=0)\n",
    "print(\"Testing Accuracy: \", score[1])"
   ]
  },
  {
   "cell_type": "markdown",
   "metadata": {},
   "source": [
    "**Save the Model**"
   ]
  },
  {
   "cell_type": "code",
   "execution_count": 66,
   "metadata": {},
   "outputs": [],
   "source": [
    "model.save('saved_models/MFCC_Classification_Model.keras')"
   ]
  },
  {
   "cell_type": "markdown",
   "metadata": {},
   "source": [
    "**Prediction**"
   ]
  },
  {
   "cell_type": "code",
   "execution_count": 5,
   "metadata": {},
   "outputs": [],
   "source": [
    "import numpy as np\n",
    "import librosa\n",
    "from sklearn.preprocessing import LabelEncoder\n",
    "from keras.utils import to_categorical\n",
    "import os\n",
    "\n",
    "max_pad_len = 174\n",
    "\n",
    "def extract_features(file_name):\n",
    "   \n",
    "    try:\n",
    "        audio, sample_rate = librosa.load(file_name, res_type='kaiser_fast') \n",
    "        mfccs = librosa.feature.mfcc(y=audio, sr=sample_rate, n_mfcc=40)\n",
    "        pad_width = max_pad_len - mfccs.shape[1]\n",
    "        mfccs = np.pad(mfccs, pad_width=((0, 0), (0, pad_width)), mode='constant')\n",
    "        \n",
    "    except Exception as e:\n",
    "        print(\"Error encountered while parsing file: \", file_name)\n",
    "        return None \n",
    "     \n",
    "    return mfccs"
   ]
  },
  {
   "cell_type": "code",
   "execution_count": 6,
   "metadata": {},
   "outputs": [],
   "source": [
    "def print_prediction(file_name):\n",
    "    prediction_feature = extract_features(file_name)\n",
    "    prediction_feature = prediction_feature.reshape(1, num_rows, num_columns, num_channels)\n",
    "\n",
    "    predicted_vector = np.argmax(model.predict(prediction_feature), axis=-1)\n",
    "    predicted_class = le.inverse_transform(predicted_vector) \n",
    "    print(\"The predicted class is:\", predicted_class[0], '\\n') \n",
    "\n",
    "    predicted_proba_vector = model.predict(prediction_feature) \n",
    "    predicted_proba = predicted_proba_vector[0]\n",
    "    for i in range(len(predicted_proba)): \n",
    "        category = le.inverse_transform(np.array([i]))\n",
    "        print(category[0], \"\\t\\t : \", format(predicted_proba[i], '.32f') )"
   ]
  },
  {
   "cell_type": "markdown",
   "metadata": {},
   "source": [
    "**Validation**\n",
    "<p>On new samples<p>"
   ]
  },
  {
   "cell_type": "code",
   "execution_count": 12,
   "metadata": {},
   "outputs": [],
   "source": [
    "from tensorflow.keras.models import load_model\n",
    "model = load_model('saved_models/MFCC_Classification_Model.keras')\n",
    "\n",
    "VAL_DIR = \"D:\\\\Code\\\\ProjectsPython\\\\ML_TrainingGround\\\\ML_Audio\\\\data\\\\UrbanSound8K\\\\validation\""
   ]
  },
  {
   "cell_type": "code",
   "execution_count": 13,
   "metadata": {},
   "outputs": [
    {
     "name": "stdout",
     "output_type": "stream",
     "text": [
      "1/1 [==============================] - 1s 1s/step\n",
      "The predicted class is: drilling \n",
      "\n",
      "1/1 [==============================] - 0s 48ms/step\n",
      "air_conditioner \t\t :  0.00775969773530960083007812500000\n",
      "car_horn \t\t :  0.03981656581163406372070312500000\n",
      "children_playing \t\t :  0.00872580241411924362182617187500\n",
      "dog_bark \t\t :  0.01070435158908367156982421875000\n",
      "drilling \t\t :  0.39637118577957153320312500000000\n",
      "engine_idling \t\t :  0.06566824018955230712890625000000\n",
      "gun_shot \t\t :  0.04042046889662742614746093750000\n",
      "jackhammer \t\t :  0.29831093549728393554687500000000\n",
      "siren \t\t :  0.01266386173665523529052734375000\n",
      "street_music \t\t :  0.11955891549587249755859375000000\n"
     ]
    }
   ],
   "source": [
    "# Class: Air Conditioner\n",
    "filename = os.path.join(VAL_DIR, \"air_conditioner.mp3\")\n",
    "print_prediction(filename)"
   ]
  },
  {
   "cell_type": "code",
   "execution_count": 14,
   "metadata": {},
   "outputs": [
    {
     "name": "stdout",
     "output_type": "stream",
     "text": [
      "1/1 [==============================] - 0s 30ms/step\n",
      "The predicted class is: engine_idling \n",
      "\n",
      "1/1 [==============================] - 0s 30ms/step\n",
      "air_conditioner \t\t :  0.04178266599774360656738281250000\n",
      "car_horn \t\t :  0.04754407703876495361328125000000\n",
      "children_playing \t\t :  0.01624593324959278106689453125000\n",
      "dog_bark \t\t :  0.01987972669303417205810546875000\n",
      "drilling \t\t :  0.02580863609910011291503906250000\n",
      "engine_idling \t\t :  0.82289588451385498046875000000000\n",
      "gun_shot \t\t :  0.00524621084332466125488281250000\n",
      "jackhammer \t\t :  0.01378475688397884368896484375000\n",
      "siren \t\t :  0.00131086620967835187911987304688\n",
      "street_music \t\t :  0.00550126517191529273986816406250\n"
     ]
    }
   ],
   "source": [
    "# Class: Car idle\n",
    "filename = os.path.join(VAL_DIR, \"car_idle.mp3\")\n",
    "print_prediction(filename) "
   ]
  },
  {
   "cell_type": "code",
   "execution_count": 15,
   "metadata": {},
   "outputs": [
    {
     "name": "stdout",
     "output_type": "stream",
     "text": [
      "1/1 [==============================] - 0s 37ms/step\n",
      "The predicted class is: dog_bark \n",
      "\n",
      "1/1 [==============================] - 0s 32ms/step\n",
      "air_conditioner \t\t :  0.00000177171227733197156339883804\n",
      "car_horn \t\t :  0.00404418306425213813781738281250\n",
      "children_playing \t\t :  0.00969238765537738800048828125000\n",
      "dog_bark \t\t :  0.92599302530288696289062500000000\n",
      "drilling \t\t :  0.00105791003443300724029541015625\n",
      "engine_idling \t\t :  0.00887636747211217880249023437500\n",
      "gun_shot \t\t :  0.00688256043940782546997070312500\n",
      "jackhammer \t\t :  0.00015988650557119399309158325195\n",
      "siren \t\t :  0.04185850545763969421386718750000\n",
      "street_music \t\t :  0.00143336842302232980728149414062\n"
     ]
    }
   ],
   "source": [
    "# Class: dog bark\n",
    "filename = os.path.join(VAL_DIR, \"dog_barking.mp3\")\n",
    "print_prediction(filename) "
   ]
  },
  {
   "cell_type": "code",
   "execution_count": 16,
   "metadata": {},
   "outputs": [
    {
     "name": "stdout",
     "output_type": "stream",
     "text": [
      "1/1 [==============================] - 0s 29ms/step\n",
      "The predicted class is: drilling \n",
      "\n",
      "1/1 [==============================] - 0s 41ms/step\n",
      "air_conditioner \t\t :  0.00288114114664494991302490234375\n",
      "car_horn \t\t :  0.00231178663671016693115234375000\n",
      "children_playing \t\t :  0.00000495588255944312550127506256\n",
      "dog_bark \t\t :  0.00000113318719741073437035083771\n",
      "drilling \t\t :  0.98871070146560668945312500000000\n",
      "engine_idling \t\t :  0.00424196571111679077148437500000\n",
      "gun_shot \t\t :  0.00002254247010569088160991668701\n",
      "jackhammer \t\t :  0.00090685067698359489440917968750\n",
      "siren \t\t :  0.00000004880667603401889209635556\n",
      "street_music \t\t :  0.00091891252668574452400207519531\n"
     ]
    }
   ],
   "source": [
    "# Class: drill\n",
    "filename = os.path.join(VAL_DIR, \"drill.mp3\")\n",
    "print_prediction(filename) "
   ]
  },
  {
   "cell_type": "code",
   "execution_count": 17,
   "metadata": {},
   "outputs": [
    {
     "name": "stdout",
     "output_type": "stream",
     "text": [
      "1/1 [==============================] - 0s 30ms/step\n",
      "The predicted class is: drilling \n",
      "\n",
      "1/1 [==============================] - 0s 31ms/step\n",
      "air_conditioner \t\t :  0.00041314447298645973205566406250\n",
      "car_horn \t\t :  0.00989797059446573257446289062500\n",
      "children_playing \t\t :  0.00353560713119804859161376953125\n",
      "dog_bark \t\t :  0.09250296652317047119140625000000\n",
      "drilling \t\t :  0.78502619266510009765625000000000\n",
      "engine_idling \t\t :  0.00046125479275360703468322753906\n",
      "gun_shot \t\t :  0.00016873616550583392381668090820\n",
      "jackhammer \t\t :  0.09566677361726760864257812500000\n",
      "siren \t\t :  0.01040329877287149429321289062500\n",
      "street_music \t\t :  0.00192395353224128484725952148438\n"
     ]
    }
   ],
   "source": [
    "# Class: jackhammer\n",
    "filename = os.path.join(VAL_DIR, \"jackhammer.mp3\")\n",
    "print_prediction(filename) "
   ]
  },
  {
   "cell_type": "code",
   "execution_count": 18,
   "metadata": {},
   "outputs": [
    {
     "name": "stdout",
     "output_type": "stream",
     "text": [
      "1/1 [==============================] - 0s 30ms/step\n",
      "The predicted class is: children_playing \n",
      "\n",
      "1/1 [==============================] - 0s 30ms/step\n",
      "air_conditioner \t\t :  0.00000056856782748582190833985806\n",
      "car_horn \t\t :  0.00284002278931438922882080078125\n",
      "children_playing \t\t :  0.91597360372543334960937500000000\n",
      "dog_bark \t\t :  0.03033817000687122344970703125000\n",
      "drilling \t\t :  0.00001540888115414418280124664307\n",
      "engine_idling \t\t :  0.00018272578017786145210266113281\n",
      "gun_shot \t\t :  0.00000779726997279794886708259583\n",
      "jackhammer \t\t :  0.00000126601707961526699364185333\n",
      "siren \t\t :  0.04929034411907196044921875000000\n",
      "street_music \t\t :  0.00135017675347626209259033203125\n"
     ]
    }
   ],
   "source": [
    "# Class: kids playing\n",
    "filename = os.path.join(VAL_DIR, \"kids_playing.mp3\")\n",
    "print_prediction(filename) "
   ]
  },
  {
   "cell_type": "code",
   "execution_count": 19,
   "metadata": {},
   "outputs": [
    {
     "name": "stdout",
     "output_type": "stream",
     "text": [
      "1/1 [==============================] - 0s 30ms/step\n",
      "The predicted class is: siren \n",
      "\n",
      "1/1 [==============================] - 0s 33ms/step\n",
      "air_conditioner \t\t :  0.00000000000337063775328327874803\n",
      "car_horn \t\t :  0.00000140776705848111305385828018\n",
      "children_playing \t\t :  0.00008175824041245505213737487793\n",
      "dog_bark \t\t :  0.00259436317719519138336181640625\n",
      "drilling \t\t :  0.00000037286602605490770656615496\n",
      "engine_idling \t\t :  0.00000010999154653745790710672736\n",
      "gun_shot \t\t :  0.00000000014435720674388363704566\n",
      "jackhammer \t\t :  0.00000000013746707938633306866905\n",
      "siren \t\t :  0.99731534719467163085937500000000\n",
      "street_music \t\t :  0.00000671627913106931373476982117\n"
     ]
    }
   ],
   "source": [
    "# Class: siren\n",
    "filename = os.path.join(VAL_DIR, \"siren.mp3\")\n",
    "print_prediction(filename) "
   ]
  },
  {
   "cell_type": "code",
   "execution_count": 20,
   "metadata": {},
   "outputs": [
    {
     "name": "stdout",
     "output_type": "stream",
     "text": [
      "1/1 [==============================] - 0s 29ms/step\n",
      "The predicted class is: dog_bark \n",
      "\n",
      "1/1 [==============================] - 0s 31ms/step\n",
      "air_conditioner \t\t :  0.00024132610997185111045837402344\n",
      "car_horn \t\t :  0.00636235438287258148193359375000\n",
      "children_playing \t\t :  0.14681123197078704833984375000000\n",
      "dog_bark \t\t :  0.47498932480812072753906250000000\n",
      "drilling \t\t :  0.00413822336122393608093261718750\n",
      "engine_idling \t\t :  0.00144013238605111837387084960938\n",
      "gun_shot \t\t :  0.07700029760599136352539062500000\n",
      "jackhammer \t\t :  0.23638123273849487304687500000000\n",
      "siren \t\t :  0.01726490631699562072753906250000\n",
      "street_music \t\t :  0.03537097945809364318847656250000\n"
     ]
    }
   ],
   "source": [
    "# Class: street music\n",
    "filename = os.path.join(VAL_DIR, \"street_music.mp3\")\n",
    "print_prediction(filename) "
   ]
  }
 ],
 "metadata": {
  "kernelspec": {
   "display_name": ".venv",
   "language": "python",
   "name": "python3"
  },
  "language_info": {
   "codemirror_mode": {
    "name": "ipython",
    "version": 3
   },
   "file_extension": ".py",
   "mimetype": "text/x-python",
   "name": "python",
   "nbconvert_exporter": "python",
   "pygments_lexer": "ipython3",
   "version": "3.10.11"
  }
 },
 "nbformat": 4,
 "nbformat_minor": 2
}
