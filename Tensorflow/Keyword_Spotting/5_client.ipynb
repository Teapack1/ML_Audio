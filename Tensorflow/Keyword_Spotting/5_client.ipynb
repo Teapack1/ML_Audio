{
 "cells": [
  {
   "cell_type": "code",
   "execution_count": 1,
   "metadata": {},
   "outputs": [
    {
     "ename": "FileNotFoundError",
     "evalue": "[Errno 2] No such file or directory: 'test/left.wav'",
     "output_type": "error",
     "traceback": [
      "\u001b[1;31m---------------------------------------------------------------------------\u001b[0m",
      "\u001b[1;31mFileNotFoundError\u001b[0m                         Traceback (most recent call last)",
      "\u001b[1;32md:\\Code\\ProjectsPython\\ML_TrainingGround\\CustomAudio\\client.ipynb Cell 1\u001b[0m line \u001b[0;36m8\n\u001b[0;32m      <a href='vscode-notebook-cell:/d%3A/Code/ProjectsPython/ML_TrainingGround/CustomAudio/client.ipynb#W1sZmlsZQ%3D%3D?line=3'>4</a>\u001b[0m TEST_AUDIO_FILE_PATH \u001b[39m=\u001b[39m \u001b[39m\"\u001b[39m\u001b[39mtest/left.wav\u001b[39m\u001b[39m\"\u001b[39m\n\u001b[0;32m      <a href='vscode-notebook-cell:/d%3A/Code/ProjectsPython/ML_TrainingGround/CustomAudio/client.ipynb#W1sZmlsZQ%3D%3D?line=5'>6</a>\u001b[0m \u001b[39mif\u001b[39;00m \u001b[39m__name__\u001b[39m \u001b[39m==\u001b[39m \u001b[39m\"\u001b[39m\u001b[39m__main__\u001b[39m\u001b[39m\"\u001b[39m:\n\u001b[1;32m----> <a href='vscode-notebook-cell:/d%3A/Code/ProjectsPython/ML_TrainingGround/CustomAudio/client.ipynb#W1sZmlsZQ%3D%3D?line=7'>8</a>\u001b[0m     audio_file \u001b[39m=\u001b[39m \u001b[39mopen\u001b[39;49m(TEST_AUDIO_FILE_PATH, \u001b[39m\"\u001b[39;49m\u001b[39mrb\u001b[39;49m\u001b[39m\"\u001b[39;49m)\n\u001b[0;32m      <a href='vscode-notebook-cell:/d%3A/Code/ProjectsPython/ML_TrainingGround/CustomAudio/client.ipynb#W1sZmlsZQ%3D%3D?line=8'>9</a>\u001b[0m     values \u001b[39m=\u001b[39m {\u001b[39m\"\u001b[39m\u001b[39mfile\u001b[39m\u001b[39m\"\u001b[39m: (TEST_AUDIO_FILE_PATH, audio_file, \u001b[39m\"\u001b[39m\u001b[39maudio/wav\u001b[39m\u001b[39m\"\u001b[39m)}\n\u001b[0;32m     <a href='vscode-notebook-cell:/d%3A/Code/ProjectsPython/ML_TrainingGround/CustomAudio/client.ipynb#W1sZmlsZQ%3D%3D?line=10'>11</a>\u001b[0m     response \u001b[39m=\u001b[39m requests\u001b[39m.\u001b[39mpost(URL, files\u001b[39m=\u001b[39mvalues)\n",
      "File \u001b[1;32md:\\Code\\ProjectsPython\\ML_TrainingGround\\CustomAudio\\.venv\\Lib\\site-packages\\IPython\\core\\interactiveshell.py:286\u001b[0m, in \u001b[0;36m_modified_open\u001b[1;34m(file, *args, **kwargs)\u001b[0m\n\u001b[0;32m    279\u001b[0m \u001b[39mif\u001b[39;00m file \u001b[39min\u001b[39;00m {\u001b[39m0\u001b[39m, \u001b[39m1\u001b[39m, \u001b[39m2\u001b[39m}:\n\u001b[0;32m    280\u001b[0m     \u001b[39mraise\u001b[39;00m \u001b[39mValueError\u001b[39;00m(\n\u001b[0;32m    281\u001b[0m         \u001b[39mf\u001b[39m\u001b[39m\"\u001b[39m\u001b[39mIPython won\u001b[39m\u001b[39m'\u001b[39m\u001b[39mt let you open fd=\u001b[39m\u001b[39m{\u001b[39;00mfile\u001b[39m}\u001b[39;00m\u001b[39m by default \u001b[39m\u001b[39m\"\u001b[39m\n\u001b[0;32m    282\u001b[0m         \u001b[39m\"\u001b[39m\u001b[39mas it is likely to crash IPython. If you know what you are doing, \u001b[39m\u001b[39m\"\u001b[39m\n\u001b[0;32m    283\u001b[0m         \u001b[39m\"\u001b[39m\u001b[39myou can use builtins\u001b[39m\u001b[39m'\u001b[39m\u001b[39m open.\u001b[39m\u001b[39m\"\u001b[39m\n\u001b[0;32m    284\u001b[0m     )\n\u001b[1;32m--> 286\u001b[0m \u001b[39mreturn\u001b[39;00m io_open(file, \u001b[39m*\u001b[39;49margs, \u001b[39m*\u001b[39;49m\u001b[39m*\u001b[39;49mkwargs)\n",
      "\u001b[1;31mFileNotFoundError\u001b[0m: [Errno 2] No such file or directory: 'test/left.wav'"
     ]
    }
   ],
   "source": [
    "import requests\n",
    "\n",
    "URL = \"http://localhost:5000/predict\"\n",
    "TEST_AUDIO_FILE_PATH = \"testSamples\\\\stop.wav\"\n",
    "\n",
    "if __name__ == \"__main__\":\n",
    "    \n",
    "    audio_file = open(TEST_AUDIO_FILE_PATH, \"rb\")\n",
    "    values = {\"file\": (TEST_AUDIO_FILE_PATH, audio_file, \"audio/wav\")}\n",
    "    \n",
    "    response = requests.post(URL, files=values)\n",
    "    data = response.json()\n",
    "    \n",
    "    print(f\"predicted keyword is: {data['keyword']}\")"
   ]
  },
  {
   "cell_type": "code",
   "execution_count": null,
   "metadata": {},
   "outputs": [],
   "source": []
  }
 ],
 "metadata": {
  "kernelspec": {
   "display_name": ".venv",
   "language": "python",
   "name": "python3"
  },
  "language_info": {
   "codemirror_mode": {
    "name": "ipython",
    "version": 3
   },
   "file_extension": ".py",
   "mimetype": "text/x-python",
   "name": "python",
   "nbconvert_exporter": "python",
   "pygments_lexer": "ipython3",
   "version": "3.11.4"
  },
  "orig_nbformat": 4
 },
 "nbformat": 4,
 "nbformat_minor": 2
}
