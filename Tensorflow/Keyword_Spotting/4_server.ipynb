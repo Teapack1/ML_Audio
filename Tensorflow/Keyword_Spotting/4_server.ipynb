{
 "cells": [
  {
   "cell_type": "code",
   "execution_count": 7,
   "metadata": {},
   "outputs": [],
   "source": [
    "#server\n",
    "\n",
    "#client -> POST request -> server -> prediction -> client\n",
    "from flask import Flask, request, jsonify\n",
    "import uuid\n",
    "#from 3_Inference import Keyword_Spotting_Service\n",
    "import os\n",
    "\n",
    "app = Flask(__name__)"
   ]
  },
  {
   "cell_type": "code",
   "execution_count": 4,
   "metadata": {},
   "outputs": [
    {
     "ename": "SyntaxError",
     "evalue": "invalid syntax (1143637657.py, line 1)",
     "output_type": "error",
     "traceback": [
      "\u001b[1;36m  Cell \u001b[1;32mIn[4], line 1\u001b[1;36m\u001b[0m\n\u001b[1;33m    app Flask(__name__)\u001b[0m\n\u001b[1;37m        ^\u001b[0m\n\u001b[1;31mSyntaxError\u001b[0m\u001b[1;31m:\u001b[0m invalid syntax\n"
     ]
    }
   ],
   "source": [
    "@app.route(\"/predict\", methods=[\"POST\"])\n",
    "def predict():\n",
    "    \n",
    "    # Get audio file and save it\n",
    "    audio_file = request.files[\"file\"]\n",
    "    file_name = str(uuid.uuid4())\n",
    "    audio_file.save(file_name)\n",
    "    \n",
    "    # Invoke keyword spotting service\n",
    "    kss = Keyword_Spotting_Service()\n",
    "    \n",
    "    # make a prediction\n",
    "    predicted_keyword = kss.predict(file_name)\n",
    "    \n",
    "    # remove the audio file\n",
    "    os.remove(file_name)\n",
    "    \n",
    "    # send back the predicted keyword in json format\n",
    "    data = {\"keyword\": predicted_keyword}\n",
    "    return jsonify(data)"
   ]
  },
  {
   "cell_type": "code",
   "execution_count": null,
   "metadata": {},
   "outputs": [],
   "source": [
    "if __name__ == \"__main__\":\n",
    "    app.run(debug=False)"
   ]
  }
 ],
 "metadata": {
  "kernelspec": {
   "display_name": ".venv",
   "language": "python",
   "name": "python3"
  },
  "language_info": {
   "codemirror_mode": {
    "name": "ipython",
    "version": 3
   },
   "file_extension": ".py",
   "mimetype": "text/x-python",
   "name": "python",
   "nbconvert_exporter": "python",
   "pygments_lexer": "ipython3",
   "version": "3.11.4"
  },
  "orig_nbformat": 4
 },
 "nbformat": 4,
 "nbformat_minor": 2
}
