{
 "cells": [
  {
   "cell_type": "markdown",
   "metadata": {},
   "source": [
    "# 1. Import and Install Dependencies"
   ]
  },
  {
   "cell_type": "markdown",
   "metadata": {},
   "source": [
    "## 1.1 Install Dependencies"
   ]
  },
  {
   "cell_type": "code",
   "execution_count": null,
   "metadata": {
    "jupyter": {
     "source_hidden": true
    },
    "tags": []
   },
   "outputs": [],
   "source": [
    "#!pip install tensorflow==2.4.1 tensorflow-gpu==2.4.1 tensorflow-io matplotlib"
   ]
  },
  {
   "cell_type": "markdown",
   "metadata": {},
   "source": [
    "## 1.2 Load Dependencies"
   ]
  },
  {
   "cell_type": "code",
   "execution_count": 32,
   "metadata": {
    "jupyter": {
     "source_hidden": true
    },
    "tags": []
   },
   "outputs": [],
   "source": [
    "import os\n",
    "from matplotlib import pyplot as plt\n",
    "import tensorflow as tf \n",
    "import tensorflow_io as tfio\n",
    "from audio_utils import read_file_properties as auprops\n",
    "import pandas as pd\n",
    "from sklearn.preprocessing import OneHotEncoder\n",
    "import numpy as np\n",
    "import librosa"
   ]
  },
  {
   "cell_type": "markdown",
   "metadata": {},
   "source": [
    "# 2. Build Data Loading Function"
   ]
  },
  {
   "cell_type": "markdown",
   "metadata": {},
   "source": [
    "## 2.1 Define Paths to Files"
   ]
  },
  {
   "cell_type": "code",
   "execution_count": 2,
   "metadata": {
    "jupyter": {
     "source_hidden": true
    },
    "tags": []
   },
   "outputs": [],
   "source": [
    "DATA_DIR = 'data'\n",
    "METADATA = os.path.join(DATA_DIR, \"metadata.csv\")\n",
    "#AUDIO_DIR = os.path.join(DATA_DIR, \"UrbanSound8K\", \"audio\")"
   ]
  },
  {
   "cell_type": "markdown",
   "metadata": {},
   "source": [
    "## Label Encoding"
   ]
  },
  {
   "cell_type": "code",
   "execution_count": 3,
   "metadata": {},
   "outputs": [],
   "source": [
    "label_encoder = OneHotEncoder()\n",
    "\n",
    "classes = os.listdir(DATA_DIR)\n",
    "classes.sort()\n",
    "classes = np.array(classes).reshape(-1, 1)\n",
    "\n",
    "label_encoder.fit(classes)\n",
    "#labels = label_encoder.transform(classes).toarray()\n",
    "#original_data = label_encoder.inverse_transform(labels)\n",
    "\n",
    "def idx2label(idx):\n",
    "    idx_reshaped = idx.reshape(1, -1)\n",
    "    return label_encoder.inverse_transform(idx_reshaped)[0][0]\n",
    "\n",
    "def label2idx(label):\n",
    "    label = np.array(label).reshape(-1, 1)\n",
    "    return label_encoder.transform(label).toarray()[0]"
   ]
  },
  {
   "cell_type": "code",
   "execution_count": 4,
   "metadata": {},
   "outputs": [
    {
     "data": {
      "text/plain": [
       "'Parsed_Capuchinbird_Clips'"
      ]
     },
     "execution_count": 4,
     "metadata": {},
     "output_type": "execute_result"
    }
   ],
   "source": [
    "idx2label(label2idx('Parsed_Capuchinbird_Clips'))"
   ]
  },
  {
   "cell_type": "markdown",
   "metadata": {},
   "source": [
    "## Observe the data"
   ]
  },
  {
   "cell_type": "code",
   "execution_count": 5,
   "metadata": {},
   "outputs": [],
   "source": [
    "CAPUCHIN_FILE = os.path.join('data', 'Parsed_Capuchinbird_Clips', 'XC3776-3.wav')\n",
    "NOT_CAPUCHIN_FILE = os.path.join('data', 'Parsed_Not_Capuchinbird_Clips', 'afternoon-birds-song-in-forest-0.wav'),"
   ]
  },
  {
   "cell_type": "code",
   "execution_count": 6,
   "metadata": {},
   "outputs": [
    {
     "data": {
      "text/plain": [
       "(1, 44100, 16, 0.22295159, 3.0, 132300)"
      ]
     },
     "execution_count": 6,
     "metadata": {},
     "output_type": "execute_result"
    }
   ],
   "source": [
    "auprops(filename=CAPUCHIN_FILE) # num_channels, sample_rate, bit_depth, avg_rms, length_in_seconds, length_in_frames"
   ]
  },
  {
   "cell_type": "code",
   "execution_count": 9,
   "metadata": {},
   "outputs": [
    {
     "name": "stdout",
     "output_type": "stream",
     "text": [
      "Requirement already satisfied: pandas in d:\\code\\projectspython\\ml_trainingground\\ml_audio\\.venv\\lib\\site-packages (2.1.1)\n",
      "Collecting pandas\n",
      "  Downloading pandas-2.1.3-cp310-cp310-win_amd64.whl.metadata (18 kB)\n",
      "Requirement already satisfied: numpy<2,>=1.22.4 in d:\\code\\projectspython\\ml_trainingground\\ml_audio\\.venv\\lib\\site-packages (from pandas) (1.25.2)\n",
      "Requirement already satisfied: python-dateutil>=2.8.2 in d:\\code\\projectspython\\ml_trainingground\\ml_audio\\.venv\\lib\\site-packages (from pandas) (2.8.2)\n",
      "Requirement already satisfied: pytz>=2020.1 in d:\\code\\projectspython\\ml_trainingground\\ml_audio\\.venv\\lib\\site-packages (from pandas) (2023.3.post1)\n",
      "Requirement already satisfied: tzdata>=2022.1 in d:\\code\\projectspython\\ml_trainingground\\ml_audio\\.venv\\lib\\site-packages (from pandas) (2023.3)\n",
      "Requirement already satisfied: six>=1.5 in d:\\code\\projectspython\\ml_trainingground\\ml_audio\\.venv\\lib\\site-packages (from python-dateutil>=2.8.2->pandas) (1.16.0)\n",
      "Downloading pandas-2.1.3-cp310-cp310-win_amd64.whl (10.7 MB)\n",
      "   ---------------------------------------- 0.0/10.7 MB ? eta -:--:--\n",
      "   ---------------------------------------- 0.1/10.7 MB 1.7 MB/s eta 0:00:07\n",
      "   ---------------------------------------- 0.1/10.7 MB 1.7 MB/s eta 0:00:07\n",
      "    --------------------------------------- 0.2/10.7 MB 1.8 MB/s eta 0:00:06\n",
      "    --------------------------------------- 0.2/10.7 MB 1.5 MB/s eta 0:00:07\n",
      "    --------------------------------------- 0.3/10.7 MB 1.6 MB/s eta 0:00:07\n",
      "   - -------------------------------------- 0.3/10.7 MB 1.6 MB/s eta 0:00:07\n",
      "   - -------------------------------------- 0.4/10.7 MB 1.7 MB/s eta 0:00:07\n",
      "   - -------------------------------------- 0.4/10.7 MB 1.5 MB/s eta 0:00:07\n",
      "   - -------------------------------------- 0.5/10.7 MB 1.4 MB/s eta 0:00:08\n",
      "   - -------------------------------------- 0.5/10.7 MB 1.3 MB/s eta 0:00:08\n",
      "   - -------------------------------------- 0.5/10.7 MB 1.4 MB/s eta 0:00:08\n",
      "   -- ------------------------------------- 0.6/10.7 MB 1.4 MB/s eta 0:00:08\n",
      "   -- ------------------------------------- 0.6/10.7 MB 1.3 MB/s eta 0:00:08\n",
      "   -- ------------------------------------- 0.6/10.7 MB 1.3 MB/s eta 0:00:08\n",
      "   -- ------------------------------------- 0.7/10.7 MB 1.3 MB/s eta 0:00:08\n",
      "   -- ------------------------------------- 0.7/10.7 MB 1.3 MB/s eta 0:00:08\n",
      "   -- ------------------------------------- 0.8/10.7 MB 1.3 MB/s eta 0:00:08\n",
      "   --- ------------------------------------ 0.8/10.7 MB 1.3 MB/s eta 0:00:08\n",
      "   --- ------------------------------------ 0.9/10.7 MB 1.3 MB/s eta 0:00:08\n",
      "   --- ------------------------------------ 0.9/10.7 MB 1.3 MB/s eta 0:00:08\n",
      "   --- ------------------------------------ 1.0/10.7 MB 1.3 MB/s eta 0:00:08\n",
      "   --- ------------------------------------ 1.0/10.7 MB 1.3 MB/s eta 0:00:08\n",
      "   --- ------------------------------------ 1.1/10.7 MB 1.3 MB/s eta 0:00:08\n",
      "   ---- ----------------------------------- 1.1/10.7 MB 1.3 MB/s eta 0:00:08\n",
      "   ---- ----------------------------------- 1.2/10.7 MB 1.3 MB/s eta 0:00:08\n",
      "   ---- ----------------------------------- 1.3/10.7 MB 1.4 MB/s eta 0:00:07\n",
      "   ----- ---------------------------------- 1.3/10.7 MB 1.4 MB/s eta 0:00:07\n",
      "   ----- ---------------------------------- 1.5/10.7 MB 1.4 MB/s eta 0:00:07\n",
      "   ----- ---------------------------------- 1.5/10.7 MB 1.5 MB/s eta 0:00:07\n",
      "   ----- ---------------------------------- 1.6/10.7 MB 1.5 MB/s eta 0:00:07\n",
      "   ------ --------------------------------- 1.7/10.7 MB 1.5 MB/s eta 0:00:07\n",
      "   ------ --------------------------------- 1.7/10.7 MB 1.5 MB/s eta 0:00:06\n",
      "   ------ --------------------------------- 1.8/10.7 MB 1.5 MB/s eta 0:00:06\n",
      "   ------ --------------------------------- 1.8/10.7 MB 1.5 MB/s eta 0:00:06\n",
      "   ------- -------------------------------- 1.9/10.7 MB 1.5 MB/s eta 0:00:06\n",
      "   ------- -------------------------------- 2.0/10.7 MB 1.6 MB/s eta 0:00:06\n",
      "   -------- ------------------------------- 2.2/10.7 MB 1.7 MB/s eta 0:00:06\n",
      "   -------- ------------------------------- 2.3/10.7 MB 1.7 MB/s eta 0:00:05\n",
      "   --------- ------------------------------ 2.4/10.7 MB 1.7 MB/s eta 0:00:05\n",
      "   --------- ------------------------------ 2.5/10.7 MB 1.8 MB/s eta 0:00:05\n",
      "   --------- ------------------------------ 2.6/10.7 MB 1.8 MB/s eta 0:00:05\n",
      "   ---------- ----------------------------- 2.8/10.7 MB 1.8 MB/s eta 0:00:05\n",
      "   ---------- ----------------------------- 2.9/10.7 MB 1.9 MB/s eta 0:00:05\n",
      "   ----------- ---------------------------- 3.0/10.7 MB 1.9 MB/s eta 0:00:05\n",
      "   ----------- ---------------------------- 3.1/10.7 MB 1.9 MB/s eta 0:00:04\n",
      "   ----------- ---------------------------- 3.2/10.7 MB 1.9 MB/s eta 0:00:04\n",
      "   ------------ --------------------------- 3.3/10.7 MB 1.9 MB/s eta 0:00:04\n",
      "   ------------ --------------------------- 3.4/10.7 MB 2.0 MB/s eta 0:00:04\n",
      "   ------------- -------------------------- 3.5/10.7 MB 2.0 MB/s eta 0:00:04\n",
      "   ------------- -------------------------- 3.7/10.7 MB 2.1 MB/s eta 0:00:04\n",
      "   -------------- ------------------------- 3.8/10.7 MB 2.1 MB/s eta 0:00:04\n",
      "   -------------- ------------------------- 3.9/10.7 MB 2.1 MB/s eta 0:00:04\n",
      "   --------------- ------------------------ 4.1/10.7 MB 2.1 MB/s eta 0:00:04\n",
      "   --------------- ------------------------ 4.1/10.7 MB 2.2 MB/s eta 0:00:04\n",
      "   --------------- ------------------------ 4.1/10.7 MB 2.2 MB/s eta 0:00:04\n",
      "   --------------- ------------------------ 4.1/10.7 MB 2.2 MB/s eta 0:00:04\n",
      "   ---------------- ----------------------- 4.5/10.7 MB 2.2 MB/s eta 0:00:03\n",
      "   ----------------- ---------------------- 4.7/10.7 MB 2.3 MB/s eta 0:00:03\n",
      "   ------------------ --------------------- 4.8/10.7 MB 2.3 MB/s eta 0:00:03\n",
      "   ------------------ --------------------- 4.9/10.7 MB 2.3 MB/s eta 0:00:03\n",
      "   ------------------ --------------------- 5.0/10.7 MB 2.3 MB/s eta 0:00:03\n",
      "   ------------------- -------------------- 5.2/10.7 MB 2.3 MB/s eta 0:00:03\n",
      "   ------------------- -------------------- 5.3/10.7 MB 2.3 MB/s eta 0:00:03\n",
      "   -------------------- ------------------- 5.4/10.7 MB 2.4 MB/s eta 0:00:03\n",
      "   -------------------- ------------------- 5.6/10.7 MB 2.4 MB/s eta 0:00:03\n",
      "   --------------------- ------------------ 5.7/10.7 MB 2.4 MB/s eta 0:00:03\n",
      "   --------------------- ------------------ 5.8/10.7 MB 2.4 MB/s eta 0:00:03\n",
      "   ---------------------- ----------------- 5.9/10.7 MB 2.4 MB/s eta 0:00:02\n",
      "   ---------------------- ----------------- 6.0/10.7 MB 2.5 MB/s eta 0:00:02\n",
      "   ----------------------- ---------------- 6.2/10.7 MB 2.5 MB/s eta 0:00:02\n",
      "   ----------------------- ---------------- 6.3/10.7 MB 2.5 MB/s eta 0:00:02\n",
      "   ------------------------ --------------- 6.5/10.7 MB 2.5 MB/s eta 0:00:02\n",
      "   ------------------------ --------------- 6.6/10.7 MB 2.5 MB/s eta 0:00:02\n",
      "   ------------------------- -------------- 6.7/10.7 MB 2.5 MB/s eta 0:00:02\n",
      "   ------------------------- -------------- 6.8/10.7 MB 2.6 MB/s eta 0:00:02\n",
      "   -------------------------- ------------- 7.0/10.7 MB 2.6 MB/s eta 0:00:02\n",
      "   -------------------------- ------------- 7.1/10.7 MB 2.6 MB/s eta 0:00:02\n",
      "   --------------------------- ------------ 7.2/10.7 MB 2.6 MB/s eta 0:00:02\n",
      "   --------------------------- ------------ 7.3/10.7 MB 2.6 MB/s eta 0:00:02\n",
      "   ---------------------------- ----------- 7.5/10.7 MB 2.6 MB/s eta 0:00:02\n",
      "   ---------------------------- ----------- 7.6/10.7 MB 2.6 MB/s eta 0:00:02\n",
      "   ----------------------------- ---------- 7.8/10.7 MB 2.6 MB/s eta 0:00:02\n",
      "   ----------------------------- ---------- 7.8/10.7 MB 2.6 MB/s eta 0:00:02\n",
      "   ----------------------------- ---------- 8.0/10.7 MB 2.7 MB/s eta 0:00:02\n",
      "   ------------------------------ --------- 8.1/10.7 MB 2.7 MB/s eta 0:00:01\n",
      "   ------------------------------ --------- 8.2/10.7 MB 2.7 MB/s eta 0:00:01\n",
      "   ------------------------------- -------- 8.3/10.7 MB 2.7 MB/s eta 0:00:01\n",
      "   ------------------------------- -------- 8.4/10.7 MB 2.7 MB/s eta 0:00:01\n",
      "   -------------------------------- ------- 8.6/10.7 MB 2.7 MB/s eta 0:00:01\n",
      "   -------------------------------- ------- 8.7/10.7 MB 2.7 MB/s eta 0:00:01\n",
      "   --------------------------------- ------ 8.8/10.7 MB 2.7 MB/s eta 0:00:01\n",
      "   --------------------------------- ------ 8.9/10.7 MB 2.7 MB/s eta 0:00:01\n",
      "   ---------------------------------- ----- 9.1/10.7 MB 2.7 MB/s eta 0:00:01\n",
      "   ---------------------------------- ----- 9.2/10.7 MB 2.7 MB/s eta 0:00:01\n",
      "   ----------------------------------- ---- 9.3/10.7 MB 2.8 MB/s eta 0:00:01\n",
      "   ----------------------------------- ---- 9.5/10.7 MB 2.8 MB/s eta 0:00:01\n",
      "   ------------------------------------ --- 9.6/10.7 MB 2.8 MB/s eta 0:00:01\n",
      "   ------------------------------------ --- 9.7/10.7 MB 2.8 MB/s eta 0:00:01\n",
      "   ------------------------------------- -- 9.9/10.7 MB 2.8 MB/s eta 0:00:01\n",
      "   ------------------------------------- -- 10.0/10.7 MB 2.8 MB/s eta 0:00:01\n",
      "   ------------------------------------- -- 10.1/10.7 MB 2.8 MB/s eta 0:00:01\n",
      "   -------------------------------------- - 10.3/10.7 MB 2.8 MB/s eta 0:00:01\n",
      "   -------------------------------------- - 10.4/10.7 MB 2.8 MB/s eta 0:00:01\n",
      "   ---------------------------------------  10.5/10.7 MB 2.9 MB/s eta 0:00:01\n",
      "   ---------------------------------------  10.6/10.7 MB 2.9 MB/s eta 0:00:01\n",
      "   ---------------------------------------  10.7/10.7 MB 3.0 MB/s eta 0:00:01\n",
      "   ---------------------------------------- 10.7/10.7 MB 2.9 MB/s eta 0:00:00\n",
      "Installing collected packages: pandas\n",
      "  Attempting uninstall: pandas\n",
      "    Found existing installation: pandas 2.1.1\n",
      "    Uninstalling pandas-2.1.1:\n",
      "      Successfully uninstalled pandas-2.1.1\n",
      "Successfully installed pandas-2.1.3\n"
     ]
    },
    {
     "name": "stderr",
     "output_type": "stream",
     "text": [
      "WARNING: Ignoring invalid distribution - (d:\\code\\projectspython\\ml_trainingground\\ml_audio\\.venv\\lib\\site-packages)\n",
      "WARNING: Ignoring invalid distribution -rotobuf (d:\\code\\projectspython\\ml_trainingground\\ml_audio\\.venv\\lib\\site-packages)\n",
      "WARNING: Ignoring invalid distribution - (d:\\code\\projectspython\\ml_trainingground\\ml_audio\\.venv\\lib\\site-packages)\n",
      "WARNING: Ignoring invalid distribution -rotobuf (d:\\code\\projectspython\\ml_trainingground\\ml_audio\\.venv\\lib\\site-packages)\n",
      "  WARNING: Failed to remove contents in a temporary directory 'D:\\Code\\ProjectsPython\\ML_TrainingGround\\ML_Audio\\.venv\\Lib\\site-packages\\~andas.libs'.\n",
      "  You can safely remove it manually.\n",
      "  WARNING: Failed to remove contents in a temporary directory 'D:\\Code\\ProjectsPython\\ML_TrainingGround\\ML_Audio\\.venv\\Lib\\site-packages\\~andas'.\n",
      "  You can safely remove it manually.\n"
     ]
    }
   ],
   "source": [
    "!pip install --upgrade pandas"
   ]
  },
  {
   "cell_type": "code",
   "execution_count": 28,
   "metadata": {},
   "outputs": [
    {
     "name": "stdout",
     "output_type": "stream",
     "text": [
      "Skipped 0 file. recording_00.mp3\n",
      "Skipped 1 file. recording_01.mp3\n",
      "Skipped 2 file. recording_02.mp3\n",
      "Skipped 3 file. recording_03.mp3\n",
      "Skipped 4 file. recording_04.mp3\n",
      "Skipped 5 file. recording_05.mp3\n",
      "Skipped 6 file. recording_06.mp3\n",
      "Skipped 7 file. recording_07.mp3\n",
      "Skipped 8 file. recording_08.mp3\n",
      "Skipped 9 file. recording_09.mp3\n",
      "Skipped 10 file. recording_10.mp3\n",
      "Skipped 11 file. recording_11.mp3\n",
      "Skipped 12 file. recording_12.mp3\n",
      "Skipped 13 file. recording_13.mp3\n",
      "Skipped 14 file. recording_14.mp3\n",
      "Skipped 15 file. recording_15.mp3\n",
      "Skipped 16 file. recording_16.mp3\n",
      "Skipped 17 file. recording_17.mp3\n",
      "Skipped 18 file. recording_18.mp3\n",
      "Skipped 19 file. recording_19.mp3\n",
      "Skipped 20 file. recording_20.mp3\n",
      "Skipped 21 file. recording_21.mp3\n",
      "Skipped 22 file. recording_22.mp3\n",
      "Skipped 23 file. recording_23.mp3\n",
      "Skipped 24 file. recording_24.mp3\n",
      "Skipped 25 file. recording_25.mp3\n",
      "Skipped 26 file. recording_26.mp3\n",
      "Skipped 27 file. recording_27.mp3\n",
      "Skipped 28 file. recording_28.mp3\n",
      "Skipped 29 file. recording_29.mp3\n",
      "Skipped 30 file. recording_30.mp3\n",
      "Skipped 31 file. recording_31.mp3\n",
      "Skipped 32 file. recording_32.mp3\n",
      "Skipped 33 file. recording_33.mp3\n",
      "Skipped 34 file. recording_34.mp3\n",
      "Skipped 35 file. recording_35.mp3\n",
      "Skipped 36 file. recording_36.mp3\n",
      "Skipped 37 file. recording_37.mp3\n",
      "Skipped 38 file. recording_38.mp3\n",
      "Skipped 39 file. recording_39.mp3\n",
      "Skipped 40 file. recording_40.mp3\n",
      "Skipped 41 file. recording_41.mp3\n",
      "Skipped 42 file. recording_42.mp3\n",
      "Skipped 43 file. recording_43.mp3\n",
      "Skipped 44 file. recording_44.mp3\n",
      "Skipped 45 file. recording_45.mp3\n",
      "Skipped 46 file. recording_46.mp3\n",
      "Skipped 47 file. recording_47.mp3\n",
      "Skipped 48 file. recording_48.mp3\n",
      "Skipped 49 file. recording_49.mp3\n",
      "Skipped 50 file. recording_50.mp3\n",
      "Skipped 51 file. recording_51.mp3\n",
      "Skipped 52 file. recording_52.mp3\n",
      "Skipped 53 file. recording_53.mp3\n",
      "Skipped 54 file. recording_54.mp3\n",
      "Skipped 55 file. recording_55.mp3\n",
      "Skipped 56 file. recording_56.mp3\n",
      "Skipped 57 file. recording_57.mp3\n",
      "Skipped 58 file. recording_58.mp3\n",
      "Skipped 59 file. recording_59.mp3\n",
      "Skipped 60 file. recording_60.mp3\n",
      "Skipped 61 file. recording_61.mp3\n",
      "Skipped 62 file. recording_62.mp3\n",
      "Skipped 63 file. recording_63.mp3\n",
      "Skipped 64 file. recording_64.mp3\n",
      "Skipped 65 file. recording_65.mp3\n",
      "Skipped 66 file. recording_66.mp3\n",
      "Skipped 67 file. recording_67.mp3\n",
      "Skipped 68 file. recording_68.mp3\n",
      "Skipped 69 file. recording_69.mp3\n",
      "Skipped 70 file. recording_70.mp3\n",
      "Skipped 71 file. recording_71.mp3\n",
      "Skipped 72 file. recording_72.mp3\n",
      "Skipped 73 file. recording_73.mp3\n",
      "Skipped 74 file. recording_74.mp3\n",
      "Skipped 75 file. recording_75.mp3\n",
      "Skipped 76 file. recording_76.mp3\n",
      "Skipped 77 file. recording_77.mp3\n",
      "Skipped 78 file. recording_78.mp3\n",
      "Skipped 79 file. recording_79.mp3\n",
      "Skipped 80 file. recording_80.mp3\n",
      "Skipped 81 file. recording_81.mp3\n",
      "Skipped 82 file. recording_82.mp3\n",
      "Skipped 83 file. recording_83.mp3\n",
      "Skipped 84 file. recording_84.mp3\n",
      "Skipped 85 file. recording_85.mp3\n",
      "Skipped 86 file. recording_86.mp3\n",
      "Skipped 87 file. recording_87.mp3\n",
      "Skipped 88 file. recording_88.mp3\n",
      "Skipped 89 file. recording_89.mp3\n",
      "Skipped 90 file. recording_90.mp3\n",
      "Skipped 91 file. recording_91.mp3\n",
      "Skipped 92 file. recording_92.mp3\n",
      "Skipped 93 file. recording_93.mp3\n",
      "Skipped 94 file. recording_94.mp3\n",
      "Skipped 95 file. recording_95.mp3\n",
      "Skipped 96 file. recording_96.mp3\n",
      "Skipped 97 file. recording_97.mp3\n",
      "Skipped 98 file. recording_98.mp3\n",
      "Skipped 99 file. recording_99.mp3\n",
      "Processed 0 file. XC114131-0.wav\n",
      "Processed 1 file. XC114131-1.wav\n",
      "Processed 2 file. XC114131-2.wav\n",
      "Processed 3 file. XC114131-3.wav\n",
      "Processed 4 file. XC114131-4.wav\n",
      "Processed 5 file. XC114132-0.wav\n",
      "Processed 6 file. XC114132-1.wav\n",
      "Processed 7 file. XC114132-2.wav\n",
      "Processed 8 file. XC114132-3.wav\n",
      "Processed 9 file. XC114132-4.wav\n",
      "Processed 10 file. XC114132-5.wav\n",
      "Processed 11 file. XC114132-6.wav\n",
      "Processed 12 file. XC119294-0.wav\n",
      "Processed 13 file. XC16803-0.wav\n",
      "Processed 14 file. XC16803-1.wav\n",
      "Processed 15 file. XC16803-2.wav\n",
      "Processed 16 file. XC16804-0.wav\n",
      "Processed 17 file. XC16804-1.wav\n",
      "Processed 18 file. XC168899-0.wav\n",
      "Processed 19 file. XC178167-0.wav\n",
      "Processed 20 file. XC178167-1.wav\n",
      "Processed 21 file. XC178167-2.wav\n",
      "Processed 22 file. XC178167-3.wav\n",
      "Processed 23 file. XC178168-0.wav\n",
      "Processed 24 file. XC178168-1.wav\n",
      "Processed 25 file. XC178168-2.wav\n",
      "Processed 26 file. XC178168-3.wav\n",
      "Processed 27 file. XC178168-4.wav\n",
      "Processed 28 file. XC178168-5.wav\n",
      "Processed 29 file. XC178168-6.wav\n",
      "Processed 30 file. XC178168-7.wav\n",
      "Processed 31 file. XC201990-0.wav\n",
      "Processed 32 file. XC201990-1.wav\n",
      "Processed 33 file. XC201990-2.wav\n",
      "Processed 34 file. XC201990-3.wav\n",
      "Processed 35 file. XC201990-4.wav\n",
      "Processed 36 file. XC201990-5.wav\n",
      "Processed 37 file. XC216010-0.wav\n",
      "Processed 38 file. XC216010-1.wav\n",
      "Processed 39 file. XC216010-2.wav\n",
      "Processed 40 file. XC216010-3.wav\n",
      "Processed 41 file. XC216010-4.wav\n",
      "Processed 42 file. XC216010-5.wav\n",
      "Processed 43 file. XC216010-6.wav\n",
      "Processed 44 file. XC216010-7.wav\n",
      "Processed 45 file. XC216012-0.wav\n",
      "Processed 46 file. XC216012-1.wav\n",
      "Processed 47 file. XC216012-10.wav\n",
      "Processed 48 file. XC216012-11.wav\n",
      "Processed 49 file. XC216012-12.wav\n",
      "Processed 50 file. XC216012-13.wav\n",
      "Processed 51 file. XC216012-14.wav\n",
      "Processed 52 file. XC216012-15.wav\n",
      "Processed 53 file. XC216012-16.wav\n",
      "Processed 54 file. XC216012-17.wav\n",
      "Processed 55 file. XC216012-18.wav\n",
      "Processed 56 file. XC216012-19.wav\n",
      "Processed 57 file. XC216012-2.wav\n",
      "Processed 58 file. XC216012-20.wav\n",
      "Processed 59 file. XC216012-3.wav\n",
      "Processed 60 file. XC216012-4.wav\n",
      "Processed 61 file. XC216012-5.wav\n",
      "Processed 62 file. XC216012-6.wav\n",
      "Processed 63 file. XC216012-7.wav\n",
      "Processed 64 file. XC216012-8.wav\n",
      "Processed 65 file. XC216012-9.wav\n",
      "Processed 66 file. XC22397-0.wav\n",
      "Processed 67 file. XC22397-1.wav\n",
      "Processed 68 file. XC22397-2.wav\n",
      "Processed 69 file. XC22397-3.wav\n",
      "Processed 70 file. XC22397-4.wav\n",
      "Processed 71 file. XC22397-5.wav\n",
      "Processed 72 file. XC22397-6.wav\n",
      "Processed 73 file. XC22397-7.wav\n",
      "Processed 74 file. XC227468-0.wav\n",
      "Processed 75 file. XC227468-1.wav\n",
      "Processed 76 file. XC227468-2.wav\n",
      "Processed 77 file. XC227468-3.wav\n",
      "Processed 78 file. XC227468-4.wav\n",
      "Processed 79 file. XC227468-5.wav\n",
      "Processed 80 file. XC227469-0.wav\n",
      "Processed 81 file. XC227469-1.wav\n",
      "Processed 82 file. XC227469-2.wav\n",
      "Processed 83 file. XC227469-3.wav\n",
      "Processed 84 file. XC227469-4.wav\n",
      "Processed 85 file. XC227471-0.wav\n",
      "Processed 86 file. XC227471-1.wav\n",
      "Processed 87 file. XC227471-2.wav\n",
      "Processed 88 file. XC227471-3.wav\n",
      "Processed 89 file. XC227471-4.wav\n",
      "Processed 90 file. XC227471-5.wav\n",
      "Processed 91 file. XC227471-6.wav\n",
      "Processed 92 file. XC227471-7.wav\n",
      "Processed 93 file. XC27881-0.wav\n",
      "Processed 94 file. XC27881-1.wav\n",
      "Processed 95 file. XC27881-2.wav\n",
      "Processed 96 file. XC27881-3.wav\n",
      "Processed 97 file. XC27882-0.wav\n",
      "Processed 98 file. XC27882-1.wav\n",
      "Processed 99 file. XC27882-2.wav\n",
      "Processed 100 file. XC27882-3.wav\n",
      "Processed 101 file. XC27882-4.wav\n",
      "Processed 102 file. XC27882-5.wav\n",
      "Processed 103 file. XC27882-6.wav\n",
      "Processed 104 file. XC307385-0.wav\n",
      "Processed 105 file. XC307385-1.wav\n",
      "Processed 106 file. XC307385-2.wav\n",
      "Processed 107 file. XC307385-3.wav\n",
      "Processed 108 file. XC307385-4.wav\n",
      "Processed 109 file. XC3776-0.wav\n",
      "Processed 110 file. XC3776-1.wav\n",
      "Processed 111 file. XC3776-2.wav\n",
      "Processed 112 file. XC3776-3.wav\n",
      "Processed 113 file. XC3776-4.wav\n",
      "Processed 114 file. XC3776-5.wav\n",
      "Processed 115 file. XC3776-6.wav\n",
      "Processed 116 file. XC387509-0.wav\n",
      "Processed 117 file. XC387509-1.wav\n",
      "Processed 118 file. XC387509-2.wav\n",
      "Processed 119 file. XC387509-3.wav\n",
      "Processed 120 file. XC387509-4.wav\n",
      "Processed 121 file. XC387509-5.wav\n",
      "Processed 122 file. XC388470-0.wav\n",
      "Processed 123 file. XC388470-1.wav\n",
      "Processed 124 file. XC388470-2.wav\n",
      "Processed 125 file. XC388470-3.wav\n",
      "Processed 126 file. XC388470-4.wav\n",
      "Processed 127 file. XC388470-5.wav\n",
      "Processed 128 file. XC388470-6.wav\n",
      "Processed 129 file. XC395129-0.wav\n",
      "Processed 130 file. XC395129-1.wav\n",
      "Processed 131 file. XC395129-2.wav\n",
      "Processed 132 file. XC395129-3.wav\n",
      "Processed 133 file. XC395129-4.wav\n",
      "Processed 134 file. XC395129-5.wav\n",
      "Processed 135 file. XC395129-6.wav\n",
      "Processed 136 file. XC401294-0.wav\n",
      "Processed 137 file. XC40355-0.wav\n",
      "Processed 138 file. XC433953-0.wav\n",
      "Processed 139 file. XC433953-1.wav\n",
      "Processed 140 file. XC433953-10.wav\n",
      "Processed 141 file. XC433953-2.wav\n",
      "Processed 142 file. XC433953-3.wav\n",
      "Processed 143 file. XC433953-4.wav\n",
      "Processed 144 file. XC433953-5.wav\n",
      "Processed 145 file. XC433953-6.wav\n",
      "Processed 146 file. XC433953-7.wav\n",
      "Processed 147 file. XC433953-8.wav\n",
      "Processed 148 file. XC433953-9.wav\n",
      "Processed 149 file. XC44070-0.wav\n",
      "Processed 150 file. XC44070-1.wav\n",
      "Processed 151 file. XC44070-2.wav\n",
      "Processed 152 file. XC456236-0.wav\n",
      "Processed 153 file. XC456236-1.wav\n",
      "Processed 154 file. XC456236-2.wav\n",
      "Processed 155 file. XC456236-3.wav\n",
      "Processed 156 file. XC456236-4.wav\n",
      "Processed 157 file. XC456314-0.wav\n",
      "Processed 158 file. XC46077-0.wav\n",
      "Processed 159 file. XC46077-1.wav\n",
      "Processed 160 file. XC46077-2.wav\n",
      "Processed 161 file. XC46241-0.wav\n",
      "Processed 162 file. XC46241-1.wav\n",
      "Processed 163 file. XC46241-2.wav\n",
      "Processed 164 file. XC46241-3.wav\n",
      "Processed 165 file. XC46241-4.wav\n",
      "Processed 166 file. XC46241-5.wav\n",
      "Processed 167 file. XC479556-0.wav\n",
      "Processed 168 file. XC495697-0.wav\n",
      "Processed 169 file. XC495697-1.wav\n",
      "Processed 170 file. XC495697-2.wav\n",
      "Processed 171 file. XC495697-3.wav\n",
      "Processed 172 file. XC495697-4.wav\n",
      "Processed 173 file. XC513083-0.wav\n",
      "Processed 174 file. XC513083-1.wav\n",
      "Processed 175 file. XC513083-2.wav\n",
      "Processed 176 file. XC520626-0.wav\n",
      "Processed 177 file. XC520626-1.wav\n",
      "Processed 178 file. XC520626-2.wav\n",
      "Processed 179 file. XC520626-3.wav\n",
      "Processed 180 file. XC526106-0.wav\n",
      "Processed 181 file. XC526106-1.wav\n",
      "Processed 182 file. XC526106-2.wav\n",
      "Processed 183 file. XC526106-3.wav\n",
      "Processed 184 file. XC526106-4.wav\n",
      "Processed 185 file. XC526106-5.wav\n",
      "Processed 186 file. XC574020-0.wav\n",
      "Processed 187 file. XC574021-0.wav\n",
      "Processed 188 file. XC600460-0.wav\n",
      "Processed 189 file. XC600460-1.wav\n",
      "Processed 190 file. XC600460-2.wav\n",
      "Processed 191 file. XC600460-3.wav\n",
      "Processed 192 file. XC600460-4.wav\n",
      "Processed 193 file. XC600460-5.wav\n",
      "Processed 194 file. XC65195-0.wav\n",
      "Processed 195 file. XC65196-0.wav\n",
      "Processed 196 file. XC65196-1.wav\n",
      "Processed 197 file. XC65196-2.wav\n",
      "Processed 198 file. XC65196-3.wav\n",
      "Processed 199 file. XC65196-4.wav\n",
      "Processed 200 file. XC79965-0.wav\n",
      "Processed 201 file. XC79965-1.wav\n",
      "Processed 202 file. XC79965-10.wav\n",
      "Processed 203 file. XC79965-2.wav\n",
      "Processed 204 file. XC79965-3.wav\n",
      "Processed 205 file. XC79965-4.wav\n",
      "Processed 206 file. XC79965-5.wav\n",
      "Processed 207 file. XC79965-6.wav\n",
      "Processed 208 file. XC79965-7.wav\n",
      "Processed 209 file. XC79965-8.wav\n",
      "Processed 210 file. XC79965-9.wav\n",
      "Processed 211 file. XC9221-0.wav\n",
      "Processed 212 file. XC9221-1.wav\n",
      "Processed 213 file. XC9221-2.wav\n",
      "Processed 214 file. XC98557-0.wav\n",
      "Processed 215 file. XC98557-1.wav\n",
      "Processed 216 file. XC9892-0.wav\n",
      "Processed 0 file. afternoon-birds-song-in-forest-0.wav\n",
      "Processed 1 file. afternoon-birds-song-in-forest-1.wav\n",
      "Processed 2 file. afternoon-birds-song-in-forest-10.wav\n",
      "Processed 3 file. afternoon-birds-song-in-forest-11.wav\n",
      "Processed 4 file. afternoon-birds-song-in-forest-12.wav\n",
      "Processed 5 file. afternoon-birds-song-in-forest-13.wav\n",
      "Processed 6 file. afternoon-birds-song-in-forest-14.wav\n",
      "Processed 7 file. afternoon-birds-song-in-forest-15.wav\n",
      "Processed 8 file. afternoon-birds-song-in-forest-16.wav\n",
      "Processed 9 file. afternoon-birds-song-in-forest-17.wav\n",
      "Processed 10 file. afternoon-birds-song-in-forest-18.wav\n",
      "Processed 11 file. afternoon-birds-song-in-forest-19.wav\n",
      "Processed 12 file. afternoon-birds-song-in-forest-2.wav\n",
      "Processed 13 file. afternoon-birds-song-in-forest-20.wav\n",
      "Processed 14 file. afternoon-birds-song-in-forest-21.wav\n",
      "Processed 15 file. afternoon-birds-song-in-forest-22.wav\n",
      "Processed 16 file. afternoon-birds-song-in-forest-23.wav\n",
      "Processed 17 file. afternoon-birds-song-in-forest-24.wav\n",
      "Processed 18 file. afternoon-birds-song-in-forest-25.wav\n",
      "Processed 19 file. afternoon-birds-song-in-forest-26.wav\n",
      "Processed 20 file. afternoon-birds-song-in-forest-27.wav\n",
      "Processed 21 file. afternoon-birds-song-in-forest-28.wav\n",
      "Processed 22 file. afternoon-birds-song-in-forest-29.wav\n",
      "Processed 23 file. afternoon-birds-song-in-forest-3.wav\n",
      "Processed 24 file. afternoon-birds-song-in-forest-30.wav\n",
      "Processed 25 file. afternoon-birds-song-in-forest-31.wav\n",
      "Processed 26 file. afternoon-birds-song-in-forest-32.wav\n",
      "Processed 27 file. afternoon-birds-song-in-forest-33.wav\n",
      "Processed 28 file. afternoon-birds-song-in-forest-34.wav\n",
      "Processed 29 file. afternoon-birds-song-in-forest-4.wav\n",
      "Processed 30 file. afternoon-birds-song-in-forest-5.wav\n",
      "Processed 31 file. afternoon-birds-song-in-forest-6.wav\n",
      "Processed 32 file. afternoon-birds-song-in-forest-7.wav\n",
      "Processed 33 file. afternoon-birds-song-in-forest-8.wav\n",
      "Processed 34 file. afternoon-birds-song-in-forest-9.wav\n",
      "Processed 35 file. birds-singing-in-forest-sounds-0.wav\n",
      "Processed 36 file. birds-singing-in-forest-sounds-1.wav\n",
      "Processed 37 file. birds-singing-in-forest-sounds-10.wav\n",
      "Processed 38 file. birds-singing-in-forest-sounds-11.wav\n",
      "Processed 39 file. birds-singing-in-forest-sounds-12.wav\n",
      "Processed 40 file. birds-singing-in-forest-sounds-13.wav\n",
      "Processed 41 file. birds-singing-in-forest-sounds-14.wav\n",
      "Processed 42 file. birds-singing-in-forest-sounds-15.wav\n",
      "Processed 43 file. birds-singing-in-forest-sounds-16.wav\n",
      "Processed 44 file. birds-singing-in-forest-sounds-17.wav\n",
      "Processed 45 file. birds-singing-in-forest-sounds-18.wav\n",
      "Processed 46 file. birds-singing-in-forest-sounds-19.wav\n",
      "Processed 47 file. birds-singing-in-forest-sounds-2.wav\n",
      "Processed 48 file. birds-singing-in-forest-sounds-20.wav\n",
      "Processed 49 file. birds-singing-in-forest-sounds-21.wav\n",
      "Processed 50 file. birds-singing-in-forest-sounds-22.wav\n",
      "Processed 51 file. birds-singing-in-forest-sounds-23.wav\n",
      "Processed 52 file. birds-singing-in-forest-sounds-24.wav\n",
      "Processed 53 file. birds-singing-in-forest-sounds-25.wav\n",
      "Processed 54 file. birds-singing-in-forest-sounds-26.wav\n",
      "Processed 55 file. birds-singing-in-forest-sounds-27.wav\n",
      "Processed 56 file. birds-singing-in-forest-sounds-28.wav\n",
      "Processed 57 file. birds-singing-in-forest-sounds-29.wav\n",
      "Processed 58 file. birds-singing-in-forest-sounds-3.wav\n",
      "Processed 59 file. birds-singing-in-forest-sounds-30.wav\n",
      "Processed 60 file. birds-singing-in-forest-sounds-31.wav\n",
      "Processed 61 file. birds-singing-in-forest-sounds-32.wav\n",
      "Processed 62 file. birds-singing-in-forest-sounds-33.wav\n",
      "Processed 63 file. birds-singing-in-forest-sounds-34.wav\n",
      "Processed 64 file. birds-singing-in-forest-sounds-35.wav\n",
      "Processed 65 file. birds-singing-in-forest-sounds-36.wav\n",
      "Processed 66 file. birds-singing-in-forest-sounds-37.wav\n",
      "Processed 67 file. birds-singing-in-forest-sounds-38.wav\n",
      "Processed 68 file. birds-singing-in-forest-sounds-39.wav\n",
      "Processed 69 file. birds-singing-in-forest-sounds-4.wav\n",
      "Processed 70 file. birds-singing-in-forest-sounds-40.wav\n",
      "Processed 71 file. birds-singing-in-forest-sounds-41.wav\n",
      "Processed 72 file. birds-singing-in-forest-sounds-42.wav\n",
      "Processed 73 file. birds-singing-in-forest-sounds-43.wav\n",
      "Processed 74 file. birds-singing-in-forest-sounds-44.wav\n",
      "Processed 75 file. birds-singing-in-forest-sounds-45.wav\n",
      "Processed 76 file. birds-singing-in-forest-sounds-46.wav\n",
      "Processed 77 file. birds-singing-in-forest-sounds-47.wav\n",
      "Processed 78 file. birds-singing-in-forest-sounds-48.wav\n",
      "Processed 79 file. birds-singing-in-forest-sounds-49.wav\n",
      "Processed 80 file. birds-singing-in-forest-sounds-5.wav\n",
      "Processed 81 file. birds-singing-in-forest-sounds-50.wav\n",
      "Processed 82 file. birds-singing-in-forest-sounds-51.wav\n",
      "Processed 83 file. birds-singing-in-forest-sounds-52.wav\n",
      "Processed 84 file. birds-singing-in-forest-sounds-53.wav\n",
      "Processed 85 file. birds-singing-in-forest-sounds-54.wav\n",
      "Processed 86 file. birds-singing-in-forest-sounds-55.wav\n",
      "Processed 87 file. birds-singing-in-forest-sounds-56.wav\n",
      "Processed 88 file. birds-singing-in-forest-sounds-6.wav\n",
      "Processed 89 file. birds-singing-in-forest-sounds-7.wav\n",
      "Processed 90 file. birds-singing-in-forest-sounds-8.wav\n",
      "Processed 91 file. birds-singing-in-forest-sounds-9.wav\n",
      "Processed 92 file. bobwhite-quail-sound-0.wav\n",
      "Processed 93 file. bobwhite-quail-sound-1.wav\n",
      "Processed 94 file. bobwhite-quail-sound-10.wav\n",
      "Processed 95 file. bobwhite-quail-sound-11.wav\n",
      "Processed 96 file. bobwhite-quail-sound-12.wav\n",
      "Processed 97 file. bobwhite-quail-sound-13.wav\n",
      "Processed 98 file. bobwhite-quail-sound-14.wav\n",
      "Processed 99 file. bobwhite-quail-sound-15.wav\n",
      "Processed 100 file. bobwhite-quail-sound-16.wav\n",
      "Processed 101 file. bobwhite-quail-sound-17.wav\n",
      "Processed 102 file. bobwhite-quail-sound-18.wav\n",
      "Processed 103 file. bobwhite-quail-sound-19.wav\n",
      "Processed 104 file. bobwhite-quail-sound-2.wav\n",
      "Processed 105 file. bobwhite-quail-sound-20.wav\n",
      "Processed 106 file. bobwhite-quail-sound-3.wav\n",
      "Processed 107 file. bobwhite-quail-sound-4.wav\n",
      "Processed 108 file. bobwhite-quail-sound-5.wav\n",
      "Processed 109 file. bobwhite-quail-sound-6.wav\n",
      "Processed 110 file. bobwhite-quail-sound-7.wav\n",
      "Processed 111 file. bobwhite-quail-sound-8.wav\n",
      "Processed 112 file. bobwhite-quail-sound-9.wav\n",
      "Processed 113 file. cardinal-bird-call-0.wav\n",
      "Processed 114 file. cardinal-bird-call-1.wav\n",
      "Processed 115 file. cardinal-bird-call-2.wav\n",
      "Processed 116 file. cardinal-bird-call-3.wav\n",
      "Processed 117 file. cicadas-noise-sound-effect-0.wav\n",
      "Processed 118 file. cicadas-noise-sound-effect-1.wav\n",
      "Processed 119 file. cicadas-noise-sound-effect-2.wav\n",
      "Processed 120 file. cicadas-noise-sound-effect-3.wav\n",
      "Processed 121 file. corncrake-sound-0.wav\n",
      "Processed 122 file. corncrake-sound-1.wav\n",
      "Processed 123 file. corncrake-sound-2.wav\n",
      "Processed 124 file. cricket-sounds-for-sleep-0.wav\n",
      "Processed 125 file. cricket-sounds-for-sleep-1.wav\n",
      "Processed 126 file. cricket-sounds-for-sleep-10.wav\n",
      "Processed 127 file. cricket-sounds-for-sleep-11.wav\n",
      "Processed 128 file. cricket-sounds-for-sleep-12.wav\n",
      "Processed 129 file. cricket-sounds-for-sleep-13.wav\n",
      "Processed 130 file. cricket-sounds-for-sleep-14.wav\n",
      "Processed 131 file. cricket-sounds-for-sleep-15.wav\n",
      "Processed 132 file. cricket-sounds-for-sleep-16.wav\n",
      "Processed 133 file. cricket-sounds-for-sleep-17.wav\n",
      "Processed 134 file. cricket-sounds-for-sleep-18.wav\n",
      "Processed 135 file. cricket-sounds-for-sleep-19.wav\n",
      "Processed 136 file. cricket-sounds-for-sleep-2.wav\n",
      "Processed 137 file. cricket-sounds-for-sleep-20.wav\n",
      "Processed 138 file. cricket-sounds-for-sleep-21.wav\n",
      "Processed 139 file. cricket-sounds-for-sleep-22.wav\n",
      "Processed 140 file. cricket-sounds-for-sleep-23.wav\n",
      "Processed 141 file. cricket-sounds-for-sleep-24.wav\n",
      "Processed 142 file. cricket-sounds-for-sleep-25.wav\n",
      "Processed 143 file. cricket-sounds-for-sleep-26.wav\n",
      "Processed 144 file. cricket-sounds-for-sleep-27.wav\n",
      "Processed 145 file. cricket-sounds-for-sleep-28.wav\n",
      "Processed 146 file. cricket-sounds-for-sleep-29.wav\n",
      "Processed 147 file. cricket-sounds-for-sleep-3.wav\n",
      "Processed 148 file. cricket-sounds-for-sleep-30.wav\n",
      "Processed 149 file. cricket-sounds-for-sleep-31.wav\n",
      "Processed 150 file. cricket-sounds-for-sleep-32.wav\n",
      "Processed 151 file. cricket-sounds-for-sleep-33.wav\n",
      "Processed 152 file. cricket-sounds-for-sleep-34.wav\n",
      "Processed 153 file. cricket-sounds-for-sleep-35.wav\n",
      "Processed 154 file. cricket-sounds-for-sleep-36.wav\n",
      "Processed 155 file. cricket-sounds-for-sleep-37.wav\n",
      "Processed 156 file. cricket-sounds-for-sleep-38.wav\n",
      "Processed 157 file. cricket-sounds-for-sleep-39.wav\n",
      "Processed 158 file. cricket-sounds-for-sleep-4.wav\n",
      "Processed 159 file. cricket-sounds-for-sleep-40.wav\n",
      "Processed 160 file. cricket-sounds-for-sleep-41.wav\n",
      "Processed 161 file. cricket-sounds-for-sleep-42.wav\n",
      "Processed 162 file. cricket-sounds-for-sleep-43.wav\n",
      "Processed 163 file. cricket-sounds-for-sleep-44.wav\n",
      "Processed 164 file. cricket-sounds-for-sleep-45.wav\n",
      "Processed 165 file. cricket-sounds-for-sleep-46.wav\n",
      "Processed 166 file. cricket-sounds-for-sleep-47.wav\n",
      "Processed 167 file. cricket-sounds-for-sleep-48.wav\n",
      "Processed 168 file. cricket-sounds-for-sleep-49.wav\n",
      "Processed 169 file. cricket-sounds-for-sleep-5.wav\n",
      "Processed 170 file. cricket-sounds-for-sleep-50.wav\n",
      "Processed 171 file. cricket-sounds-for-sleep-51.wav\n",
      "Processed 172 file. cricket-sounds-for-sleep-52.wav\n",
      "Processed 173 file. cricket-sounds-for-sleep-53.wav\n",
      "Processed 174 file. cricket-sounds-for-sleep-54.wav\n",
      "Processed 175 file. cricket-sounds-for-sleep-55.wav\n",
      "Processed 176 file. cricket-sounds-for-sleep-56.wav\n",
      "Processed 177 file. cricket-sounds-for-sleep-57.wav\n",
      "Processed 178 file. cricket-sounds-for-sleep-58.wav\n",
      "Processed 179 file. cricket-sounds-for-sleep-59.wav\n",
      "Processed 180 file. cricket-sounds-for-sleep-6.wav\n",
      "Processed 181 file. cricket-sounds-for-sleep-7.wav\n",
      "Processed 182 file. cricket-sounds-for-sleep-8.wav\n",
      "Processed 183 file. cricket-sounds-for-sleep-9.wav\n",
      "Processed 184 file. Crickets-chirping-0.wav\n",
      "Processed 185 file. Crickets-chirping-1.wav\n",
      "Processed 186 file. Crickets-chirping-10.wav\n",
      "Processed 187 file. Crickets-chirping-2.wav\n",
      "Processed 188 file. Crickets-chirping-3.wav\n",
      "Processed 189 file. Crickets-chirping-4.wav\n",
      "Processed 190 file. Crickets-chirping-5.wav\n",
      "Processed 191 file. Crickets-chirping-6.wav\n",
      "Processed 192 file. Crickets-chirping-7.wav\n",
      "Processed 193 file. Crickets-chirping-8.wav\n",
      "Processed 194 file. Crickets-chirping-9.wav\n",
      "Processed 195 file. Crickets-chirping-at-night-0.wav\n",
      "Processed 196 file. Crickets-chirping-at-night-1.wav\n",
      "Processed 197 file. Crickets-chirping-at-night-10.wav\n",
      "Processed 198 file. Crickets-chirping-at-night-11.wav\n",
      "Processed 199 file. Crickets-chirping-at-night-12.wav\n",
      "Processed 200 file. Crickets-chirping-at-night-13.wav\n",
      "Processed 201 file. Crickets-chirping-at-night-2.wav\n",
      "Processed 202 file. Crickets-chirping-at-night-3.wav\n",
      "Processed 203 file. Crickets-chirping-at-night-4.wav\n",
      "Processed 204 file. Crickets-chirping-at-night-5.wav\n",
      "Processed 205 file. Crickets-chirping-at-night-6.wav\n",
      "Processed 206 file. Crickets-chirping-at-night-7.wav\n",
      "Processed 207 file. Crickets-chirping-at-night-8.wav\n",
      "Processed 208 file. Crickets-chirping-at-night-9.wav\n",
      "Processed 209 file. crickets-chirping-crickets-sound-0.wav\n",
      "Processed 210 file. crickets-chirping-crickets-sound-1.wav\n",
      "Processed 211 file. crickets-chirping-crickets-sound-10.wav\n",
      "Processed 212 file. crickets-chirping-crickets-sound-11.wav\n",
      "Processed 213 file. crickets-chirping-crickets-sound-12.wav\n",
      "Processed 214 file. crickets-chirping-crickets-sound-13.wav\n",
      "Processed 215 file. crickets-chirping-crickets-sound-14.wav\n",
      "Processed 216 file. crickets-chirping-crickets-sound-15.wav\n",
      "Processed 217 file. crickets-chirping-crickets-sound-16.wav\n",
      "Processed 218 file. crickets-chirping-crickets-sound-17.wav\n",
      "Processed 219 file. crickets-chirping-crickets-sound-18.wav\n",
      "Processed 220 file. crickets-chirping-crickets-sound-19.wav\n",
      "Processed 221 file. crickets-chirping-crickets-sound-2.wav\n",
      "Processed 222 file. crickets-chirping-crickets-sound-20.wav\n",
      "Processed 223 file. crickets-chirping-crickets-sound-21.wav\n",
      "Processed 224 file. crickets-chirping-crickets-sound-22.wav\n",
      "Processed 225 file. crickets-chirping-crickets-sound-23.wav\n",
      "Processed 226 file. crickets-chirping-crickets-sound-24.wav\n",
      "Processed 227 file. crickets-chirping-crickets-sound-25.wav\n",
      "Processed 228 file. crickets-chirping-crickets-sound-26.wav\n",
      "Processed 229 file. crickets-chirping-crickets-sound-27.wav\n",
      "Processed 230 file. crickets-chirping-crickets-sound-28.wav\n",
      "Processed 231 file. crickets-chirping-crickets-sound-29.wav\n",
      "Processed 232 file. crickets-chirping-crickets-sound-3.wav\n",
      "Processed 233 file. crickets-chirping-crickets-sound-4.wav\n",
      "Processed 234 file. crickets-chirping-crickets-sound-5.wav\n",
      "Processed 235 file. crickets-chirping-crickets-sound-6.wav\n",
      "Processed 236 file. crickets-chirping-crickets-sound-7.wav\n",
      "Processed 237 file. crickets-chirping-crickets-sound-8.wav\n",
      "Processed 238 file. crickets-chirping-crickets-sound-9.wav\n",
      "Processed 239 file. crickets-chirping-noise-0.wav\n",
      "Processed 240 file. crickets-chirping-noise-1.wav\n",
      "Processed 241 file. crickets-chirping-noise-10.wav\n",
      "Processed 242 file. crickets-chirping-noise-11.wav\n",
      "Processed 243 file. crickets-chirping-noise-12.wav\n",
      "Processed 244 file. crickets-chirping-noise-13.wav\n",
      "Processed 245 file. crickets-chirping-noise-14.wav\n",
      "Processed 246 file. crickets-chirping-noise-15.wav\n",
      "Processed 247 file. crickets-chirping-noise-16.wav\n",
      "Processed 248 file. crickets-chirping-noise-17.wav\n",
      "Processed 249 file. crickets-chirping-noise-18.wav\n",
      "Processed 250 file. crickets-chirping-noise-19.wav\n",
      "Processed 251 file. crickets-chirping-noise-2.wav\n",
      "Processed 252 file. crickets-chirping-noise-20.wav\n",
      "Processed 253 file. crickets-chirping-noise-21.wav\n",
      "Processed 254 file. crickets-chirping-noise-3.wav\n",
      "Processed 255 file. crickets-chirping-noise-4.wav\n",
      "Processed 256 file. crickets-chirping-noise-5.wav\n",
      "Processed 257 file. crickets-chirping-noise-6.wav\n",
      "Processed 258 file. crickets-chirping-noise-7.wav\n",
      "Processed 259 file. crickets-chirping-noise-8.wav\n",
      "Processed 260 file. crickets-chirping-noise-9.wav\n",
      "Processed 261 file. crickets-sound-effect-0.wav\n",
      "Processed 262 file. crickets-sound-effect-1.wav\n",
      "Processed 263 file. crickets-sound-effect-10.wav\n",
      "Processed 264 file. crickets-sound-effect-11.wav\n",
      "Processed 265 file. crickets-sound-effect-12.wav\n",
      "Processed 266 file. crickets-sound-effect-13.wav\n",
      "Processed 267 file. crickets-sound-effect-14.wav\n",
      "Processed 268 file. crickets-sound-effect-15.wav\n",
      "Processed 269 file. crickets-sound-effect-16.wav\n",
      "Processed 270 file. crickets-sound-effect-17.wav\n",
      "Processed 271 file. crickets-sound-effect-18.wav\n",
      "Processed 272 file. crickets-sound-effect-19.wav\n",
      "Processed 273 file. crickets-sound-effect-2.wav\n",
      "Processed 274 file. crickets-sound-effect-20.wav\n",
      "Processed 275 file. crickets-sound-effect-21.wav\n",
      "Processed 276 file. crickets-sound-effect-22.wav\n",
      "Processed 277 file. crickets-sound-effect-23.wav\n",
      "Processed 278 file. crickets-sound-effect-24.wav\n",
      "Processed 279 file. crickets-sound-effect-25.wav\n",
      "Processed 280 file. crickets-sound-effect-26.wav\n",
      "Processed 281 file. crickets-sound-effect-27.wav\n",
      "Processed 282 file. crickets-sound-effect-28.wav\n",
      "Processed 283 file. crickets-sound-effect-29.wav\n",
      "Processed 284 file. crickets-sound-effect-3.wav\n",
      "Processed 285 file. crickets-sound-effect-30.wav\n",
      "Processed 286 file. crickets-sound-effect-31.wav\n",
      "Processed 287 file. crickets-sound-effect-32.wav\n",
      "Processed 288 file. crickets-sound-effect-33.wav\n",
      "Processed 289 file. crickets-sound-effect-34.wav\n",
      "Processed 290 file. crickets-sound-effect-4.wav\n",
      "Processed 291 file. crickets-sound-effect-5.wav\n",
      "Processed 292 file. crickets-sound-effect-6.wav\n",
      "Processed 293 file. crickets-sound-effect-7.wav\n",
      "Processed 294 file. crickets-sound-effect-8.wav\n",
      "Processed 295 file. crickets-sound-effect-9.wav\n",
      "Processed 296 file. crow-cawing-sound-effect-0.wav\n",
      "Processed 297 file. crow-cawing-sound-effect-1.wav\n",
      "Processed 298 file. crow-cawing-sound-effect-10.wav\n",
      "Processed 299 file. crow-cawing-sound-effect-11.wav\n",
      "Processed 300 file. crow-cawing-sound-effect-12.wav\n",
      "Processed 301 file. crow-cawing-sound-effect-13.wav\n",
      "Processed 302 file. crow-cawing-sound-effect-14.wav\n",
      "Processed 303 file. crow-cawing-sound-effect-15.wav\n",
      "Processed 304 file. crow-cawing-sound-effect-2.wav\n",
      "Processed 305 file. crow-cawing-sound-effect-3.wav\n",
      "Processed 306 file. crow-cawing-sound-effect-4.wav\n",
      "Processed 307 file. crow-cawing-sound-effect-5.wav\n",
      "Processed 308 file. crow-cawing-sound-effect-6.wav\n",
      "Processed 309 file. crow-cawing-sound-effect-7.wav\n",
      "Processed 310 file. crow-cawing-sound-effect-8.wav\n",
      "Processed 311 file. crow-cawing-sound-effect-9.wav\n",
      "Processed 312 file. curlew-sound-0.wav\n",
      "Processed 313 file. curlew-sound-1.wav\n",
      "Processed 314 file. curlew-sound-2.wav\n",
      "Processed 315 file. curlew-sound-3.wav\n",
      "Processed 316 file. curlew-sound-4.wav\n",
      "Processed 317 file. dove-bird-call-sound-0.wav\n",
      "Processed 318 file. dove-bird-call-sound-1.wav\n",
      "Processed 319 file. dove-bird-call-sound-2.wav\n",
      "Processed 320 file. dove-bird-sounds-0.wav\n",
      "Processed 321 file. dove-bird-sounds-1.wav\n",
      "Processed 322 file. dove-bird-sounds-2.wav\n",
      "Processed 323 file. dove-bird-sounds-3.wav\n",
      "Processed 324 file. dove-bird-sounds-4.wav\n",
      "Processed 325 file. dove-bird-sounds-5.wav\n",
      "Processed 326 file. dove-bird-sounds-6.wav\n",
      "Processed 327 file. dove-bird-sounds-7.wav\n",
      "Processed 328 file. dove-bird-sounds-8.wav\n",
      "Processed 329 file. dove-bird-sounds-9.wav\n",
      "Processed 330 file. dove-sound-effect-0.wav\n",
      "Processed 331 file. dove-sound-effect-1.wav\n",
      "Processed 332 file. dove-sound-effect-2.wav\n",
      "Processed 333 file. flock-of-pigeons-cooing-sound-effect-0.wav\n",
      "Processed 334 file. flock-of-pigeons-cooing-sound-effect-1.wav\n",
      "Processed 335 file. flock-of-pigeons-cooing-sound-effect-2.wav\n",
      "Processed 336 file. flock-of-pigeons-cooing-sound-effect-3.wav\n",
      "Processed 337 file. flock-of-pigeons-cooing-sound-effect-4.wav\n",
      "Processed 338 file. flock-of-pigeons-cooing-sound-effect-5.wav\n",
      "Processed 339 file. flock-of-pigeons-cooing-sound-effect-6.wav\n",
      "Processed 340 file. forest-birds-and-insects-sound-effect-0.wav\n",
      "Processed 341 file. forest-birds-and-insects-sound-effect-1.wav\n",
      "Processed 342 file. forest-birds-and-insects-sound-effect-2.wav\n",
      "Processed 343 file. forest-birds-and-insects-sound-effect-3.wav\n",
      "Processed 344 file. forest-birds-and-insects-sound-effect-4.wav\n",
      "Processed 345 file. killdeer-sound-0.wav\n",
      "Processed 346 file. killdeer-sound-1.wav\n",
      "Processed 347 file. killdeer-sound-2.wav\n",
      "Processed 348 file. killdeer-sound-3.wav\n",
      "Processed 349 file. killdeer-sound-4.wav\n",
      "Processed 350 file. killdeer-sound-5.wav\n",
      "Processed 351 file. killdeer-sound-6.wav\n",
      "Processed 352 file. killdeer-sound-7.wav\n",
      "Processed 353 file. killdeer-sound-8.wav\n",
      "Processed 354 file. killdeer-sound-9.wav\n",
      "Processed 355 file. magpie-call-sound-effect-0.wav\n",
      "Processed 356 file. magpie-call-sound-effect-1.wav\n",
      "Processed 357 file. magpies-and-crows-cawing-sound-effect-0.wav\n",
      "Processed 358 file. magpies-and-crows-cawing-sound-effect-1.wav\n",
      "Processed 359 file. magpies-and-crows-cawing-sound-effect-10.wav\n",
      "Processed 360 file. magpies-and-crows-cawing-sound-effect-11.wav\n",
      "Processed 361 file. magpies-and-crows-cawing-sound-effect-12.wav\n",
      "Processed 362 file. magpies-and-crows-cawing-sound-effect-13.wav\n",
      "Processed 363 file. magpies-and-crows-cawing-sound-effect-14.wav\n",
      "Processed 364 file. magpies-and-crows-cawing-sound-effect-15.wav\n",
      "Processed 365 file. magpies-and-crows-cawing-sound-effect-16.wav\n",
      "Processed 366 file. magpies-and-crows-cawing-sound-effect-17.wav\n",
      "Processed 367 file. magpies-and-crows-cawing-sound-effect-18.wav\n",
      "Processed 368 file. magpies-and-crows-cawing-sound-effect-19.wav\n",
      "Processed 369 file. magpies-and-crows-cawing-sound-effect-2.wav\n",
      "Processed 370 file. magpies-and-crows-cawing-sound-effect-20.wav\n",
      "Processed 371 file. magpies-and-crows-cawing-sound-effect-21.wav\n",
      "Processed 372 file. magpies-and-crows-cawing-sound-effect-3.wav\n",
      "Processed 373 file. magpies-and-crows-cawing-sound-effect-4.wav\n",
      "Processed 374 file. magpies-and-crows-cawing-sound-effect-5.wav\n",
      "Processed 375 file. magpies-and-crows-cawing-sound-effect-6.wav\n",
      "Processed 376 file. magpies-and-crows-cawing-sound-effect-7.wav\n",
      "Processed 377 file. magpies-and-crows-cawing-sound-effect-8.wav\n",
      "Processed 378 file. magpies-and-crows-cawing-sound-effect-9.wav\n",
      "Processed 379 file. night-insect-sounds-0.wav\n",
      "Processed 380 file. night-insect-sounds-1.wav\n",
      "Processed 381 file. night-insect-sounds-10.wav\n",
      "Processed 382 file. night-insect-sounds-11.wav\n",
      "Processed 383 file. night-insect-sounds-12.wav\n",
      "Processed 384 file. night-insect-sounds-13.wav\n",
      "Processed 385 file. night-insect-sounds-14.wav\n",
      "Processed 386 file. night-insect-sounds-15.wav\n",
      "Processed 387 file. night-insect-sounds-16.wav\n",
      "Processed 388 file. night-insect-sounds-17.wav\n",
      "Processed 389 file. night-insect-sounds-18.wav\n",
      "Processed 390 file. night-insect-sounds-19.wav\n",
      "Processed 391 file. night-insect-sounds-2.wav\n",
      "Processed 392 file. night-insect-sounds-20.wav\n",
      "Processed 393 file. night-insect-sounds-21.wav\n",
      "Processed 394 file. night-insect-sounds-22.wav\n",
      "Processed 395 file. night-insect-sounds-23.wav\n",
      "Processed 396 file. night-insect-sounds-24.wav\n",
      "Processed 397 file. night-insect-sounds-25.wav\n",
      "Processed 398 file. night-insect-sounds-26.wav\n",
      "Processed 399 file. night-insect-sounds-27.wav\n",
      "Processed 400 file. night-insect-sounds-28.wav\n",
      "Processed 401 file. night-insect-sounds-29.wav\n",
      "Processed 402 file. night-insect-sounds-3.wav\n",
      "Processed 403 file. night-insect-sounds-30.wav\n",
      "Processed 404 file. night-insect-sounds-31.wav\n",
      "Processed 405 file. night-insect-sounds-32.wav\n",
      "Processed 406 file. night-insect-sounds-33.wav\n",
      "Processed 407 file. night-insect-sounds-34.wav\n",
      "Processed 408 file. night-insect-sounds-35.wav\n",
      "Processed 409 file. night-insect-sounds-36.wav\n",
      "Processed 410 file. night-insect-sounds-37.wav\n",
      "Processed 411 file. night-insect-sounds-38.wav\n",
      "Processed 412 file. night-insect-sounds-39.wav\n",
      "Processed 413 file. night-insect-sounds-4.wav\n",
      "Processed 414 file. night-insect-sounds-40.wav\n",
      "Processed 415 file. night-insect-sounds-41.wav\n",
      "Processed 416 file. night-insect-sounds-42.wav\n",
      "Processed 417 file. night-insect-sounds-43.wav\n",
      "Processed 418 file. night-insect-sounds-44.wav\n",
      "Processed 419 file. night-insect-sounds-45.wav\n",
      "Processed 420 file. night-insect-sounds-46.wav\n",
      "Processed 421 file. night-insect-sounds-47.wav\n",
      "Processed 422 file. night-insect-sounds-48.wav\n",
      "Processed 423 file. night-insect-sounds-49.wav\n",
      "Processed 424 file. night-insect-sounds-5.wav\n",
      "Processed 425 file. night-insect-sounds-50.wav\n",
      "Processed 426 file. night-insect-sounds-51.wav\n",
      "Processed 427 file. night-insect-sounds-52.wav\n",
      "Processed 428 file. night-insect-sounds-6.wav\n",
      "Processed 429 file. night-insect-sounds-7.wav\n",
      "Processed 430 file. night-insect-sounds-8.wav\n",
      "Processed 431 file. night-insect-sounds-9.wav\n",
      "Processed 432 file. pheasant-sound-0.wav\n",
      "Processed 433 file. pheasant-sound-1.wav\n",
      "Processed 434 file. pheasant-sound-2.wav\n",
      "Processed 435 file. pheasant-sound-3.wav\n",
      "Processed 436 file. pond-bird-call-sound-effect-0.wav\n",
      "Processed 437 file. rain-thunder-and-crickets-sound-effect-0.wav\n",
      "Processed 438 file. rain-thunder-and-crickets-sound-effect-1.wav\n",
      "Processed 439 file. rain-thunder-and-crickets-sound-effect-10.wav\n",
      "Processed 440 file. rain-thunder-and-crickets-sound-effect-11.wav\n",
      "Processed 441 file. rain-thunder-and-crickets-sound-effect-12.wav\n",
      "Processed 442 file. rain-thunder-and-crickets-sound-effect-13.wav\n",
      "Processed 443 file. rain-thunder-and-crickets-sound-effect-14.wav\n",
      "Processed 444 file. rain-thunder-and-crickets-sound-effect-15.wav\n",
      "Processed 445 file. rain-thunder-and-crickets-sound-effect-16.wav\n",
      "Processed 446 file. rain-thunder-and-crickets-sound-effect-17.wav\n",
      "Processed 447 file. rain-thunder-and-crickets-sound-effect-18.wav\n",
      "Processed 448 file. rain-thunder-and-crickets-sound-effect-19.wav\n",
      "Processed 449 file. rain-thunder-and-crickets-sound-effect-2.wav\n",
      "Processed 450 file. rain-thunder-and-crickets-sound-effect-20.wav\n",
      "Processed 451 file. rain-thunder-and-crickets-sound-effect-21.wav\n",
      "Processed 452 file. rain-thunder-and-crickets-sound-effect-22.wav\n",
      "Processed 453 file. rain-thunder-and-crickets-sound-effect-23.wav\n",
      "Processed 454 file. rain-thunder-and-crickets-sound-effect-24.wav\n",
      "Processed 455 file. rain-thunder-and-crickets-sound-effect-25.wav\n",
      "Processed 456 file. rain-thunder-and-crickets-sound-effect-26.wav\n",
      "Processed 457 file. rain-thunder-and-crickets-sound-effect-27.wav\n",
      "Processed 458 file. rain-thunder-and-crickets-sound-effect-28.wav\n",
      "Processed 459 file. rain-thunder-and-crickets-sound-effect-29.wav\n",
      "Processed 460 file. rain-thunder-and-crickets-sound-effect-3.wav\n",
      "Processed 461 file. rain-thunder-and-crickets-sound-effect-30.wav\n",
      "Processed 462 file. rain-thunder-and-crickets-sound-effect-31.wav\n",
      "Processed 463 file. rain-thunder-and-crickets-sound-effect-32.wav\n",
      "Processed 464 file. rain-thunder-and-crickets-sound-effect-33.wav\n",
      "Processed 465 file. rain-thunder-and-crickets-sound-effect-34.wav\n",
      "Processed 466 file. rain-thunder-and-crickets-sound-effect-35.wav\n",
      "Processed 467 file. rain-thunder-and-crickets-sound-effect-36.wav\n",
      "Processed 468 file. rain-thunder-and-crickets-sound-effect-37.wav\n",
      "Processed 469 file. rain-thunder-and-crickets-sound-effect-38.wav\n",
      "Processed 470 file. rain-thunder-and-crickets-sound-effect-39.wav\n",
      "Processed 471 file. rain-thunder-and-crickets-sound-effect-4.wav\n",
      "Processed 472 file. rain-thunder-and-crickets-sound-effect-40.wav\n",
      "Processed 473 file. rain-thunder-and-crickets-sound-effect-41.wav\n",
      "Processed 474 file. rain-thunder-and-crickets-sound-effect-42.wav\n",
      "Processed 475 file. rain-thunder-and-crickets-sound-effect-43.wav\n",
      "Processed 476 file. rain-thunder-and-crickets-sound-effect-44.wav\n",
      "Processed 477 file. rain-thunder-and-crickets-sound-effect-45.wav\n",
      "Processed 478 file. rain-thunder-and-crickets-sound-effect-46.wav\n",
      "Processed 479 file. rain-thunder-and-crickets-sound-effect-47.wav\n",
      "Processed 480 file. rain-thunder-and-crickets-sound-effect-5.wav\n",
      "Processed 481 file. rain-thunder-and-crickets-sound-effect-6.wav\n",
      "Processed 482 file. rain-thunder-and-crickets-sound-effect-7.wav\n",
      "Processed 483 file. rain-thunder-and-crickets-sound-effect-8.wav\n",
      "Processed 484 file. rain-thunder-and-crickets-sound-effect-9.wav\n",
      "Processed 485 file. robin-chirping-0.wav\n",
      "Processed 486 file. robin-chirping-1.wav\n",
      "Processed 487 file. robin-chirping-10.wav\n",
      "Processed 488 file. robin-chirping-11.wav\n",
      "Processed 489 file. robin-chirping-12.wav\n",
      "Processed 490 file. robin-chirping-13.wav\n",
      "Processed 491 file. robin-chirping-14.wav\n",
      "Processed 492 file. robin-chirping-15.wav\n",
      "Processed 493 file. robin-chirping-16.wav\n",
      "Processed 494 file. robin-chirping-17.wav\n",
      "Processed 495 file. robin-chirping-18.wav\n",
      "Processed 496 file. robin-chirping-19.wav\n",
      "Processed 497 file. robin-chirping-2.wav\n",
      "Processed 498 file. robin-chirping-20.wav\n",
      "Processed 499 file. robin-chirping-21.wav\n",
      "Processed 500 file. robin-chirping-22.wav\n",
      "Processed 501 file. robin-chirping-23.wav\n",
      "Processed 502 file. robin-chirping-24.wav\n",
      "Processed 503 file. robin-chirping-25.wav\n",
      "Processed 504 file. robin-chirping-26.wav\n",
      "Processed 505 file. robin-chirping-27.wav\n",
      "Processed 506 file. robin-chirping-28.wav\n",
      "Processed 507 file. robin-chirping-29.wav\n",
      "Processed 508 file. robin-chirping-3.wav\n",
      "Processed 509 file. robin-chirping-30.wav\n",
      "Processed 510 file. robin-chirping-31.wav\n",
      "Processed 511 file. robin-chirping-32.wav\n",
      "Processed 512 file. robin-chirping-33.wav\n",
      "Processed 513 file. robin-chirping-4.wav\n",
      "Processed 514 file. robin-chirping-5.wav\n",
      "Processed 515 file. robin-chirping-6.wav\n",
      "Processed 516 file. robin-chirping-7.wav\n",
      "Processed 517 file. robin-chirping-8.wav\n",
      "Processed 518 file. robin-chirping-9.wav\n",
      "Processed 519 file. rooster-call-sound-0.wav\n",
      "Processed 520 file. screech-owl-sounds-at-night-0.wav\n",
      "Processed 521 file. screech-owl-sounds-at-night-1.wav\n",
      "Processed 522 file. screech-owl-sounds-at-night-2.wav\n",
      "Processed 523 file. screech-owl-sounds-at-night-3.wav\n",
      "Processed 524 file. screech-owl-sounds-at-night-4.wav\n",
      "Processed 525 file. screech-owl-sounds-at-night-5.wav\n",
      "Processed 526 file. screech-owl-sounds-at-night-6.wav\n",
      "Processed 527 file. screech-owl-sounds-at-night-7.wav\n",
      "Processed 528 file. seagull-sound-in-distance-0.wav\n",
      "Processed 529 file. seagull-sound-in-distance-1.wav\n",
      "Processed 530 file. sparrow-sound-effect-0.wav\n",
      "Processed 531 file. sparrow-sound-effect-1.wav\n",
      "Processed 532 file. sparrow-sound-effect-10.wav\n",
      "Processed 533 file. sparrow-sound-effect-11.wav\n",
      "Processed 534 file. sparrow-sound-effect-12.wav\n",
      "Processed 535 file. sparrow-sound-effect-13.wav\n",
      "Processed 536 file. sparrow-sound-effect-14.wav\n",
      "Processed 537 file. sparrow-sound-effect-15.wav\n",
      "Processed 538 file. sparrow-sound-effect-16.wav\n",
      "Processed 539 file. sparrow-sound-effect-17.wav\n",
      "Processed 540 file. sparrow-sound-effect-18.wav\n",
      "Processed 541 file. sparrow-sound-effect-19.wav\n",
      "Processed 542 file. sparrow-sound-effect-2.wav\n",
      "Processed 543 file. sparrow-sound-effect-20.wav\n",
      "Processed 544 file. sparrow-sound-effect-21.wav\n",
      "Processed 545 file. sparrow-sound-effect-22.wav\n",
      "Processed 546 file. sparrow-sound-effect-23.wav\n",
      "Processed 547 file. sparrow-sound-effect-24.wav\n",
      "Processed 548 file. sparrow-sound-effect-25.wav\n",
      "Processed 549 file. sparrow-sound-effect-26.wav\n",
      "Processed 550 file. sparrow-sound-effect-27.wav\n",
      "Processed 551 file. sparrow-sound-effect-28.wav\n",
      "Processed 552 file. sparrow-sound-effect-29.wav\n",
      "Processed 553 file. sparrow-sound-effect-3.wav\n",
      "Processed 554 file. sparrow-sound-effect-30.wav\n",
      "Processed 555 file. sparrow-sound-effect-31.wav\n",
      "Processed 556 file. sparrow-sound-effect-32.wav\n",
      "Processed 557 file. sparrow-sound-effect-33.wav\n",
      "Processed 558 file. sparrow-sound-effect-34.wav\n",
      "Processed 559 file. sparrow-sound-effect-35.wav\n",
      "Processed 560 file. sparrow-sound-effect-36.wav\n",
      "Processed 561 file. sparrow-sound-effect-37.wav\n",
      "Processed 562 file. sparrow-sound-effect-38.wav\n",
      "Processed 563 file. sparrow-sound-effect-39.wav\n",
      "Processed 564 file. sparrow-sound-effect-4.wav\n",
      "Processed 565 file. sparrow-sound-effect-40.wav\n",
      "Processed 566 file. sparrow-sound-effect-41.wav\n",
      "Processed 567 file. sparrow-sound-effect-42.wav\n",
      "Processed 568 file. sparrow-sound-effect-43.wav\n",
      "Processed 569 file. sparrow-sound-effect-44.wav\n",
      "Processed 570 file. sparrow-sound-effect-45.wav\n",
      "Processed 571 file. sparrow-sound-effect-46.wav\n",
      "Processed 572 file. sparrow-sound-effect-47.wav\n",
      "Processed 573 file. sparrow-sound-effect-48.wav\n",
      "Processed 574 file. sparrow-sound-effect-49.wav\n",
      "Processed 575 file. sparrow-sound-effect-5.wav\n",
      "Processed 576 file. sparrow-sound-effect-50.wav\n",
      "Processed 577 file. sparrow-sound-effect-51.wav\n",
      "Processed 578 file. sparrow-sound-effect-6.wav\n",
      "Processed 579 file. sparrow-sound-effect-7.wav\n",
      "Processed 580 file. sparrow-sound-effect-8.wav\n",
      "Processed 581 file. sparrow-sound-effect-9.wav\n",
      "Processed 582 file. spooky-owl-sound-effect-0.wav\n",
      "Processed 583 file. tawny-owl-sounds-0.wav\n",
      "Processed 584 file. tawny-owl-sounds-1.wav\n",
      "Processed 585 file. tawny-owl-sounds-2.wav\n",
      "Processed 586 file. tawny-owl-sounds-3.wav\n",
      "Processed 587 file. tawny-owl-sounds-4.wav\n",
      "Processed 588 file. tawny-owl-sounds-5.wav\n",
      "Processed 589 file. tawny-owl-sounds-6.wav\n",
      "Processed 590 file. tawny-owl-sounds-7.wav\n",
      "Processed 591 file. tawny-owl-sounds-8.wav\n",
      "Processed 592 file. tawny-owl-sounds-9.wav\n"
     ]
    }
   ],
   "source": [
    "# Analyze dataset:\n",
    "# List all the files in dictionare and subdictionaries.\n",
    "metadata = []\n",
    "\n",
    "for root, _, files in os.walk(DATA_DIR):\n",
    "    for i, file in enumerate(files):\n",
    "        if file.endswith('.wav'):\n",
    "            filename = os.path.join(root, file)\n",
    "            label = os.path.basename(root)\n",
    "            class_ = label2idx(label)\n",
    "            num_channels, sample_rate, bit_depth, avg_rms, length_in_seconds, length_in_frames = auprops(filename)\n",
    "            metadata.append({\n",
    "                'filename': filename, \n",
    "                'label': label, \n",
    "                'class': class_,\n",
    "                'num_channels': num_channels, \n",
    "                'sample_rate': sample_rate, \n",
    "                'bit_depth': bit_depth, \n",
    "                'avg_rms': avg_rms, \n",
    "                'length_in_seconds': length_in_seconds, \n",
    "                'length_in_frames': length_in_frames\n",
    "            })\n",
    "\n",
    "            print(f\"Processed {i} file. {file}\")\n",
    "        else:\n",
    "            print(f\"Skipped {i} file. {file}\")\n",
    "            \n",
    "metadata = pd.DataFrame(metadata)\n",
    "metadata.to_csv(METADATA, index=False)"
   ]
  },
  {
   "cell_type": "code",
   "execution_count": 29,
   "metadata": {},
   "outputs": [
    {
     "data": {
      "text/html": [
       "<div>\n",
       "<style scoped>\n",
       "    .dataframe tbody tr th:only-of-type {\n",
       "        vertical-align: middle;\n",
       "    }\n",
       "\n",
       "    .dataframe tbody tr th {\n",
       "        vertical-align: top;\n",
       "    }\n",
       "\n",
       "    .dataframe thead th {\n",
       "        text-align: right;\n",
       "    }\n",
       "</style>\n",
       "<table border=\"1\" class=\"dataframe\">\n",
       "  <thead>\n",
       "    <tr style=\"text-align: right;\">\n",
       "      <th></th>\n",
       "      <th>filename</th>\n",
       "      <th>label</th>\n",
       "      <th>class</th>\n",
       "      <th>num_channels</th>\n",
       "      <th>sample_rate</th>\n",
       "      <th>bit_depth</th>\n",
       "      <th>avg_rms</th>\n",
       "      <th>length_in_seconds</th>\n",
       "      <th>length_in_frames</th>\n",
       "    </tr>\n",
       "  </thead>\n",
       "  <tbody>\n",
       "    <tr>\n",
       "      <th>0</th>\n",
       "      <td>data\\Parsed_Capuchinbird_Clips\\XC114131-0.wav</td>\n",
       "      <td>Parsed_Capuchinbird_Clips</td>\n",
       "      <td>[0.0, 1.0, 0.0]</td>\n",
       "      <td>2</td>\n",
       "      <td>48000</td>\n",
       "      <td>16</td>\n",
       "      <td>0.008838</td>\n",
       "      <td>2.5</td>\n",
       "      <td>120000</td>\n",
       "    </tr>\n",
       "    <tr>\n",
       "      <th>1</th>\n",
       "      <td>data\\Parsed_Capuchinbird_Clips\\XC114131-1.wav</td>\n",
       "      <td>Parsed_Capuchinbird_Clips</td>\n",
       "      <td>[0.0, 1.0, 0.0]</td>\n",
       "      <td>2</td>\n",
       "      <td>48000</td>\n",
       "      <td>16</td>\n",
       "      <td>0.007954</td>\n",
       "      <td>3.0</td>\n",
       "      <td>144000</td>\n",
       "    </tr>\n",
       "    <tr>\n",
       "      <th>2</th>\n",
       "      <td>data\\Parsed_Capuchinbird_Clips\\XC114131-2.wav</td>\n",
       "      <td>Parsed_Capuchinbird_Clips</td>\n",
       "      <td>[0.0, 1.0, 0.0]</td>\n",
       "      <td>2</td>\n",
       "      <td>48000</td>\n",
       "      <td>16</td>\n",
       "      <td>0.007164</td>\n",
       "      <td>3.5</td>\n",
       "      <td>168000</td>\n",
       "    </tr>\n",
       "    <tr>\n",
       "      <th>3</th>\n",
       "      <td>data\\Parsed_Capuchinbird_Clips\\XC114131-3.wav</td>\n",
       "      <td>Parsed_Capuchinbird_Clips</td>\n",
       "      <td>[0.0, 1.0, 0.0]</td>\n",
       "      <td>2</td>\n",
       "      <td>48000</td>\n",
       "      <td>16</td>\n",
       "      <td>0.007278</td>\n",
       "      <td>3.0</td>\n",
       "      <td>144000</td>\n",
       "    </tr>\n",
       "    <tr>\n",
       "      <th>4</th>\n",
       "      <td>data\\Parsed_Capuchinbird_Clips\\XC114131-4.wav</td>\n",
       "      <td>Parsed_Capuchinbird_Clips</td>\n",
       "      <td>[0.0, 1.0, 0.0]</td>\n",
       "      <td>2</td>\n",
       "      <td>48000</td>\n",
       "      <td>16</td>\n",
       "      <td>0.006439</td>\n",
       "      <td>3.5</td>\n",
       "      <td>168000</td>\n",
       "    </tr>\n",
       "  </tbody>\n",
       "</table>\n",
       "</div>"
      ],
      "text/plain": [
       "                                        filename                      label  \\\n",
       "0  data\\Parsed_Capuchinbird_Clips\\XC114131-0.wav  Parsed_Capuchinbird_Clips   \n",
       "1  data\\Parsed_Capuchinbird_Clips\\XC114131-1.wav  Parsed_Capuchinbird_Clips   \n",
       "2  data\\Parsed_Capuchinbird_Clips\\XC114131-2.wav  Parsed_Capuchinbird_Clips   \n",
       "3  data\\Parsed_Capuchinbird_Clips\\XC114131-3.wav  Parsed_Capuchinbird_Clips   \n",
       "4  data\\Parsed_Capuchinbird_Clips\\XC114131-4.wav  Parsed_Capuchinbird_Clips   \n",
       "\n",
       "             class  num_channels  sample_rate  bit_depth   avg_rms  \\\n",
       "0  [0.0, 1.0, 0.0]             2        48000         16  0.008838   \n",
       "1  [0.0, 1.0, 0.0]             2        48000         16  0.007954   \n",
       "2  [0.0, 1.0, 0.0]             2        48000         16  0.007164   \n",
       "3  [0.0, 1.0, 0.0]             2        48000         16  0.007278   \n",
       "4  [0.0, 1.0, 0.0]             2        48000         16  0.006439   \n",
       "\n",
       "   length_in_seconds  length_in_frames  \n",
       "0                2.5            120000  \n",
       "1                3.0            144000  \n",
       "2                3.5            168000  \n",
       "3                3.0            144000  \n",
       "4                3.5            168000  "
      ]
     },
     "execution_count": 29,
     "metadata": {},
     "output_type": "execute_result"
    }
   ],
   "source": [
    "metadata.head()"
   ]
  },
  {
   "cell_type": "code",
   "execution_count": 31,
   "metadata": {},
   "outputs": [
    {
     "name": "stdout",
     "output_type": "stream",
     "text": [
      "label\n",
      "Parsed_Not_Capuchinbird_Clips    593\n",
      "Parsed_Capuchinbird_Clips        217\n",
      "Name: count, dtype: int64\n"
     ]
    }
   ],
   "source": [
    "print(metadata[\"label\"].value_counts())"
   ]
  },
  {
   "cell_type": "code",
   "execution_count": 39,
   "metadata": {},
   "outputs": [
    {
     "name": "stdout",
     "output_type": "stream",
     "text": [
      "data\\Parsed_Capuchinbird_Clips\\XC114131-0.wav\n",
      "data\\Parsed_Not_Capuchinbird_Clips\\afternoon-birds-song-in-forest-0.wav\n"
     ]
    },
    {
     "data": {
      "image/png": "[encoded data removed]",
      "text/plain": [
       "<Figure size 800x800 with 2 Axes>"
      ]
     },
     "metadata": {},
     "output_type": "display_data"
    }
   ],
   "source": [
    "labels = metadata[\"label\"].unique()\n",
    "\n",
    "fig = plt.figure(figsize=(8,8))\n",
    "\n",
    "fig.subplots_adjust(hspace=0.4, wspace=0.4)\n",
    "for i, label in enumerate(labels):\n",
    "    filtered_df = metadata[metadata[\"label\"] == label]\n",
    "    slice_file_name = filtered_df[\"filename\"].iloc[0]\n",
    "    fold = filtered_df[\"label\"].iloc[0]\n",
    "    fig.add_subplot(5, 2, i+1)\n",
    "    plt.title(label)\n",
    "    data, sr = librosa.load(os.path.join(slice_file_name))\n",
    "    librosa.display.waveshow(y = data, sr=sr, color=\"r\", alpha=0.5, label='Harmonic')\n",
    "    print(slice_file_name)\n",
    "     \n",
    "plt.tight_layout()  # This will adjust spacing between subplots to prevent overlap\n",
    "plt.show()  # This will display the plot"
   ]
  },
  {
   "cell_type": "code",
   "execution_count": 41,
   "metadata": {},
   "outputs": [
    {
     "name": "stdout",
     "output_type": "stream",
     "text": [
      "Channels: \n",
      "num_channels\n",
      "2    0.858025\n",
      "1    0.141975\n",
      "Name: proportion, dtype: float64\n",
      "Sample Rates: \n",
      "sample_rate\n",
      "44100    0.867901\n",
      "48000    0.118519\n",
      "11025    0.013580\n",
      "Name: proportion, dtype: float64\n",
      "Bit Depth: \n",
      "bit_depth\n",
      "16    1.0\n",
      "Name: proportion, dtype: float64\n",
      "Samples: \n",
      "length_in_frames\n",
      "132741    55\n",
      "154350    51\n",
      "133138    49\n",
      "134064    39\n",
      "132388    38\n",
      "          ..\n",
      "167359     1\n",
      "147117     1\n",
      "143502     1\n",
      "220500     1\n",
      "135166     1\n",
      "Name: count, Length: 104, dtype: int64\n"
     ]
    }
   ],
   "source": [
    "# Audiofile properties\n",
    "\n",
    "metadata.head()\n",
    "\n",
    "# num of channels \n",
    "print(\"Channels: \")\n",
    "print(metadata.num_channels.value_counts(normalize=True))\n",
    "\n",
    "# sample rates \n",
    "print(\"Sample Rates: \")\n",
    "print(metadata.sample_rate.value_counts(normalize=True))\n",
    "\n",
    "# bit depth\n",
    "print(\"Bit Depth: \")\n",
    "print(metadata.bit_depth.value_counts(normalize=True))\n",
    "\n",
    "# length in samples\n",
    "print(\"Samples: \")\n",
    "print(metadata.length_in_frames.value_counts())\n",
    "\n",
    "# RMS\n",
    "# print(audiodf.avg_rms.describe())"
   ]
  },
  {
   "cell_type": "markdown",
   "metadata": {},
   "source": [
    "## 2.2 Audio Preprocessing:"
   ]
  },
  {
   "cell_type": "code",
   "execution_count": 42,
   "metadata": {
    "jupyter": {
     "source_hidden": true
    },
    "tags": []
   },
   "outputs": [],
   "source": [
    "# Slice for common length of 3 seconds\n",
    "def slice_audio(librosa_audio, librosa_sample_rate = 22050):\n",
    "    SAMPLE_LENGTH = 1 * librosa_sample_rate\n",
    "\n",
    "    librosa_audio_sliced = librosa_audio[:SAMPLE_LENGTH]\n",
    "    if len(librosa_audio) < SAMPLE_LENGTH:\n",
    "        # print(f\"Audio length {len(librosa_audio)} is less than 2 seconds. Padding with zeros.\")\n",
    "        # np.pad specifies the number of values to add at the beginning and the end of the librosa_audio array.\n",
    "        # 0 -> no padding in the beginning.\n",
    "        # SAMPLE_LENGTH - len(librosa_audio) -> number of zeros to end, ensuring the total length is 2 seconds.\n",
    "        librosa_audio_sliced = np.pad(librosa_audio, (0, SAMPLE_LENGTH - len(librosa_audio)), constant_values=0)\n",
    "    return librosa_audio_sliced\n",
    "\n",
    "# print(f\"Librosa audio before: {librosa_audio.shape} and after: {slice_audio(librosa_audio).shape}\")"
   ]
  },
  {
   "cell_type": "code",
   "execution_count": 43,
   "metadata": {},
   "outputs": [],
   "source": [
    "def extract_mel_spectrogram(audio_path):\n",
    "    \n",
    "    audio_file, librosa_sample_rate = librosa.load(audio_path)\n",
    "    audio_file = slice_audio(audio_file, librosa_sample_rate)\n",
    "\n",
    "    spectrogram = librosa.feature.melspectrogram(y = audio_file, sr=librosa_sample_rate, n_mels=128, dtype=np.float32)\n",
    "    spectrogram = (librosa.power_to_db(spectrogram, ref=np.max))\n",
    "    #librosa.display.specshow(spectrogram, sr=librosa_sample_rate, x_axis='time')\n",
    "\n",
    "    # spectrogram = tf.expand_dims(spectrogram, axis = 2)\n",
    "\n",
    "    return spectrogram"
   ]
  },
  {
   "cell_type": "markdown",
   "metadata": {},
   "source": [
    "## 2.3 Plot Wave"
   ]
  },
  {
   "cell_type": "markdown",
   "metadata": {},
   "source": [
    "# 3. Create Tensorflow Dataset"
   ]
  },
  {
   "cell_type": "markdown",
   "metadata": {},
   "source": [
    "## 3.1 Define Paths to Positive and Negative Data"
   ]
  },
  {
   "cell_type": "code",
   "execution_count": null,
   "metadata": {
    "jupyter": {
     "source_hidden": true
    },
    "tags": []
   },
   "outputs": [],
   "source": [
    "POS = os.path.join('data', 'Parsed_Capuchinbird_Clips')\n",
    "NEG = os.path.join('data', 'Parsed_Not_Capuchinbird_Clips')"
   ]
  },
  {
   "cell_type": "markdown",
   "metadata": {},
   "source": [
    "## 3.2 Create Tensorflow Datasets"
   ]
  },
  {
   "cell_type": "code",
   "execution_count": null,
   "metadata": {
    "jupyter": {
     "source_hidden": true
    },
    "tags": []
   },
   "outputs": [],
   "source": [
    "pos = tf.data.Dataset.list_files(POS+'\\*.wav')\n",
    "neg = tf.data.Dataset.list_files(NEG+'\\*.wav')"
   ]
  },
  {
   "cell_type": "markdown",
   "metadata": {},
   "source": [
    "## 3.3 Add labels and Combine Positive and Negative Samples"
   ]
  },
  {
   "cell_type": "code",
   "execution_count": null,
   "metadata": {
    "jupyter": {
     "source_hidden": true
    },
    "tags": []
   },
   "outputs": [],
   "source": [
    "positives = tf.data.Dataset.zip((pos, tf.data.Dataset.from_tensor_slices(tf.ones(len(pos)))))\n",
    "negatives = tf.data.Dataset.zip((neg, tf.data.Dataset.from_tensor_slices(tf.zeros(len(neg)))))\n",
    "data = positives.concatenate(negatives)"
   ]
  },
  {
   "cell_type": "markdown",
   "metadata": {},
   "source": [
    "# 4. Determine Average Length of a Capuchin Call"
   ]
  },
  {
   "cell_type": "markdown",
   "metadata": {},
   "source": [
    "## 4.1 Calculate Wave Cycle Length"
   ]
  },
  {
   "cell_type": "code",
   "execution_count": null,
   "metadata": {
    "jupyter": {
     "source_hidden": true
    },
    "tags": []
   },
   "outputs": [],
   "source": [
    "lengths = []\n",
    "for file in os.listdir(os.path.join('data', 'Parsed_Capuchinbird_Clips')):\n",
    "    tensor_wave = load_wav_16k_mono(os.path.join('data', 'Parsed_Capuchinbird_Clips', file))\n",
    "    lengths.append(len(tensor_wave))"
   ]
  },
  {
   "cell_type": "markdown",
   "metadata": {},
   "source": [
    "## 4.2 Calculate Mean, Min and Max"
   ]
  },
  {
   "cell_type": "code",
   "execution_count": null,
   "metadata": {
    "jupyter": {
     "source_hidden": true
    },
    "tags": []
   },
   "outputs": [],
   "source": [
    "tf.math.reduce_mean(lengths)"
   ]
  },
  {
   "cell_type": "code",
   "execution_count": null,
   "metadata": {
    "jupyter": {
     "source_hidden": true
    },
    "tags": []
   },
   "outputs": [],
   "source": [
    "tf.math.reduce_min(lengths)"
   ]
  },
  {
   "cell_type": "code",
   "execution_count": null,
   "metadata": {
    "jupyter": {
     "source_hidden": true
    },
    "tags": []
   },
   "outputs": [],
   "source": [
    "tf.math.reduce_max(lengths)"
   ]
  },
  {
   "cell_type": "markdown",
   "metadata": {},
   "source": [
    "# 5. Build Preprocessing Function to Convert to Spectrogram"
   ]
  },
  {
   "cell_type": "markdown",
   "metadata": {},
   "source": [
    "## 5.1 Build Preprocessing Function"
   ]
  },
  {
   "cell_type": "code",
   "execution_count": null,
   "metadata": {
    "jupyter": {
     "source_hidden": true
    },
    "tags": []
   },
   "outputs": [],
   "source": [
    "def preprocess(file_path, label): \n",
    "    wav = load_wav_16k_mono(file_path)\n",
    "    wav = wav[:48000]\n",
    "    zero_padding = tf.zeros([48000] - tf.shape(wav), dtype=tf.float32)\n",
    "    wav = tf.concat([zero_padding, wav],0)\n",
    "    spectrogram = tf.signal.stft(wav, frame_length=320, frame_step=32)\n",
    "    spectrogram = tf.abs(spectrogram)\n",
    "    spectrogram = tf.expand_dims(spectrogram, axis=2)\n",
    "    return spectrogram, label"
   ]
  },
  {
   "cell_type": "markdown",
   "metadata": {},
   "source": [
    "## 5.2 Test Out the Function and Viz the Spectrogram"
   ]
  },
  {
   "cell_type": "code",
   "execution_count": null,
   "metadata": {
    "jupyter": {
     "source_hidden": true
    },
    "tags": []
   },
   "outputs": [],
   "source": [
    "filepath, label = positives.shuffle(buffer_size=10000).as_numpy_iterator().next()"
   ]
  },
  {
   "cell_type": "code",
   "execution_count": null,
   "metadata": {
    "jupyter": {
     "source_hidden": true
    },
    "tags": []
   },
   "outputs": [],
   "source": [
    "spectrogram, label = preprocess(filepath, label)"
   ]
  },
  {
   "cell_type": "code",
   "execution_count": null,
   "metadata": {
    "jupyter": {
     "source_hidden": true
    },
    "tags": []
   },
   "outputs": [],
   "source": [
    "plt.figure(figsize=(30,20))\n",
    "plt.imshow(tf.transpose(spectrogram)[0])\n",
    "plt.show()"
   ]
  },
  {
   "cell_type": "markdown",
   "metadata": {},
   "source": [
    "# 6. Create Training and Testing Partitions"
   ]
  },
  {
   "cell_type": "markdown",
   "metadata": {},
   "source": [
    "## 6.1 Create a Tensorflow Data Pipeline"
   ]
  },
  {
   "cell_type": "code",
   "execution_count": null,
   "metadata": {
    "jupyter": {
     "source_hidden": true
    },
    "tags": []
   },
   "outputs": [],
   "source": [
    "data = data.map(preprocess)\n",
    "data = data.cache()\n",
    "data = data.shuffle(buffer_size=1000)\n",
    "data = data.batch(16)\n",
    "data = data.prefetch(8)"
   ]
  },
  {
   "cell_type": "markdown",
   "metadata": {},
   "source": [
    "## 6.2 Split into Training and Testing Partitions"
   ]
  },
  {
   "cell_type": "code",
   "execution_count": null,
   "metadata": {
    "jupyter": {
     "source_hidden": true
    },
    "tags": []
   },
   "outputs": [],
   "source": [
    "train = data.take(36)\n",
    "test = data.skip(36).take(15)"
   ]
  },
  {
   "cell_type": "markdown",
   "metadata": {},
   "source": [
    "## 6.3 Test One Batch"
   ]
  },
  {
   "cell_type": "code",
   "execution_count": null,
   "metadata": {
    "jupyter": {
     "source_hidden": true
    },
    "tags": []
   },
   "outputs": [],
   "source": [
    "samples, labels = train.as_numpy_iterator().next()"
   ]
  },
  {
   "cell_type": "code",
   "execution_count": null,
   "metadata": {
    "jupyter": {
     "source_hidden": true
    },
    "tags": []
   },
   "outputs": [],
   "source": [
    "samples.shape"
   ]
  },
  {
   "cell_type": "markdown",
   "metadata": {},
   "source": [
    "# 7. Build Deep Learning Model"
   ]
  },
  {
   "cell_type": "markdown",
   "metadata": {},
   "source": [
    "## 7.1 Load Tensorflow Dependencies"
   ]
  },
  {
   "cell_type": "code",
   "execution_count": null,
   "metadata": {
    "jupyter": {
     "source_hidden": true
    },
    "tags": []
   },
   "outputs": [],
   "source": [
    "from tensorflow.keras.models import Sequential\n",
    "from tensorflow.keras.layers import Conv2D, Dense, Flatten"
   ]
  },
  {
   "cell_type": "markdown",
   "metadata": {},
   "source": [
    "## 7.2 Build Sequential Model, Compile and View Summary"
   ]
  },
  {
   "cell_type": "code",
   "execution_count": null,
   "metadata": {
    "jupyter": {
     "source_hidden": true
    },
    "tags": []
   },
   "outputs": [],
   "source": [
    "model = Sequential()\n",
    "model.add(Conv2D(16, (3,3), activation='relu', input_shape=(1491, 257,1)))\n",
    "model.add(Conv2D(16, (3,3), activation='relu'))\n",
    "model.add(Flatten())\n",
    "model.add(Dense(128, activation='relu'))\n",
    "model.add(Dense(1, activation='sigmoid'))"
   ]
  },
  {
   "cell_type": "code",
   "execution_count": null,
   "metadata": {
    "jupyter": {
     "source_hidden": true
    },
    "tags": []
   },
   "outputs": [],
   "source": [
    "model.compile('Adam', loss='BinaryCrossentropy', metrics=[tf.keras.metrics.Recall(),tf.keras.metrics.Precision()])"
   ]
  },
  {
   "cell_type": "code",
   "execution_count": null,
   "metadata": {
    "jupyter": {
     "source_hidden": true
    },
    "tags": []
   },
   "outputs": [],
   "source": [
    "model.summary()"
   ]
  },
  {
   "cell_type": "markdown",
   "metadata": {},
   "source": [
    "## 7.3 Fit Model, View Loss and KPI Plots"
   ]
  },
  {
   "cell_type": "code",
   "execution_count": null,
   "metadata": {
    "jupyter": {
     "source_hidden": true
    },
    "tags": []
   },
   "outputs": [],
   "source": [
    "hist = model.fit(train, epochs=4, validation_data=test)"
   ]
  },
  {
   "cell_type": "code",
   "execution_count": null,
   "metadata": {
    "jupyter": {
     "source_hidden": true
    },
    "tags": []
   },
   "outputs": [],
   "source": [
    "plt.title('Loss')\n",
    "plt.plot(hist.history['loss'], 'r')\n",
    "plt.plot(hist.history['val_loss'], 'b')\n",
    "plt.show()"
   ]
  },
  {
   "cell_type": "code",
   "execution_count": null,
   "metadata": {
    "jupyter": {
     "source_hidden": true
    },
    "tags": []
   },
   "outputs": [],
   "source": [
    "plt.title('Precision')\n",
    "plt.plot(hist.history['precision'], 'r')\n",
    "plt.plot(hist.history['val_precision'], 'b')\n",
    "plt.show()"
   ]
  },
  {
   "cell_type": "code",
   "execution_count": null,
   "metadata": {
    "jupyter": {
     "source_hidden": true
    },
    "tags": []
   },
   "outputs": [],
   "source": [
    "plt.title('Recall')\n",
    "plt.plot(hist.history['recall'], 'r')\n",
    "plt.plot(hist.history['val_recall'], 'b')\n",
    "plt.show()"
   ]
  },
  {
   "cell_type": "markdown",
   "metadata": {},
   "source": [
    "# 8. Make a Prediction on a Single Clip"
   ]
  },
  {
   "cell_type": "markdown",
   "metadata": {},
   "source": [
    "## 8.1 Get One Batch and Make a Prediction"
   ]
  },
  {
   "cell_type": "code",
   "execution_count": null,
   "metadata": {
    "jupyter": {
     "source_hidden": true
    },
    "tags": []
   },
   "outputs": [],
   "source": [
    "X_test, y_test = test.as_numpy_iterator().next()"
   ]
  },
  {
   "cell_type": "code",
   "execution_count": null,
   "metadata": {
    "jupyter": {
     "source_hidden": true
    },
    "tags": []
   },
   "outputs": [],
   "source": [
    "yhat = model.predict(X_test)"
   ]
  },
  {
   "cell_type": "markdown",
   "metadata": {},
   "source": [
    "## 8.2 Convert Logits to Classes "
   ]
  },
  {
   "cell_type": "code",
   "execution_count": null,
   "metadata": {
    "jupyter": {
     "source_hidden": true
    },
    "tags": []
   },
   "outputs": [],
   "source": [
    "yhat = [1 if prediction > 0.5 else 0 for prediction in yhat]"
   ]
  },
  {
   "cell_type": "markdown",
   "metadata": {
    "tags": []
   },
   "source": [
    "# 9. Build Forest Parsing Functions"
   ]
  },
  {
   "cell_type": "markdown",
   "metadata": {},
   "source": [
    "## 9.1 Load up MP3s"
   ]
  },
  {
   "cell_type": "code",
   "execution_count": null,
   "metadata": {
    "jupyter": {
     "source_hidden": true
    }
   },
   "outputs": [],
   "source": [
    "def load_mp3_16k_mono(filename):\n",
    "    \"\"\" Load a WAV file, convert it to a float tensor, resample to 16 kHz single-channel audio. \"\"\"\n",
    "    res = tfio.audio.AudioIOTensor(filename)\n",
    "    # Convert to tensor and combine channels \n",
    "    tensor = res.to_tensor()\n",
    "    tensor = tf.math.reduce_sum(tensor, axis=1) / 2 \n",
    "    # Extract sample rate and cast\n",
    "    sample_rate = res.rate\n",
    "    sample_rate = tf.cast(sample_rate, dtype=tf.int64)\n",
    "    # Resample to 16 kHz\n",
    "    wav = tfio.audio.resample(tensor, rate_in=sample_rate, rate_out=16000)\n",
    "    return wav"
   ]
  },
  {
   "cell_type": "code",
   "execution_count": null,
   "metadata": {
    "jupyter": {
     "source_hidden": true
    }
   },
   "outputs": [],
   "source": [
    "mp3 = os.path.join('data', 'Forest Recordings', 'recording_00.mp3')"
   ]
  },
  {
   "cell_type": "code",
   "execution_count": null,
   "metadata": {
    "jupyter": {
     "source_hidden": true
    },
    "tags": []
   },
   "outputs": [],
   "source": [
    "wav = load_mp3_16k_mono(mp3)"
   ]
  },
  {
   "cell_type": "code",
   "execution_count": null,
   "metadata": {
    "jupyter": {
     "source_hidden": true
    }
   },
   "outputs": [],
   "source": [
    "audio_slices = tf.keras.utils.timeseries_dataset_from_array(wav, wav, sequence_length=48000, sequence_stride=48000, batch_size=1)"
   ]
  },
  {
   "cell_type": "code",
   "execution_count": null,
   "metadata": {
    "jupyter": {
     "source_hidden": true
    }
   },
   "outputs": [],
   "source": [
    "samples, index = audio_slices.as_numpy_iterator().next()"
   ]
  },
  {
   "cell_type": "markdown",
   "metadata": {},
   "source": [
    "## 9.2 Build Function to Convert Clips into Windowed Spectrograms"
   ]
  },
  {
   "cell_type": "code",
   "execution_count": null,
   "metadata": {
    "jupyter": {
     "source_hidden": true
    }
   },
   "outputs": [],
   "source": [
    "def preprocess_mp3(sample, index):\n",
    "    sample = sample[0]\n",
    "    zero_padding = tf.zeros([48000] - tf.shape(sample), dtype=tf.float32)\n",
    "    wav = tf.concat([zero_padding, sample],0)\n",
    "    spectrogram = tf.signal.stft(wav, frame_length=320, frame_step=32)\n",
    "    spectrogram = tf.abs(spectrogram)\n",
    "    spectrogram = tf.expand_dims(spectrogram, axis=2)\n",
    "    return spectrogram"
   ]
  },
  {
   "cell_type": "markdown",
   "metadata": {},
   "source": [
    "## 9.3 Convert Longer Clips into Windows and Make Predictions"
   ]
  },
  {
   "cell_type": "code",
   "execution_count": null,
   "metadata": {
    "jupyter": {
     "source_hidden": true
    }
   },
   "outputs": [],
   "source": [
    "audio_slices = tf.keras.utils.timeseries_dataset_from_array(wav, wav, sequence_length=16000, sequence_stride=16000, batch_size=1)\n",
    "audio_slices = audio_slices.map(preprocess_mp3)\n",
    "audio_slices = audio_slices.batch(64)"
   ]
  },
  {
   "cell_type": "code",
   "execution_count": null,
   "metadata": {
    "jupyter": {
     "source_hidden": true
    }
   },
   "outputs": [],
   "source": [
    "yhat = model.predict(audio_slices)\n",
    "yhat = [1 if prediction > 0.5 else 0 for prediction in yhat]"
   ]
  },
  {
   "cell_type": "markdown",
   "metadata": {},
   "source": [
    "## 9.4 Group Consecutive Detections"
   ]
  },
  {
   "cell_type": "code",
   "execution_count": null,
   "metadata": {
    "jupyter": {
     "source_hidden": true
    }
   },
   "outputs": [],
   "source": [
    "from itertools import groupby"
   ]
  },
  {
   "cell_type": "code",
   "execution_count": null,
   "metadata": {
    "jupyter": {
     "source_hidden": true
    }
   },
   "outputs": [],
   "source": [
    "yhat = [key for key, group in groupby(yhat)]\n",
    "calls = tf.math.reduce_sum(yhat).numpy()"
   ]
  },
  {
   "cell_type": "code",
   "execution_count": null,
   "metadata": {
    "jupyter": {
     "source_hidden": true
    }
   },
   "outputs": [],
   "source": [
    "calls"
   ]
  },
  {
   "cell_type": "markdown",
   "metadata": {},
   "source": [
    "# 10. Make Predictions"
   ]
  },
  {
   "cell_type": "markdown",
   "metadata": {},
   "source": [
    "## 10.1 Loop over all recordings and make predictions"
   ]
  },
  {
   "cell_type": "code",
   "execution_count": null,
   "metadata": {
    "jupyter": {
     "source_hidden": true
    }
   },
   "outputs": [],
   "source": [
    "results = {}\n",
    "for file in os.listdir(os.path.join('data', 'Forest Recordings')):\n",
    "    FILEPATH = os.path.join('data','Forest Recordings', file)\n",
    "    \n",
    "    wav = load_mp3_16k_mono(FILEPATH)\n",
    "    audio_slices = tf.keras.utils.timeseries_dataset_from_array(wav, wav, sequence_length=48000, sequence_stride=48000, batch_size=1)\n",
    "    audio_slices = audio_slices.map(preprocess_mp3)\n",
    "    audio_slices = audio_slices.batch(64)\n",
    "    \n",
    "    yhat = model.predict(audio_slices)\n",
    "    \n",
    "    results[file] = yhat"
   ]
  },
  {
   "cell_type": "code",
   "execution_count": null,
   "metadata": {
    "jupyter": {
     "source_hidden": true
    },
    "scrolled": true,
    "tags": []
   },
   "outputs": [],
   "source": [
    "results"
   ]
  },
  {
   "cell_type": "markdown",
   "metadata": {},
   "source": [
    "## 10.2 Convert Predictions into Classes"
   ]
  },
  {
   "cell_type": "code",
   "execution_count": null,
   "metadata": {
    "jupyter": {
     "source_hidden": true
    },
    "scrolled": true,
    "tags": []
   },
   "outputs": [],
   "source": [
    "class_preds = {}\n",
    "for file, logits in results.items():\n",
    "    class_preds[file] = [1 if prediction > 0.99 else 0 for prediction in logits]\n",
    "class_preds"
   ]
  },
  {
   "cell_type": "markdown",
   "metadata": {},
   "source": [
    "## 10.3 Group Consecutive Detections"
   ]
  },
  {
   "cell_type": "code",
   "execution_count": null,
   "metadata": {
    "jupyter": {
     "source_hidden": true
    },
    "scrolled": true,
    "tags": []
   },
   "outputs": [],
   "source": [
    "postprocessed = {}\n",
    "for file, scores in class_preds.items():\n",
    "    postprocessed[file] = tf.math.reduce_sum([key for key, group in groupby(scores)]).numpy()\n",
    "postprocessed"
   ]
  },
  {
   "cell_type": "markdown",
   "metadata": {},
   "source": [
    "# 11. Export Results"
   ]
  },
  {
   "cell_type": "code",
   "execution_count": null,
   "metadata": {
    "jupyter": {
     "source_hidden": true
    }
   },
   "outputs": [],
   "source": [
    "import csv"
   ]
  },
  {
   "cell_type": "code",
   "execution_count": null,
   "metadata": {
    "jupyter": {
     "source_hidden": true
    },
    "tags": []
   },
   "outputs": [],
   "source": [
    "with open('results.csv', 'w', newline='') as f:\n",
    "    writer = csv.writer(f, delimiter=',')\n",
    "    writer.writerow(['recording', 'capuchin_calls'])\n",
    "    for key, value in postprocessed.items():\n",
    "        writer.writerow([key, value])"
   ]
  }
 ],
 "metadata": {
  "kernelspec": {
   "display_name": ".venv",
   "language": "python",
   "name": "python3"
  },
  "language_info": {
   "codemirror_mode": {
    "name": "ipython",
    "version": 3
   },
   "file_extension": ".py",
   "mimetype": "text/x-python",
   "name": "python",
   "nbconvert_exporter": "python",
   "pygments_lexer": "ipython3",
   "version": "3.10.11"
  }
 },
 "nbformat": 4,
 "nbformat_minor": 4
}
