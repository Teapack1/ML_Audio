{
 "cells": [
  {
   "cell_type": "markdown",
   "metadata": {},
   "source": [
    "# Keyword spoting Inference"
   ]
  },
  {
   "cell_type": "code",
   "execution_count": 7,
   "metadata": {},
   "outputs": [],
   "source": [
    "import tensorflow.keras as keras\n",
    "import numpy as np\n",
    "import librosa\n",
    "\n",
    "MODEL_PATH = \"model.h5\"\n",
    "# A better way for of storing constants for the ML system \n",
    "# is having an external confix file for consistency purposes.\n",
    "NUM_SAMPLES_TO_CONSIDER = 22050 # 1 sec worth of sound in librosa"
   ]
  },
  {
   "cell_type": "code",
   "execution_count": 14,
   "metadata": {},
   "outputs": [],
   "source": [
    "# Singleton class - a calss that only can have one instance in the srvice.\n",
    "class _Keyword_Spotting_Service:\n",
    "    \n",
    "    model = None\n",
    "    #Mapping taken from the dataset json file\n",
    "    _mappings = [\n",
    "        \"five\",\n",
    "        \"four\",\n",
    "        \"go\",\n",
    "        \"no\",\n",
    "        \"off\",\n",
    "        \"on\",\n",
    "        \"one\",\n",
    "        \"stop\",\n",
    "        \"three\",\n",
    "        \"tree\",\n",
    "        \"two\",\n",
    "        \"wow\",\n",
    "        \"yes\",\n",
    "        \"_background_noise_\"\n",
    "    ]\n",
    "    \n",
    "    # Instance of the class - PYthon does not enforce Singleton class, to we need to do it manually\n",
    "    _instance = None\n",
    "    \n",
    "    def predict(self, file_path):\n",
    "        \n",
    "        # Extract MFCCs\n",
    "        MFCCs = self.preprocess(file_path) # (#(44) segments, #(13) coefficients)\n",
    "        \n",
    "         # Convert 2d MFCCs arry into 4d array -> (# samples, # segments, # coefficients, # channels)\n",
    "        MFCCs = MFCCs[np.newaxis, ..., np.newaxis]\n",
    "        \n",
    "        # Make prediction\n",
    "        predictions = self.model.predict(MFCCs) # [ [0.1, 0.6, 0.1, 0.2] ]\n",
    "        predicted_index = np.argmax(predictions) # 1\n",
    "        predicted_keyword = self._mappings[predicted_index]\n",
    "        \n",
    "        return predicted_keyword\n",
    "        \n",
    "    def preprocess(self, file_path, n_mfcc=13, n_fft=2048, hop_length=512):\n",
    "        \n",
    "        # Load audio file\n",
    "        signal, sr = librosa.load(file_path)\n",
    "        \n",
    "        # Ensure consistency in the audio file length\n",
    "        if len(signal) > NUM_SAMPLES_TO_CONSIDER:\n",
    "            signal = signal[:NUM_SAMPLES_TO_CONSIDER]\n",
    "        \n",
    "        # Extract MFCCs\n",
    "        MFCCs = librosa.feature.mfcc(y = signal, n_mfcc = n_mfcc, n_fft = n_fft, hop_length = hop_length)\n",
    "\n",
    "        # Transpose the matrix\n",
    "        return MFCCs.T\n",
    "    \n"
   ]
  },
  {
   "cell_type": "code",
   "execution_count": 20,
   "metadata": {},
   "outputs": [
    {
     "name": "stdout",
     "output_type": "stream",
     "text": [
      "1/1 [==============================] - 0s 18ms/step\n",
      "1/1 [==============================] - 0s 22ms/step\n",
      "1/1 [==============================] - 0s 18ms/step\n",
      "1/1 [==============================] - 0s 19ms/step\n",
      "1/1 [==============================] - 0s 18ms/step\n",
      "1/1 [==============================] - 0s 20ms/step\n",
      "1/1 [==============================] - 0s 18ms/step\n",
      "1/1 [==============================] - 0s 18ms/step\n",
      "Predicted keyword: five, no, no, off, off, on, stop, three\n"
     ]
    }
   ],
   "source": [
    "def Keyword_Spotting_Service():\n",
    "    # Ensure only one instance of KSS is created\n",
    "    if _Keyword_Spotting_Service._instance is None:\n",
    "        _Keyword_Spotting_Service._instance = _Keyword_Spotting_Service()\n",
    "        _Keyword_Spotting_Service.model = keras.models.load_model(MODEL_PATH)\n",
    "\n",
    "    return _Keyword_Spotting_Service._instance\n",
    "\n",
    "if __name__ == \"__main__\":\n",
    "    \n",
    "    kss = Keyword_Spotting_Service()\n",
    "    \n",
    "    keyword1 = kss.predict(\"testSamples\\\\five.wav\")\n",
    "    keyword2 = kss.predict(\"testSamples\\\\go.wav\")\n",
    "    keyword3 = kss.predict(\"testSamples\\\\no.wav\")\n",
    "    keyword4 = kss.predict(\"testSamples\\\\noise.wav\")\n",
    "    keyword5 = kss.predict(\"testSamples\\\\off.wav\")\n",
    "    keyword6 = kss.predict(\"testSamples\\\\on.wav\")\n",
    "    keyword7 = kss.predict(\"testSamples\\\\stop.wav\")\n",
    "    keyword8 = kss.predict(\"testSamples\\\\three.wav\")\n",
    "    \n",
    "    print(f\"Predicted keyword: {keyword1}, {keyword2}, {keyword3}, {keyword4}, {keyword5}, {keyword6}, {keyword7}, {keyword8}\")"
   ]
  },
  {
   "cell_type": "code",
   "execution_count": null,
   "metadata": {},
   "outputs": [],
   "source": []
  }
 ],
 "metadata": {
  "kernelspec": {
   "display_name": ".venv",
   "language": "python",
   "name": "python3"
  },
  "language_info": {
   "codemirror_mode": {
    "name": "ipython",
    "version": 3
   },
   "file_extension": ".py",
   "mimetype": "text/x-python",
   "name": "python",
   "nbconvert_exporter": "python",
   "pygments_lexer": "ipython3",
   "version": "3.11.4"
  },
  "orig_nbformat": 4
 },
 "nbformat": 4,
 "nbformat_minor": 2
}
