{
 "cells": [
  {
   "cell_type": "code",
   "execution_count": 26,
   "metadata": {},
   "outputs": [],
   "source": [
    "from transformers import pipeline\n",
    "import torch\n",
    "\n",
    "device = \"cuda:0\" if torch.cuda.is_available() else \"cpu\"\n",
    "\n",
    "classifier = pipeline(\n",
    "    \"audio-classification\", model=\"MIT/ast-finetuned-speech-commands-v2\", device=device\n",
    ")"
   ]
  },
  {
   "cell_type": "code",
   "execution_count": 27,
   "metadata": {},
   "outputs": [
    {
     "data": {
      "text/plain": [
       "'marvin'"
      ]
     },
     "execution_count": 27,
     "metadata": {},
     "output_type": "execute_result"
    }
   ],
   "source": [
    "classifier.model.config.id2label[27]"
   ]
  },
  {
   "cell_type": "code",
   "execution_count": 28,
   "metadata": {},
   "outputs": [],
   "source": [
    "from transformers.pipelines.audio_utils import ffmpeg_microphone_live\n",
    "\n",
    "\n",
    "def launch_fn(\n",
    "    wake_word=\"marvin\",\n",
    "    prob_threshold=0.5,\n",
    "    chunk_length_s=2.0,\n",
    "    stream_chunk_s=0.25,\n",
    "    debug=False,\n",
    "):\n",
    "    if wake_word not in classifier.model.config.label2id.keys():\n",
    "        raise ValueError(\n",
    "            f\"Wake word {wake_word} not in set of valid class labels, pick a wake word in the set {classifier.model.config.label2id.keys()}.\"\n",
    "        )\n",
    "\n",
    "    sampling_rate = classifier.feature_extractor.sampling_rate\n",
    "\n",
    "    mic = ffmpeg_microphone_live(\n",
    "        sampling_rate=sampling_rate,\n",
    "        chunk_length_s=chunk_length_s,\n",
    "        stream_chunk_s=stream_chunk_s,\n",
    "    )\n",
    "\n",
    "    print(\"Listening for wake word...\")\n",
    "    for prediction in classifier(mic):\n",
    "        prediction = prediction[0]\n",
    "        if debug:\n",
    "            print(prediction)\n",
    "        if prediction[\"label\"] == wake_word:\n",
    "            if prediction[\"score\"] > prob_threshold:\n",
    "                return True"
   ]
  },
  {
   "cell_type": "code",
   "execution_count": 29,
   "metadata": {},
   "outputs": [
    {
     "name": "stdout",
     "output_type": "stream",
     "text": [
      "Listening for wake word...\n",
      "Found microphone Microphone (High Definition Audio Device)\n"
     ]
    },
    {
     "name": "stderr",
     "output_type": "stream",
     "text": [
      "d:\\Code\\ProjectsPython\\ML_TrainingGround\\ML_Audio\\.venv\\lib\\site-packages\\transformers\\models\\audio_spectrogram_transformer\\feature_extraction_audio_spectrogram_transformer.py:96: UserWarning: The given NumPy array is not writable, and PyTorch does not support non-writable tensors. This means writing to this tensor will result in undefined behavior. You may want to copy the array to protect its data or make it writable before converting it to a tensor. This type of warning will be suppressed for the rest of this program. (Triggered internally at ..\\torch\\csrc\\utils\\tensor_numpy.cpp:212.)\n",
      "  waveform = torch.from_numpy(waveform).unsqueeze(0)\n"
     ]
    },
    {
     "name": "stdout",
     "output_type": "stream",
     "text": [
      "{'score': 0.05077214539051056, 'label': 'two'}\n",
      "{'score': 0.05789390951395035, 'label': 'two'}\n",
      "{'score': 0.07772436738014221, 'label': 'up'}\n",
      "{'score': 0.11682263016700745, 'label': 'off'}\n",
      "{'score': 0.12027334421873093, 'label': 'off'}\n",
      "{'score': 0.11932394653558731, 'label': 'off'}\n",
      "{'score': 0.1193239763379097, 'label': 'off'}\n",
      "{'score': 0.1193239837884903, 'label': 'off'}\n",
      "{'score': 0.09795408695936203, 'label': 'off'}\n",
      "{'score': 0.26684102416038513, 'label': 'three'}\n",
      "{'score': 0.18778195977210999, 'label': 'seven'}\n",
      "{'score': 0.18778195977210999, 'label': 'seven'}\n",
      "{'score': 0.18778195977210999, 'label': 'seven'}\n",
      "{'score': 0.18778161704540253, 'label': 'seven'}\n",
      "{'score': 0.9975855350494385, 'label': 'marvin'}\n"
     ]
    },
    {
     "data": {
      "text/plain": [
       "True"
      ]
     },
     "execution_count": 29,
     "metadata": {},
     "output_type": "execute_result"
    }
   ],
   "source": [
    "launch_fn(debug=True)"
   ]
  },
  {
   "cell_type": "code",
   "execution_count": 22,
   "metadata": {},
   "outputs": [
    {
     "name": "stderr",
     "output_type": "stream",
     "text": [
      "Some weights of the model checkpoint at anton-l/xtreme_s_xlsr_minds14 were not used when initializing Wav2Vec2ForSequenceClassification: ['wav2vec2.encoder.pos_conv_embed.conv.weight_g', 'wav2vec2.encoder.pos_conv_embed.conv.weight_v']\n",
      "- This IS expected if you are initializing Wav2Vec2ForSequenceClassification from the checkpoint of a model trained on another task or with another architecture (e.g. initializing a BertForSequenceClassification model from a BertForPreTraining model).\n",
      "- This IS NOT expected if you are initializing Wav2Vec2ForSequenceClassification from the checkpoint of a model that you expect to be exactly identical (initializing a BertForSequenceClassification model from a BertForSequenceClassification model).\n",
      "Some weights of Wav2Vec2ForSequenceClassification were not initialized from the model checkpoint at anton-l/xtreme_s_xlsr_minds14 and are newly initialized: ['wav2vec2.encoder.pos_conv_embed.conv.parametrizations.weight.original0', 'wav2vec2.encoder.pos_conv_embed.conv.parametrizations.weight.original1']\n",
      "You should probably TRAIN this model on a down-stream task to be able to use it for predictions and inference.\n"
     ]
    }
   ],
   "source": [
    "import numpy as np\n",
    "\n",
    "intent_class_pipe = pipeline(\n",
    "    \"audio-classification\", model=\"anton-l/xtreme_s_xlsr_minds14\", device=device\n",
    ")\n",
    "\n",
    "# Listens to 2 second chunks, if there is one chunk silence, it will quit loop and concatineate all chunks into one audio file\n",
    "\n",
    "def listen(chunk_length_s=2.0, stream_chunk_s=2.0):\n",
    "    sampling_rate = intent_class_pipe.feature_extractor.sampling_rate\n",
    "\n",
    "\n",
    "    mic = ffmpeg_microphone_live(\n",
    "        sampling_rate=sampling_rate,\n",
    "        chunk_length_s=chunk_length_s,\n",
    "        stream_chunk_s=stream_chunk_s,\n",
    "    )\n",
    "    audio_buffer = []\n",
    "    \n",
    "    print(\"Listening\")\n",
    "    for i in range(5):\n",
    "        audio_chunk = next(mic)\n",
    "        audio_buffer.append(audio_chunk[\"raw\"])\n",
    "        \n",
    "        if is_silence(audio_chunk[\"raw\"], threshold=0.7):\n",
    "            print(\"Silence detected, processing audio.\")\n",
    "            break\n",
    "        \n",
    "    combined_audio = np.concatenate(audio_buffer)\n",
    "    prediction = intent_class_pipe(combined_audio)\n",
    "    prediction = prediction[0]\n",
    "    print(prediction)\n",
    "    \n",
    "def is_silence(audio_chunk, threshold):\n",
    "    silence = intent_class_pipe(audio_chunk)\n",
    "    if silence[0][\"label\"] == \"silence\" and silence[0][\"score\"] > threshold:\n",
    "        return True\n",
    "    else:\n",
    "        return False"
   ]
  },
  {
   "cell_type": "code",
   "execution_count": 23,
   "metadata": {},
   "outputs": [
    {
     "name": "stdout",
     "output_type": "stream",
     "text": [
      "Listening\n",
      "Found microphone Microphone (High Definition Audio Device)\n",
      "{'score': 0.3211755156517029, 'label': 'address'}\n"
     ]
    }
   ],
   "source": [
    "listen()"
   ]
  },
  {
   "cell_type": "code",
   "execution_count": 25,
   "metadata": {},
   "outputs": [
    {
     "data": {
      "text/plain": [
       "{0: 'abroad',\n",
       " 1: 'address',\n",
       " 2: 'app_error',\n",
       " 3: 'atm_limit',\n",
       " 4: 'balance',\n",
       " 5: 'business_loan',\n",
       " 6: 'card_issues',\n",
       " 7: 'cash_deposit',\n",
       " 8: 'direct_debit',\n",
       " 9: 'freeze',\n",
       " 10: 'high_value_payment',\n",
       " 11: 'joint_account',\n",
       " 12: 'latest_transactions',\n",
       " 13: 'pay_bill'}"
      ]
     },
     "execution_count": 25,
     "metadata": {},
     "output_type": "execute_result"
    }
   ],
   "source": [
    "intent_class_pipe.model.config.id2label"
   ]
  },
  {
   "cell_type": "code",
   "execution_count": 32,
   "metadata": {},
   "outputs": [
    {
     "name": "stdout",
     "output_type": "stream",
     "text": [
      "Listening for wake word...\n",
      "Found microphone Microphone (High Definition Audio Device)\n",
      "{'score': 0.052111607044935226, 'label': 'two'}\n",
      "{'score': 0.0628180131316185, 'label': 'two'}\n",
      "{'score': 0.19197994470596313, 'label': 'five'}\n",
      "{'score': 0.9999701976776123, 'label': 'marvin'}\n",
      "Listening\n",
      "Found microphone Microphone (High Definition Audio Device)\n",
      "{'score': 0.9997138381004333, 'label': 'pay_bill'}\n"
     ]
    }
   ],
   "source": [
    "launch_fn(debug=True)\n",
    "listen()"
   ]
  },
  {
   "cell_type": "code",
   "execution_count": null,
   "metadata": {},
   "outputs": [],
   "source": []
  }
 ],
 "metadata": {
  "kernelspec": {
   "display_name": ".venv",
   "language": "python",
   "name": "python3"
  },
  "language_info": {
   "codemirror_mode": {
    "name": "ipython",
    "version": 3
   },
   "file_extension": ".py",
   "mimetype": "text/x-python",
   "name": "python",
   "nbconvert_exporter": "python",
   "pygments_lexer": "ipython3",
   "version": "3.10.11"
  }
 },
 "nbformat": 4,
 "nbformat_minor": 2
}
