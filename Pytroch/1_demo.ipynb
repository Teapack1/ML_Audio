{
 "cells": [
  {
   "cell_type": "code",
   "execution_count": 2,
   "metadata": {},
   "outputs": [],
   "source": [
    "import torch\n",
    "from torch import nn\n",
    "from torch.utils.data import Dataset, DataLoader\n",
    "from torchvision import datasets\n",
    "from torchvision.transforms import ToTensor\n",
    "\n",
    "BATCH_SIZE = 128\n",
    "EPOCHS = 10\n",
    "LEARNING_RATE = 0.001"
   ]
  },
  {
   "cell_type": "markdown",
   "metadata": {},
   "source": [
    "## Mnist dataset traininig"
   ]
  },
  {
   "cell_type": "markdown",
   "metadata": {},
   "source": [
    "### Download dataset"
   ]
  },
  {
   "cell_type": "code",
   "execution_count": 4,
   "metadata": {},
   "outputs": [],
   "source": [
    "# Download dataset\n",
    "\n",
    "def download_mnist_datasets():\n",
    "    # Dataset MNIST class is concrete implementation of dataset class that comes with Pytorch.\n",
    "    # Dataset class allows us to store our data in orderly manner (labels, annoteations, images, etc.) and then use them in our model to train.\n",
    "    train_data = datasets.MNIST(\n",
    "        # Where to store the dataset, which we downloading -> in a new folder \"data\" in working dir.\n",
    "        root=\"data\",\n",
    "        # If the download has not beed downloaded yet, download it.\n",
    "        download=True,\n",
    "        # we are intereseted in the training set.\n",
    "        train=True,\n",
    "        # transform the data to a tensor.\n",
    "        transform=ToTensor(),\n",
    "    )\n",
    "    validation_data = datasets.MNIST(\n",
    "    root=\"data\",\n",
    "    download=True,\n",
    "    # we are not intereseted in the training set.\n",
    "    train=False,\n",
    "    transform=ToTensor(),\n",
    ")\n",
    "    return train_data, validation_data"
   ]
  },
  {
   "cell_type": "markdown",
   "metadata": {},
   "source": [
    "### Data loader "
   ]
  },
  {
   "cell_type": "code",
   "execution_count": 8,
   "metadata": {},
   "outputs": [
    {
     "name": "stdout",
     "output_type": "stream",
     "text": [
      "Mnist dataset downloaded\n"
     ]
    }
   ],
   "source": [
    "if __name__ == \"__main__\":\n",
    "    #Download mnist dataset\n",
    "    train_data, _ = download_mnist_datasets()\n",
    "    print(\"Mnist dataset downloaded\")\n",
    "    \n",
    "    ## Create Data loader :\n",
    "    # Data loader - Class that we can use to wrap a dataset and fetch (load) data in batches\n",
    "    # Data loader is an iterable object, allows to load datasets that are queit heavy and not fit in memory.\n",
    "\n",
    "    # Pass the datasetand batch size\n",
    "    train_data_loader = DataLoader(train_data, batch_size=BATCH_SIZE)"
   ]
  },
  {
   "cell_type": "markdown",
   "metadata": {},
   "source": [
    "### Create the model"
   ]
  },
  {
   "cell_type": "code",
   "execution_count": 13,
   "metadata": {},
   "outputs": [],
   "source": [
    "#Build the model:\n",
    "\n",
    "# Models that are created with Pytorch are subclasses of nn.Module class.\n",
    "# A model is a subclass of nn.Module class, when we create a model we inherit from nn.Module class and override the __init__ and forward() methods.\n",
    "\n",
    "# Out NN class:\n",
    "class FeedForwardNet(nn.Module):\n",
    "    # In Pytorch we need to define constructor (__init__ method) and forward method.\n",
    "    \n",
    "    #constructor:\n",
    "    def __init__(self):\n",
    "        #super() - allows us to use all the methods and properties of the parent class (nn.Module).\n",
    "        super(FeedForwardNet ,self).__init__()\n",
    "        # Store all the leyers as attributes of the class.\n",
    "        # nn.Flatten - layer that converts the input into 1D tensor.\n",
    "        self.flatten = nn.Flatten()\n",
    "        # nn.Sequential() - container for multiple layers, that are executed sequentially.\n",
    "        self.dense_layers = nn.Sequential(\n",
    "            nn.Linear(28*28, 256), # 1st layer - Linear = Dense, 28*28 = input size, 256 = output size.\n",
    "            nn.ReLU(), # Activation function.\n",
    "            nn.Linear(256, 10) # 2nd layer - Linear = Dense, 256 = input size, 10 = output size.\n",
    "        )\n",
    "        self.softmax = nn.Softmax(dim=1) # Transforms the output into probability distribution . Kind of normalization.\n",
    "    \n",
    "    # Defining forward method\n",
    "    # Forward method indicates Pytroch in what sequence to process the data.\n",
    "    def forward(self, input_data):\n",
    "        flattened_data = self.flatten(input_data)\n",
    "        logits = self.dense_layers(flattened_data)\n",
    "        predictions = self.softmax(logits)\n",
    "        return predictions"
   ]
  },
  {
   "cell_type": "markdown",
   "metadata": {},
   "source": [
    "### Build Model"
   ]
  },
  {
   "cell_type": "code",
   "execution_count": 15,
   "metadata": {},
   "outputs": [],
   "source": [
    "# Build model\n",
    "# Create an instance of the model:\n",
    "if torch.cuda.is_available():\n",
    "    device = \"cuda\"\n",
    "else:\n",
    "    device = \"cpu\"\n",
    "\n",
    "feed_forward_net = FeedForwardNet().to(device)"
   ]
  },
  {
   "cell_type": "markdown",
   "metadata": {},
   "source": [
    "### Train Function"
   ]
  },
  {
   "cell_type": "code",
   "execution_count": 17,
   "metadata": {},
   "outputs": [],
   "source": [
    "# Train model:\n",
    "\n",
    "def train_one_epoch(model, data_loader, loss_fn, optimizer, device):\n",
    "    # cerate a loop that will iterate over the data loader\n",
    "    for inputs, targets in data_loader:\n",
    "        inputs, targets = inputs.to(device), targets.to(device)\n",
    "        \n",
    "        # calcualte loss\n",
    "        predictions = model(inputs)\n",
    "        loss = loss_fn(predictions, targets)\n",
    "        \n",
    "        # backpropagate loss and update weights\n",
    "        optimizer.zero_grad()\n",
    "        loss.backward()\n",
    "        optimizer.step()\n",
    "    \n",
    "    print(f\"Loss: {loss.item()}\")\n",
    "               \n",
    "def train(model, data_loader, loss_fn, optimizer, device, epochs):\n",
    "    for i in range(epochs):\n",
    "        print(f\"Epoch {i+1}\")\n",
    "        train_one_epoch(model, data_loader, loss_fn, optimizer, device)\n",
    "        print(\"---------------------------\")\n",
    "    print(\"Finished training\")"
   ]
  },
  {
   "cell_type": "code",
   "execution_count": 23,
   "metadata": {},
   "outputs": [],
   "source": [
    "#Instantuiate optimizer and loss function\n",
    "\n",
    "loss_fn = nn.CrossEntropyLoss()\n",
    "optimizer = torch.optim.Adam(feed_forward_net.parameters(), lr=LEARNING_RATE)"
   ]
  },
  {
   "cell_type": "markdown",
   "metadata": {},
   "source": [
    "### Training the model"
   ]
  },
  {
   "cell_type": "code",
   "execution_count": 24,
   "metadata": {},
   "outputs": [
    {
     "name": "stdout",
     "output_type": "stream",
     "text": [
      "Epoch 1\n",
      "Loss: 1.5129016637802124\n",
      "---------------------------\n",
      "Epoch 2\n",
      "Loss: 1.5009535551071167\n",
      "---------------------------\n",
      "Epoch 3\n",
      "Loss: 1.5004338026046753\n",
      "---------------------------\n",
      "Epoch 4\n",
      "Loss: 1.4847851991653442\n",
      "---------------------------\n",
      "Epoch 5\n",
      "Loss: 1.4795503616333008\n",
      "---------------------------\n",
      "Epoch 6\n",
      "Loss: 1.4752353429794312\n",
      "---------------------------\n",
      "Epoch 7\n",
      "Loss: 1.4729794263839722\n",
      "---------------------------\n",
      "Epoch 8\n",
      "Loss: 1.4723771810531616\n",
      "---------------------------\n",
      "Epoch 9\n",
      "Loss: 1.4725545644760132\n",
      "---------------------------\n",
      "Epoch 10\n",
      "Loss: 1.4722226858139038\n",
      "---------------------------\n",
      "Finished training\n",
      "Model trained and saved\n"
     ]
    }
   ],
   "source": [
    "train(feed_forward_net, train_data_loader, loss_fn, optimizer, device, EPOCHS)\n",
    "\n",
    "# Saves model .state_dict() - method that returns the state of the model as a dictionary.\n",
    "torch.save(feed_forward_net.state_dict(), \"feedforwardnet.pth\")\n",
    "\n",
    "print(\"Model trained and saved\")"
   ]
  },
  {
   "cell_type": "markdown",
   "metadata": {},
   "source": [
    "## Inference making predictions"
   ]
  },
  {
   "cell_type": "markdown",
   "metadata": {},
   "source": [
    "### Prediction and mapping function"
   ]
  },
  {
   "cell_type": "code",
   "execution_count": 25,
   "metadata": {},
   "outputs": [],
   "source": [
    "class_mapping = [\n",
    "    \"0\",\n",
    "    \"1\",\n",
    "    \"2\",\n",
    "    \"3\",\n",
    "    \"4\",\n",
    "    \"5\",\n",
    "    \"6\",\n",
    "    \"7\",\n",
    "    \"8\",\n",
    "    \"9\"\n",
    "]\n",
    "\n",
    "def predict(model, input, target, class_mapping):\n",
    "    # eval is method that changes how the pytorch model behaves , when activatted it will disable dropout and batch normalization.\n",
    "    model.eval()\n",
    "    # context manager to disable calculation of gradient descent\n",
    "    with torch.no_grad():\n",
    "        predictions = model(input)\n",
    "        # 2D tensors (1 num of inputs, 10 num of classes) -> [[0.1, 0.01, ... , 0.6]]\n",
    "        predicted_index = predictions[0].argmax(0)\n",
    "        predicted = class_mapping[predicted_index]\n",
    "        expected = class_mapping[target]\n",
    "    return predicted, expected"
   ]
  },
  {
   "cell_type": "markdown",
   "metadata": {},
   "source": [
    "### Running Inference"
   ]
  },
  {
   "cell_type": "code",
   "execution_count": 29,
   "metadata": {},
   "outputs": [
    {
     "name": "stdout",
     "output_type": "stream",
     "text": [
      "Predicted: '9', expected: '9'\n"
     ]
    }
   ],
   "source": [
    "if __name__ ==\"__main__\":\n",
    "    # load back the model\n",
    "    feed_forward_net = FeedForwardNet()\n",
    "    state_dict = torch.load(\"feedforwardnet.pth\")\n",
    "    feed_forward_net.load_state_dict(state_dict)\n",
    "    \n",
    "    # load MNIST validation dataset\n",
    "    _, validation_data = download_mnist_datasets()\n",
    "    \n",
    "    # get a sample from the validation dataset for inference\n",
    "    # get the first item and target from the validation dataset\n",
    "    input, target = validation_data[7][0], validation_data[7][1]\n",
    "    \n",
    "    # make an inference\n",
    "    predicted, expected = predict(feed_forward_net, input, target, class_mapping)\n",
    "    \n",
    "    print(f\"Predicted: '{predicted}', expected: '{expected}'\")"
   ]
  },
  {
   "cell_type": "code",
   "execution_count": null,
   "metadata": {},
   "outputs": [],
   "source": []
  }
 ],
 "metadata": {
  "kernelspec": {
   "display_name": ".venv",
   "language": "python",
   "name": "python3"
  },
  "language_info": {
   "codemirror_mode": {
    "name": "ipython",
    "version": 3
   },
   "file_extension": ".py",
   "mimetype": "text/x-python",
   "name": "python",
   "nbconvert_exporter": "python",
   "pygments_lexer": "ipython3",
   "version": "3.11.4"
  },
  "orig_nbformat": 4
 },
 "nbformat": 4,
 "nbformat_minor": 2
}
