{
 "cells": [
  {
   "cell_type": "code",
   "execution_count": 2,
   "metadata": {},
   "outputs": [],
   "source": [
    "import torch\n",
    "import torchaudio\n",
    "\n",
    "from cnn_arch_2 import CNNNetwork\n",
    "from dataset import UrbanSoundDataset\n",
    "from train import AUDIO_DIR, ANNOTATIONS_FILE, SAMPLE_RATE, NUM_SAMPLES"
   ]
  },
  {
   "cell_type": "code",
   "execution_count": 14,
   "metadata": {},
   "outputs": [
    {
     "name": "stdout",
     "output_type": "stream",
     "text": [
      "Predicted: 'children_playing', expected: 'engine_idling'\n"
     ]
    }
   ],
   "source": [
    "class_mapping = [\n",
    "    \"air_conditioner\",\n",
    "    \"car_horn\",\n",
    "    \"children_playing\",\n",
    "    \"dog_bark\",\n",
    "    \"drilling\",\n",
    "    \"engine_idling\",\n",
    "    \"gun_shot\",\n",
    "    \"jackhammer\",\n",
    "    \"siren\",\n",
    "    \"street_music\"\n",
    "]\n",
    "\n",
    "def predict(model, input, target, class_mapping):\n",
    "    model.eval()\n",
    "    with torch.no_grad():\n",
    "        predictions = model(input)\n",
    "        #Tensor (1, 10) -> [ [0.1, 0.01, ..., 0.6] ]\n",
    "        predicted_index = predictions[0].argmax(0)\n",
    "        predicted = class_mapping[predicted_index]\n",
    "        expected = class_mapping[target]\n",
    "    return predicted, expected\n",
    "\n",
    "\n",
    "if __name__ ==\"__main__\":\n",
    "    # load back the model\n",
    "    cnn = CNNNetwork()\n",
    "    state_dict = torch.load(\"cnn.pth\")\n",
    "    cnn.load_state_dict(state_dict)\n",
    "    \n",
    "    # load urban sound dataset dataset\n",
    "    \n",
    "    mel_spectrogram = torchaudio.transforms.MelSpectrogram(\n",
    "        sample_rate=SAMPLE_RATE,\n",
    "        n_fft=1024,\n",
    "        hop_length=512,\n",
    "        n_mels=64\n",
    "    )\n",
    "\n",
    "    usd = UrbanSoundDataset(ANNOTATIONS_FILE,\n",
    "                            AUDIO_DIR,\n",
    "                            mel_spectrogram,\n",
    "                            SAMPLE_RATE,\n",
    "                            NUM_SAMPLES,\n",
    "                            \"cpu\")\n",
    "    \n",
    "    # get a sample from the dataset for inference\n",
    "    input, target = usd[124][0], usd[124][1] # 3 dims[batch_size, num_channels, freq, time]\n",
    "    # need 4 dimensions :\n",
    "    input.unsqueeze_(0)\n",
    "\n",
    "    \n",
    "    # make an inference\n",
    "    predicted, expected = predict(cnn, input, target, class_mapping)\n",
    "    print(f\"Predicted: '{predicted}', expected: '{expected}'\")"
   ]
  }
 ],
 "metadata": {
  "kernelspec": {
   "display_name": ".venv",
   "language": "python",
   "name": "python3"
  },
  "language_info": {
   "codemirror_mode": {
    "name": "ipython",
    "version": 3
   },
   "file_extension": ".py",
   "mimetype": "text/x-python",
   "name": "python",
   "nbconvert_exporter": "python",
   "pygments_lexer": "ipython3",
   "version": "3.11.4"
  }
 },
 "nbformat": 4,
 "nbformat_minor": 2
}
